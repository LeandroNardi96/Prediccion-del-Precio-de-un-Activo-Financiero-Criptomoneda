{
 "cells": [
  {
   "cell_type": "markdown",
   "id": "22984c7d",
   "metadata": {},
   "source": [
    "## Workshop Final: Título del trabajo"
   ]
  },
  {
   "cell_type": "markdown",
   "id": "e4b6b322",
   "metadata": {},
   "source": [
    "### Hacer el índice"
   ]
  },
  {
   "cell_type": "markdown",
   "id": "8b557b6c",
   "metadata": {},
   "source": [
    "En primera instancia, se cargarán todas las bibliotecas a utilizar. Algunas de ellas no se encuentran en el ambiente o requieren ser actualizadas, es por ello que dejamos las siguientes líneas comentadas para que se instalen las mismas"
   ]
  },
  {
   "cell_type": "code",
   "execution_count": null,
   "id": "b3a68d30",
   "metadata": {},
   "outputs": [],
   "source": [
    "#!pip install --upgrade pandas --user"
   ]
  },
  {
   "cell_type": "code",
   "execution_count": null,
   "id": "69f1ffe6",
   "metadata": {},
   "outputs": [],
   "source": [
    "#!pip install --upgrade pandas-datareader --user"
   ]
  },
  {
   "cell_type": "markdown",
   "id": "6b780d80",
   "metadata": {},
   "source": [
    "En caso que tire error cuando quiera conectarse a la API de yahoo finance (en la función evaluación), recomendamos reiniciar jupyter lab una vez instaladas y actualizadas las librerías, o bien instalarlas directamente desde anaconda promt, mediante las siguientes sintaxis:\n",
    "- pip install --upgrade pandas\n",
    "- pip install --upgrade pandas-datareader"
   ]
  },
  {
   "cell_type": "code",
   "execution_count": 1,
   "id": "1b7ace3e",
   "metadata": {},
   "outputs": [],
   "source": [
    "import pandas as pd\n",
    "import numpy as np\n",
    "\n",
    "import matplotlib.pyplot as plt\n",
    "import matplotlib as mpl\n",
    "import seaborn as sns\n",
    "%matplotlib inline\n",
    "\n",
    "import statsmodels.api as sm\n",
    "import statsmodels.formula.api as smf\n",
    "import statsmodels.tsa.api as smt\n",
    "\n",
    "from scipy import stats\n",
    "from statistics import mode\n",
    "\n",
    "import warnings\n",
    "warnings.filterwarnings('ignore')\n",
    "\n",
    "import pandas_datareader.data as web\n",
    "import datetime\n",
    "from sklearn.model_selection import train_test_split\n",
    "\n",
    "from statsmodels.tsa.stattools import adfuller\n",
    "\n",
    "from statsmodels.tsa.stattools import acf, pacf\n",
    "from statsmodels.graphics.tsaplots import plot_acf, plot_pacf\n",
    "\n",
    "from statsmodels.tsa.arima_model import ARIMA"
   ]
  },
  {
   "cell_type": "code",
   "execution_count": 15,
   "id": "b8570690",
   "metadata": {},
   "outputs": [],
   "source": [
    "def seasonality(df):\n",
    "    df['month'] = [d.strftime('%b') for d in df.index]\n",
    "    dummies_mes = pd.get_dummies(df['month'],drop_first=True)\n",
    "    df = df.join(dummies_mes)\n",
    "    string = 'Aug + Dec + Feb + Jan + Jul + Jun + Mar + May + Nov + Oct + Sep '\n",
    "    return (df,string)"
   ]
  },
  {
   "cell_type": "code",
   "execution_count": 16,
   "id": "084106d1",
   "metadata": {},
   "outputs": [],
   "source": [
    "def eleccion_modelo(model,df,estacionalidad):\n",
    "    if model == 'linear':\n",
    "        if estacionalidad:\n",
    "            df, est = seasonality(df)\n",
    "            string = 'Close ~ timeIndex + Volume' + ' + ' + est\n",
    "            return(df,string)\n",
    "        \n",
    "        string = 'Close ~ timeIndex + Volume'\n",
    "        return (df,string)\n",
    "    \n",
    "    elif model == 'quad':\n",
    "        df[\"timeIndex_sq\"] = df[\"timeIndex\"]**2\n",
    "        if estacionalidad:\n",
    "            df, est = seasonality(df)\n",
    "            string = 'Close ~ timeIndex + timeIndex_sq + Volume' + ' + ' + est\n",
    "            return(df,string)\n",
    "        \n",
    "        string = 'Close ~ timeIndex + timeIndex_sq + Volume'\n",
    "        return(df,string)\n",
    "    \n",
    "    elif model == 'log':\n",
    "        df['log_value'] = np.log(df['Close'])\n",
    "        if estacionalidad:\n",
    "            df, est = seasonality(df)\n",
    "            string = 'log_value ~ timeIndex + Volume' + ' + ' + est\n",
    "            return(df,string)\n",
    "        \n",
    "        string = 'log_value ~ timeIndex + Volume'\n",
    "        return(df,string)\n",
    "            \n",
    "    "
   ]
  },
  {
   "cell_type": "code",
   "execution_count": 17,
   "id": "df6c42db",
   "metadata": {},
   "outputs": [],
   "source": [
    "def evaluacion (activo,start,pred_size,lags,model,estacionalidad):\n",
    "    tipo = 0\n",
    "    start = datetime.datetime.strptime(start,\"%Y, %m, %d\" )\n",
    "    end = datetime.datetime.now()\n",
    "    df = web.get_data_yahoo(activo, start, end, interval=\"m\")\n",
    "    df = df[[\"Close\",\"Volume\"]]\n",
    "    df[\"timeIndex\"] = pd.Series(np.arange(len(df['Close'])), index=df.index)\n",
    "    \n",
    "    df, string = eleccion_modelo(model=model,df=df,estacionalidad=estacionalidad)\n",
    "    \n",
    "    df_train, df_test = train_test_split(df, test_size=pred_size, random_state=42, shuffle=False)\n",
    "    \n",
    "    modelo = smf.ols(string, data = df_train).fit()\n",
    "    \n",
    "    if estacionalidad:\n",
    "        if model == 'quad':\n",
    "            \n",
    "            df_train['model'] = modelo.predict(df_train[[\"timeIndex\",\"timeIndex_sq\",\"Volume\",\\\n",
    "                                        \"Aug\", \"Dec\", \"Feb\", \"Jan\",\"Jul\", \"Jun\", \"Mar\", \"May\",\\\n",
    "                                                \"Nov\", \"Oct\", \"Sep\"]])\n",
    "        \n",
    "            df_test['model'] = modelo.predict(df_test[[\"timeIndex\",\"timeIndex_sq\", \"Volume\",\\\n",
    "                                            \"Aug\", \"Dec\", \"Feb\", \"Jan\",\"Jul\", \"Jun\", \"Mar\", \"May\",\\\n",
    "                                                \"Nov\", \"Oct\", \"Sep\"]])\n",
    "        else:   \n",
    "            df_train['model'] = modelo.predict(df_train[[\"timeIndex\", \"Volume\",\\\n",
    "                                            \"Aug\", \"Dec\", \"Feb\", \"Jan\",\"Jul\", \"Jun\", \"Mar\", \"May\",\\\n",
    "                                                \"Nov\", \"Oct\", \"Sep\"]])\n",
    "        \n",
    "            df_test['model'] = modelo.predict(df_test[[\"timeIndex\", \"Volume\",\\\n",
    "                                            \"Aug\", \"Dec\", \"Feb\", \"Jan\",\"Jul\", \"Jun\", \"Mar\", \"May\",\\\n",
    "                                                \"Nov\", \"Oct\", \"Sep\"]])\n",
    "    else:\n",
    "        if model == 'quad':\n",
    "            df_train['model'] = modelo.predict(df_train[[\"timeIndex\", \"timeIndex_sq\",\"Volume\"]])\n",
    "            df_test['model'] = modelo.predict(df_test[[\"timeIndex\", \"timeIndex_sq\",\"Volume\"]])\n",
    "        else:\n",
    "            df_train['model'] = modelo.predict(df_train[[\"timeIndex\", \"Volume\"]])\n",
    "            df_test['model'] = modelo.predict(df_test[[\"timeIndex\", \"Volume\"]])\n",
    "\n",
    "    \n",
    "    \n",
    "    if model == 'log':\n",
    "        df_train['back_model_log_est'] = np.exp(df_train['model'])\n",
    "        df_test['back_model_log_est'] = np.exp(df_test['model'])\n",
    "        res_model = df_train['Close'] - df_train['back_model_log_est']\n",
    "        res_log_est = df_train['log_value'] - df_train['model']\n",
    "        result = adfuller(res_model)\n",
    "        result1 = adfuller(res_log_est)\n",
    "    else:\n",
    "        res_model = df_train['Close'] - df_train['model']\n",
    "        result = adfuller(res_model)\n",
    "        result1 = result\n",
    "        \n",
    "    if result[1]<0.05:\n",
    "        print(\"elegimos el residuo del precio de cierre - exp(log est) - p=\",result[1])\n",
    "        modelo = res_model\n",
    "        tsplot (res_model,lags=lags)\n",
    "        tipo = 1\n",
    "    elif result1[1]<0.05:\n",
    "        print(\"elegimos el residuo del log precio de cierre - log est - p=\",result1[1])\n",
    "        modelo = res_log_est\n",
    "        tsplot (res_log_est,lags=lags)\n",
    "        tipo = 2\n",
    "    else:\n",
    "        return print(\"la serie no es estacionaria, hacer mas diferenciación\")\n",
    "    return (modelo,df_train,df_test,tipo,model)"
   ]
  },
  {
   "cell_type": "code",
   "execution_count": 18,
   "id": "9c0d9dd4",
   "metadata": {},
   "outputs": [],
   "source": [
    "def tsplot(y, lags=None, figsize=(12, 7), style='bmh'):\n",
    "    \"\"\" \n",
    "        Plotea la serie de tiempo, el ACF y PACF y el test de Dickey–Fuller\n",
    "        \n",
    "        y - serie de tiempo\n",
    "        lags - cuántos lags incluir para el cálculo de la ACF y PACF\n",
    "        \n",
    "    \"\"\"\n",
    "    if not isinstance(y, pd.Series):\n",
    "        y = pd.Series(y)\n",
    "        \n",
    "    with plt.style.context(style):    \n",
    "        fig = plt.figure(figsize=figsize)\n",
    "        layout = (2, 2)\n",
    "        \n",
    "        # definimos ejes\n",
    "        ts_ax = plt.subplot2grid(layout, (0, 0), colspan=2)\n",
    "        acf_ax = plt.subplot2grid(layout, (1, 0))\n",
    "        pacf_ax = plt.subplot2grid(layout, (1, 1))\n",
    "        \n",
    "        y.plot(ax=ts_ax)\n",
    "        \n",
    "        # obtengo el p-value con h0: raiz unitaria presente\n",
    "        p_value = sm.tsa.stattools.adfuller(y)[1]\n",
    "        \n",
    "        ts_ax.set_title('Análisis de la Serie de Tiempo\\n Dickey-Fuller: p={0:.5f}'\\\n",
    "                        .format(p_value))\n",
    "        \n",
    "        # plot de autocorrelacion\n",
    "        smt.graphics.plot_acf(y, lags=lags, ax=acf_ax)\n",
    "        # plot de autocorrelacion parcial\n",
    "        smt.graphics.plot_pacf(y, lags=lags, ax=pacf_ax)\n",
    "        plt.tight_layout()"
   ]
  },
  {
   "cell_type": "code",
   "execution_count": 19,
   "id": "ba7f7e91",
   "metadata": {},
   "outputs": [],
   "source": [
    "def arima (modelo,p,d,q,alpha):\n",
    "    model_ARIMA = ARIMA(modelo[0], order=(p,d,q))\n",
    "    results_ARIMA = model_ARIMA.fit()\n",
    "    res_ARIMA =  results_ARIMA.fittedvalues - modelo[0]\n",
    "    predictions_ARIMA, se, conf = results_ARIMA.forecast(len(modelo[2]['Close']), alpha=alpha)\n",
    "    if modelo[3] == 1 and modelo[4] == 'log':\n",
    "        modelo[1]['model_ARIMA'] = modelo[1]['back_model_log_est'] + results_ARIMA.fittedvalues\n",
    "        modelo[2]['model_ARIMA'] = modelo[2]['back_model_log_est'] + predictions_ARIMA\n",
    "        \n",
    "    elif modelo[3] == 2 and modelo[4] == 'log':\n",
    "        modelo[1]['model_ARIMA'] = np.exp(modelo[1]['model'] + results_ARIMA.fittedvalues)\n",
    "        modelo[2]['model_ARIMA'] = np.exp(modelo[2]['model'] + predictions_ARIMA)\n",
    "        \n",
    "    else:\n",
    "        modelo[1]['model_ARIMA'] = modelo[1]['model'] + results_ARIMA.fittedvalues\n",
    "        modelo[2]['model_ARIMA'] = modelo[2]['model'] + predictions_ARIMA\n",
    "    modelo[1].plot(kind = \"line\", y = ['Close', 'model_ARIMA']);\n",
    "    modelo[2].plot(kind = \"line\", y = ['Close', 'model_ARIMA']);"
   ]
  },
  {
   "cell_type": "code",
   "execution_count": 38,
   "id": "f3ee6d0f",
   "metadata": {},
   "outputs": [
    {
     "name": "stdout",
     "output_type": "stream",
     "text": [
      "elegimos el residuo del precio de cierre - exp(log est) - p= 0.01630809248702762\n"
     ]
    },
    {
     "data": {
      "image/png": "[encoded data removed]",
      "text/plain": [
       "<Figure size 864x504 with 3 Axes>"
      ]
     },
     "metadata": {
      "needs_background": "light"
     },
     "output_type": "display_data"
    }
   ],
   "source": [
    "modelo = evaluacion(\"btc-usd\",\"2015, 1, 1\",6,20,model='quad',estacionalidad=True)"
   ]
  },
  {
   "cell_type": "code",
   "execution_count": 35,
   "id": "306f69e3",
   "metadata": {},
   "outputs": [
    {
     "data": {
      "text/html": [
       "<div>\n",
       "<style scoped>\n",
       "    .dataframe tbody tr th:only-of-type {\n",
       "        vertical-align: middle;\n",
       "    }\n",
       "\n",
       "    .dataframe tbody tr th {\n",
       "        vertical-align: top;\n",
       "    }\n",
       "\n",
       "    .dataframe thead th {\n",
       "        text-align: right;\n",
       "    }\n",
       "</style>\n",
       "<table border=\"1\" class=\"dataframe\">\n",
       "  <thead>\n",
       "    <tr style=\"text-align: right;\">\n",
       "      <th></th>\n",
       "      <th>Close</th>\n",
       "      <th>Volume</th>\n",
       "      <th>timeIndex</th>\n",
       "      <th>month</th>\n",
       "      <th>Aug</th>\n",
       "      <th>Dec</th>\n",
       "      <th>Feb</th>\n",
       "      <th>Jan</th>\n",
       "      <th>Jul</th>\n",
       "      <th>Jun</th>\n",
       "      <th>Mar</th>\n",
       "      <th>May</th>\n",
       "      <th>Nov</th>\n",
       "      <th>Oct</th>\n",
       "      <th>Sep</th>\n",
       "      <th>model</th>\n",
       "    </tr>\n",
       "    <tr>\n",
       "      <th>Date</th>\n",
       "      <th></th>\n",
       "      <th></th>\n",
       "      <th></th>\n",
       "      <th></th>\n",
       "      <th></th>\n",
       "      <th></th>\n",
       "      <th></th>\n",
       "      <th></th>\n",
       "      <th></th>\n",
       "      <th></th>\n",
       "      <th></th>\n",
       "      <th></th>\n",
       "      <th></th>\n",
       "      <th></th>\n",
       "      <th></th>\n",
       "      <th></th>\n",
       "    </tr>\n",
       "  </thead>\n",
       "  <tbody>\n",
       "    <tr>\n",
       "      <th>2021-05-31</th>\n",
       "      <td>35040.835938</td>\n",
       "      <td>1189647451707</td>\n",
       "      <td>77</td>\n",
       "      <td>May</td>\n",
       "      <td>0</td>\n",
       "      <td>0</td>\n",
       "      <td>0</td>\n",
       "      <td>0</td>\n",
       "      <td>0</td>\n",
       "      <td>0</td>\n",
       "      <td>0</td>\n",
       "      <td>1</td>\n",
       "      <td>0</td>\n",
       "      <td>0</td>\n",
       "      <td>0</td>\n",
       "      <td>21724.545689</td>\n",
       "    </tr>\n",
       "    <tr>\n",
       "      <th>2021-06-30</th>\n",
       "      <td>41626.195312</td>\n",
       "      <td>819103381204</td>\n",
       "      <td>78</td>\n",
       "      <td>Jun</td>\n",
       "      <td>0</td>\n",
       "      <td>0</td>\n",
       "      <td>0</td>\n",
       "      <td>0</td>\n",
       "      <td>0</td>\n",
       "      <td>1</td>\n",
       "      <td>0</td>\n",
       "      <td>0</td>\n",
       "      <td>0</td>\n",
       "      <td>0</td>\n",
       "      <td>0</td>\n",
       "      <td>15522.129648</td>\n",
       "    </tr>\n",
       "    <tr>\n",
       "      <th>2021-07-31</th>\n",
       "      <td>47166.687500</td>\n",
       "      <td>1014674184428</td>\n",
       "      <td>79</td>\n",
       "      <td>Jul</td>\n",
       "      <td>0</td>\n",
       "      <td>0</td>\n",
       "      <td>0</td>\n",
       "      <td>0</td>\n",
       "      <td>1</td>\n",
       "      <td>0</td>\n",
       "      <td>0</td>\n",
       "      <td>0</td>\n",
       "      <td>0</td>\n",
       "      <td>0</td>\n",
       "      <td>0</td>\n",
       "      <td>19271.871602</td>\n",
       "    </tr>\n",
       "    <tr>\n",
       "      <th>2021-08-31</th>\n",
       "      <td>43790.894531</td>\n",
       "      <td>1102139678824</td>\n",
       "      <td>80</td>\n",
       "      <td>Aug</td>\n",
       "      <td>1</td>\n",
       "      <td>0</td>\n",
       "      <td>0</td>\n",
       "      <td>0</td>\n",
       "      <td>0</td>\n",
       "      <td>0</td>\n",
       "      <td>0</td>\n",
       "      <td>0</td>\n",
       "      <td>0</td>\n",
       "      <td>0</td>\n",
       "      <td>0</td>\n",
       "      <td>20063.150236</td>\n",
       "    </tr>\n",
       "    <tr>\n",
       "      <th>2021-09-30</th>\n",
       "      <td>53967.847656</td>\n",
       "      <td>290003645696</td>\n",
       "      <td>81</td>\n",
       "      <td>Sep</td>\n",
       "      <td>0</td>\n",
       "      <td>0</td>\n",
       "      <td>0</td>\n",
       "      <td>0</td>\n",
       "      <td>0</td>\n",
       "      <td>0</td>\n",
       "      <td>0</td>\n",
       "      <td>0</td>\n",
       "      <td>0</td>\n",
       "      <td>0</td>\n",
       "      <td>1</td>\n",
       "      <td>5669.306150</td>\n",
       "    </tr>\n",
       "    <tr>\n",
       "      <th>2021-10-09</th>\n",
       "      <td>54871.253906</td>\n",
       "      <td>32077387776</td>\n",
       "      <td>82</td>\n",
       "      <td>Oct</td>\n",
       "      <td>0</td>\n",
       "      <td>0</td>\n",
       "      <td>0</td>\n",
       "      <td>0</td>\n",
       "      <td>0</td>\n",
       "      <td>0</td>\n",
       "      <td>0</td>\n",
       "      <td>0</td>\n",
       "      <td>0</td>\n",
       "      <td>1</td>\n",
       "      <td>0</td>\n",
       "      <td>-2636.396403</td>\n",
       "    </tr>\n",
       "  </tbody>\n",
       "</table>\n",
       "</div>"
      ],
      "text/plain": [
       "                   Close         Volume  timeIndex month  Aug  Dec  Feb  Jan  \\\n",
       "Date                                                                           \n",
       "2021-05-31  35040.835938  1189647451707         77   May    0    0    0    0   \n",
       "2021-06-30  41626.195312   819103381204         78   Jun    0    0    0    0   \n",
       "2021-07-31  47166.687500  1014674184428         79   Jul    0    0    0    0   \n",
       "2021-08-31  43790.894531  1102139678824         80   Aug    1    0    0    0   \n",
       "2021-09-30  53967.847656   290003645696         81   Sep    0    0    0    0   \n",
       "2021-10-09  54871.253906    32077387776         82   Oct    0    0    0    0   \n",
       "\n",
       "            Jul  Jun  Mar  May  Nov  Oct  Sep         model  \n",
       "Date                                                         \n",
       "2021-05-31    0    0    0    1    0    0    0  21724.545689  \n",
       "2021-06-30    0    1    0    0    0    0    0  15522.129648  \n",
       "2021-07-31    1    0    0    0    0    0    0  19271.871602  \n",
       "2021-08-31    0    0    0    0    0    0    0  20063.150236  \n",
       "2021-09-30    0    0    0    0    0    0    1   5669.306150  \n",
       "2021-10-09    0    0    0    0    0    1    0  -2636.396403  "
      ]
     },
     "execution_count": 35,
     "metadata": {},
     "output_type": "execute_result"
    }
   ],
   "source": [
    "modelo[2]"
   ]
  },
  {
   "cell_type": "code",
   "execution_count": 39,
   "id": "76bd745a",
   "metadata": {},
   "outputs": [
    {
     "data": {
      "text/html": [
       "<div>\n",
       "<style scoped>\n",
       "    .dataframe tbody tr th:only-of-type {\n",
       "        vertical-align: middle;\n",
       "    }\n",
       "\n",
       "    .dataframe tbody tr th {\n",
       "        vertical-align: top;\n",
       "    }\n",
       "\n",
       "    .dataframe thead th {\n",
       "        text-align: right;\n",
       "    }\n",
       "</style>\n",
       "<table border=\"1\" class=\"dataframe\">\n",
       "  <thead>\n",
       "    <tr style=\"text-align: right;\">\n",
       "      <th></th>\n",
       "      <th>Close</th>\n",
       "      <th>Volume</th>\n",
       "      <th>timeIndex</th>\n",
       "      <th>timeIndex_sq</th>\n",
       "      <th>month</th>\n",
       "      <th>Aug</th>\n",
       "      <th>Dec</th>\n",
       "      <th>Feb</th>\n",
       "      <th>Jan</th>\n",
       "      <th>Jul</th>\n",
       "      <th>Jun</th>\n",
       "      <th>Mar</th>\n",
       "      <th>May</th>\n",
       "      <th>Nov</th>\n",
       "      <th>Oct</th>\n",
       "      <th>Sep</th>\n",
       "      <th>model</th>\n",
       "    </tr>\n",
       "    <tr>\n",
       "      <th>Date</th>\n",
       "      <th></th>\n",
       "      <th></th>\n",
       "      <th></th>\n",
       "      <th></th>\n",
       "      <th></th>\n",
       "      <th></th>\n",
       "      <th></th>\n",
       "      <th></th>\n",
       "      <th></th>\n",
       "      <th></th>\n",
       "      <th></th>\n",
       "      <th></th>\n",
       "      <th></th>\n",
       "      <th></th>\n",
       "      <th></th>\n",
       "      <th></th>\n",
       "      <th></th>\n",
       "    </tr>\n",
       "  </thead>\n",
       "  <tbody>\n",
       "    <tr>\n",
       "      <th>2021-05-31</th>\n",
       "      <td>35040.835938</td>\n",
       "      <td>1189647451707</td>\n",
       "      <td>77</td>\n",
       "      <td>5929</td>\n",
       "      <td>May</td>\n",
       "      <td>0</td>\n",
       "      <td>0</td>\n",
       "      <td>0</td>\n",
       "      <td>0</td>\n",
       "      <td>0</td>\n",
       "      <td>0</td>\n",
       "      <td>0</td>\n",
       "      <td>1</td>\n",
       "      <td>0</td>\n",
       "      <td>0</td>\n",
       "      <td>0</td>\n",
       "      <td>22044.437446</td>\n",
       "    </tr>\n",
       "    <tr>\n",
       "      <th>2021-06-30</th>\n",
       "      <td>41626.195312</td>\n",
       "      <td>819103381204</td>\n",
       "      <td>78</td>\n",
       "      <td>6084</td>\n",
       "      <td>Jun</td>\n",
       "      <td>0</td>\n",
       "      <td>0</td>\n",
       "      <td>0</td>\n",
       "      <td>0</td>\n",
       "      <td>0</td>\n",
       "      <td>1</td>\n",
       "      <td>0</td>\n",
       "      <td>0</td>\n",
       "      <td>0</td>\n",
       "      <td>0</td>\n",
       "      <td>0</td>\n",
       "      <td>15994.815430</td>\n",
       "    </tr>\n",
       "    <tr>\n",
       "      <th>2021-07-31</th>\n",
       "      <td>47166.687500</td>\n",
       "      <td>1014674184428</td>\n",
       "      <td>79</td>\n",
       "      <td>6241</td>\n",
       "      <td>Jul</td>\n",
       "      <td>0</td>\n",
       "      <td>0</td>\n",
       "      <td>0</td>\n",
       "      <td>0</td>\n",
       "      <td>1</td>\n",
       "      <td>0</td>\n",
       "      <td>0</td>\n",
       "      <td>0</td>\n",
       "      <td>0</td>\n",
       "      <td>0</td>\n",
       "      <td>0</td>\n",
       "      <td>19704.178280</td>\n",
       "    </tr>\n",
       "    <tr>\n",
       "      <th>2021-08-31</th>\n",
       "      <td>43790.894531</td>\n",
       "      <td>1102139678824</td>\n",
       "      <td>80</td>\n",
       "      <td>6400</td>\n",
       "      <td>Aug</td>\n",
       "      <td>1</td>\n",
       "      <td>0</td>\n",
       "      <td>0</td>\n",
       "      <td>0</td>\n",
       "      <td>0</td>\n",
       "      <td>0</td>\n",
       "      <td>0</td>\n",
       "      <td>0</td>\n",
       "      <td>0</td>\n",
       "      <td>0</td>\n",
       "      <td>0</td>\n",
       "      <td>20498.368934</td>\n",
       "    </tr>\n",
       "    <tr>\n",
       "      <th>2021-09-30</th>\n",
       "      <td>53967.847656</td>\n",
       "      <td>290003645696</td>\n",
       "      <td>81</td>\n",
       "      <td>6561</td>\n",
       "      <td>Sep</td>\n",
       "      <td>0</td>\n",
       "      <td>0</td>\n",
       "      <td>0</td>\n",
       "      <td>0</td>\n",
       "      <td>0</td>\n",
       "      <td>0</td>\n",
       "      <td>0</td>\n",
       "      <td>0</td>\n",
       "      <td>0</td>\n",
       "      <td>0</td>\n",
       "      <td>1</td>\n",
       "      <td>6418.769223</td>\n",
       "    </tr>\n",
       "    <tr>\n",
       "      <th>2021-10-09</th>\n",
       "      <td>54873.531250</td>\n",
       "      <td>32076206080</td>\n",
       "      <td>82</td>\n",
       "      <td>6724</td>\n",
       "      <td>Oct</td>\n",
       "      <td>0</td>\n",
       "      <td>0</td>\n",
       "      <td>0</td>\n",
       "      <td>0</td>\n",
       "      <td>0</td>\n",
       "      <td>0</td>\n",
       "      <td>0</td>\n",
       "      <td>0</td>\n",
       "      <td>0</td>\n",
       "      <td>1</td>\n",
       "      <td>0</td>\n",
       "      <td>-1693.449423</td>\n",
       "    </tr>\n",
       "  </tbody>\n",
       "</table>\n",
       "</div>"
      ],
      "text/plain": [
       "                   Close         Volume  timeIndex  timeIndex_sq month  Aug  \\\n",
       "Date                                                                          \n",
       "2021-05-31  35040.835938  1189647451707         77          5929   May    0   \n",
       "2021-06-30  41626.195312   819103381204         78          6084   Jun    0   \n",
       "2021-07-31  47166.687500  1014674184428         79          6241   Jul    0   \n",
       "2021-08-31  43790.894531  1102139678824         80          6400   Aug    1   \n",
       "2021-09-30  53967.847656   290003645696         81          6561   Sep    0   \n",
       "2021-10-09  54873.531250    32076206080         82          6724   Oct    0   \n",
       "\n",
       "            Dec  Feb  Jan  Jul  Jun  Mar  May  Nov  Oct  Sep         model  \n",
       "Date                                                                        \n",
       "2021-05-31    0    0    0    0    0    0    1    0    0    0  22044.437446  \n",
       "2021-06-30    0    0    0    0    1    0    0    0    0    0  15994.815430  \n",
       "2021-07-31    0    0    0    1    0    0    0    0    0    0  19704.178280  \n",
       "2021-08-31    0    0    0    0    0    0    0    0    0    0  20498.368934  \n",
       "2021-09-30    0    0    0    0    0    0    0    0    0    1   6418.769223  \n",
       "2021-10-09    0    0    0    0    0    0    0    0    1    0  -1693.449423  "
      ]
     },
     "execution_count": 39,
     "metadata": {},
     "output_type": "execute_result"
    }
   ],
   "source": [
    "modelo[2]"
   ]
  },
  {
   "cell_type": "code",
   "execution_count": 37,
   "id": "dccf19b6",
   "metadata": {},
   "outputs": [
    {
     "data": {
      "image/png": "[encoded data removed]",
      "text/plain": [
       "<Figure size 432x288 with 1 Axes>"
      ]
     },
     "metadata": {
      "needs_background": "light"
     },
     "output_type": "display_data"
    },
    {
     "data": {
      "image/png": "[encoded data removed]",
      "text/plain": [
       "<Figure size 432x288 with 1 Axes>"
      ]
     },
     "metadata": {
      "needs_background": "light"
     },
     "output_type": "display_data"
    }
   ],
   "source": [
    "arima(modelo,2,0,2,0.05)"
   ]
  },
  {
   "cell_type": "code",
   "execution_count": null,
   "id": "553b1f2b",
   "metadata": {},
   "outputs": [],
   "source": []
  },
  {
   "cell_type": "code",
   "execution_count": null,
   "id": "cafc9c85",
   "metadata": {},
   "outputs": [],
   "source": []
  },
  {
   "cell_type": "code",
   "execution_count": null,
   "id": "1cc8b2a8",
   "metadata": {},
   "outputs": [],
   "source": []
  },
  {
   "cell_type": "code",
   "execution_count": null,
   "id": "279e5583",
   "metadata": {},
   "outputs": [],
   "source": []
  },
  {
   "cell_type": "markdown",
   "id": "0fe327f2",
   "metadata": {},
   "source": [
    "#para abajo es codigo repetido o que no utilicé arriba!"
   ]
  },
  {
   "cell_type": "code",
   "execution_count": null,
   "id": "2c70ecb9",
   "metadata": {},
   "outputs": [],
   "source": [
    "start = datetime.datetime(2010, 1, 1)\n",
    "end = datetime.datetime.now()\n",
    "df = web.get_data_yahoo(\"ko\", start, end, interval=\"m\")\n",
    "df = df[[\"Close\",\"Volume\"]]"
   ]
  },
  {
   "cell_type": "code",
   "execution_count": null,
   "id": "71228cf4",
   "metadata": {},
   "outputs": [],
   "source": [
    "df[\"timeIndex\"] = pd.Series(np.arange(len(df['Close'])), index=df.index)\n",
    "df['log_value'] = np.log(df['Close'])\n",
    "df[\"sqrt\"] = np.sqrt(df[\"Close\"])\n",
    "\n",
    "df['month'] = [d.strftime('%b') for d in df.index]\n",
    "#df[\"day\"] = [d.strftime('%d') for d in df.index]\n",
    "dummies_mes = pd.get_dummies(df['month'],drop_first=True)\n",
    "#dummies_dia = pd.get_dummies(df['day'],drop_first=True,prefix=\"day\")\n",
    "df = df.join(dummies_mes)\n",
    "#df = df.join(dummies_dia)\n"
   ]
  },
  {
   "cell_type": "code",
   "execution_count": null,
   "id": "c61c5502",
   "metadata": {},
   "outputs": [],
   "source": [
    "df.tail()"
   ]
  },
  {
   "cell_type": "code",
   "execution_count": null,
   "id": "4c4ba7d6",
   "metadata": {},
   "outputs": [],
   "source": [
    "df.info()"
   ]
  },
  {
   "cell_type": "code",
   "execution_count": null,
   "id": "7e9a168e",
   "metadata": {},
   "outputs": [],
   "source": [
    "# Dividimos en train y test\n",
    "from sklearn.model_selection import train_test_split\n",
    "df_train, df_test = train_test_split(df, test_size=6, random_state=42, shuffle=False)"
   ]
  },
  {
   "cell_type": "code",
   "execution_count": null,
   "id": "5076d248",
   "metadata": {},
   "outputs": [],
   "source": []
  },
  {
   "cell_type": "code",
   "execution_count": null,
   "id": "04d28b98",
   "metadata": {},
   "outputs": [],
   "source": [
    "model_log_est = smf.ols('log_value ~ timeIndex + Volume + Aug + Dec + Feb + Jan + Jul + Jun + Mar + May + Nov + Oct + Sep ',data = df_train).fit()"
   ]
  },
  {
   "cell_type": "code",
   "execution_count": null,
   "id": "86468290",
   "metadata": {},
   "outputs": [],
   "source": [
    "df_train['model_log_est'] = model_log_est.predict(df_train[[\"timeIndex\", \"Volume\",\\\n",
    "                                        \"Aug\", \"Dec\", \"Feb\", \"Jan\",\"Jul\", \"Jun\", \"Mar\", \"May\",\\\n",
    "                                                \"Nov\", \"Oct\", \"Sep\"]])\n",
    "\n",
    "\n",
    "df_test['model_log_est'] = model_log_est.predict(df_test[[\"timeIndex\", \"Volume\",\\\n",
    "                                        \"Aug\", \"Dec\", \"Feb\", \"Jan\",\"Jul\", \"Jun\", \"Mar\", \"May\",\\\n",
    "                                                \"Nov\", \"Oct\", \"Sep\"]])"
   ]
  },
  {
   "cell_type": "code",
   "execution_count": null,
   "id": "0b68b1d0",
   "metadata": {},
   "outputs": [],
   "source": [
    "# Recuperamos el valor predicho aplicando la función exponencial sobre las predicciones.\n",
    "df_train['back_model_log_est'] = np.exp(df_train['model_log_est'])\n",
    "df_test['back_model_log_est'] = np.exp(df_test['model_log_est'])"
   ]
  },
  {
   "cell_type": "code",
   "execution_count": null,
   "id": "210cfc49",
   "metadata": {},
   "outputs": [],
   "source": []
  },
  {
   "cell_type": "raw",
   "id": "b83b1b65",
   "metadata": {},
   "source": [
    "model_sqrt_est = smf.ols('sqrt ~ timeIndex + day_02 + day_03 + day_04 + day_05 + day_06 + day_07 + day_08 + day_09 + day_10 + day_11 + day_12 + day_13 + day_14 + day_15 + day_16 + day_17 + day_18 + day_19 + day_20 + day_21 + day_22 + day_23 + day_24 + day_25 + day_26 + day_27 + day_28 + day_29 + day_30 + day_31 + Aug + Dec + Feb + Jan + Jul + Jun + Mar + May + Nov + Oct + Sep ',data = df_train).fit()"
   ]
  },
  {
   "cell_type": "raw",
   "id": "53ee1ce3",
   "metadata": {},
   "source": [
    "df_train['model_sqrt_est'] = model_sqrt_est.predict(df_train[[\"timeIndex\", \\\n",
    "                                        \"day_02\", \"day_03\", \"day_04\",\"day_05\",\\\n",
    "                                        \"day_06\",\"day_07\",\"day_08\",\"day_09\",\"day_10\",\\\n",
    "                                        \"day_11\",\"day_12\",\"day_13\",\"day_14\",\"day_15\",\\\n",
    "                                        \"day_16\",\"day_17\",\"day_18\",\"day_19\",\"day_20\",\\\n",
    "                                        \"day_21\",\"day_22\",\"day_23\",\"day_24\",\"day_25\",\\\n",
    "                                        \"day_26\",\"day_27\",\"day_28\",\"day_29\",\"day_30\",\"day_31\",\\\n",
    "                                        \"Aug\", \"Dec\", \"Feb\", \"Jan\",\"Jul\", \"Jun\", \"Mar\", \"May\",\\\n",
    "                                                \"Nov\", \"Oct\", \"Sep\"]])\n",
    "\n",
    "\n",
    "df_test['model_sqrt_est'] = model_sqrt_est.predict(df_test[[\"timeIndex\", \\\n",
    "                                        \"day_02\", \"day_03\", \"day_04\",\"day_05\",\\\n",
    "                                        \"day_06\",\"day_07\",\"day_08\",\"day_09\",\"day_10\",\\\n",
    "                                        \"day_11\",\"day_12\",\"day_13\",\"day_14\",\"day_15\",\\\n",
    "                                        \"day_16\",\"day_17\",\"day_18\",\"day_19\",\"day_20\",\\\n",
    "                                        \"day_21\",\"day_22\",\"day_23\",\"day_24\",\"day_25\",\\\n",
    "                                        \"day_26\",\"day_27\",\"day_28\",\"day_29\",\"day_30\",\"day_31\",\\\n",
    "                                        \"Aug\", \"Dec\", \"Feb\", \"Jan\",\"Jul\", \"Jun\", \"Mar\", \"May\",\\\n",
    "                                                \"Nov\", \"Oct\", \"Sep\"]])"
   ]
  },
  {
   "cell_type": "markdown",
   "id": "804ee80e",
   "metadata": {},
   "source": [
    "Resiudos del modelo"
   ]
  },
  {
   "cell_type": "code",
   "execution_count": null,
   "id": "1784cddb",
   "metadata": {},
   "outputs": [],
   "source": [
    "res_model = df_train['Close'] - df_train['back_model_log_est']\n",
    "\n",
    "plt.plot(df_train.timeIndex, res_model, '-');"
   ]
  },
  {
   "cell_type": "code",
   "execution_count": null,
   "id": "70631510",
   "metadata": {},
   "outputs": [],
   "source": [
    "# Testeamos la estacionariedad de los residuos:\n",
    "\n",
    "from statsmodels.tsa.stattools import adfuller\n",
    "\n",
    "result = adfuller(res_model)\n",
    "print('ADF Statistic: %f' % result[0])\n",
    "print('p-value: %f' % result[1])\n",
    "for key, value in  result[4].items():\n",
    "    print('Valor crítico %s: %.2f' % (key,value))"
   ]
  },
  {
   "cell_type": "markdown",
   "id": "09ddf5fb",
   "metadata": {},
   "source": [
    "Residuos del logaritmo"
   ]
  },
  {
   "cell_type": "code",
   "execution_count": null,
   "id": "c46c9da9",
   "metadata": {},
   "outputs": [],
   "source": [
    "res_log_est = df_train['log_value'] - df_train['model_log_est']\n",
    "\n",
    "plt.plot(df_train.timeIndex, res_log_est, '-');"
   ]
  },
  {
   "cell_type": "code",
   "execution_count": null,
   "id": "48e9ad31",
   "metadata": {},
   "outputs": [],
   "source": [
    "# Testeamos la estacionariedad de los residuos:\n",
    "\n",
    "from statsmodels.tsa.stattools import adfuller\n",
    "\n",
    "result = adfuller(res_log_est)\n",
    "print('ADF Statistic: %f' % result[0])\n",
    "print('p-value: %f' % result[1])\n",
    "for key, value in  result[4].items():\n",
    "    print('Valor crítico %s: %.2f' % (key,value))"
   ]
  },
  {
   "cell_type": "markdown",
   "id": "299ac53b",
   "metadata": {},
   "source": [
    "Residuos de la raiz cuadrada"
   ]
  },
  {
   "cell_type": "raw",
   "id": "d6ca139d",
   "metadata": {},
   "source": [
    "df_train['back_model_sqrt_est'] = (df_train['model_sqrt_est'])**2\n",
    "df_test['back_model_sqrt_est'] = (df_test['model_sqrt_est'])**2"
   ]
  },
  {
   "cell_type": "raw",
   "id": "3570a223",
   "metadata": {},
   "source": [
    "res_sqrt_est = df_train['Close'] - df_train['back_model_sqrt_est']\n",
    "\n",
    "plt.plot(df_train.timeIndex, res_sqrt_est, '-');"
   ]
  },
  {
   "cell_type": "raw",
   "id": "83b08fcb",
   "metadata": {},
   "source": [
    "# Testeamos la estacionariedad de los residuos:\n",
    "\n",
    "from statsmodels.tsa.stattools import adfuller\n",
    "\n",
    "result = adfuller(res_sqrt_est)\n",
    "print('ADF Statistic: %f' % result[0])\n",
    "print('p-value: %f' % result[1])\n",
    "for key, value in  result[4].items():\n",
    "    print('Valor crítico %s: %.2f' % (key,value))"
   ]
  },
  {
   "cell_type": "code",
   "execution_count": null,
   "id": "03519f67",
   "metadata": {},
   "outputs": [],
   "source": []
  },
  {
   "cell_type": "code",
   "execution_count": null,
   "id": "97d48317",
   "metadata": {},
   "outputs": [],
   "source": [
    "from statsmodels.tsa.stattools import acf, pacf\n",
    "from statsmodels.graphics.tsaplots import plot_acf, plot_pacf"
   ]
  },
  {
   "cell_type": "code",
   "execution_count": null,
   "id": "f7a18de4",
   "metadata": {},
   "outputs": [],
   "source": [
    "lag_acf = acf(res_model, nlags = 20)\n",
    "lag_acf"
   ]
  },
  {
   "cell_type": "code",
   "execution_count": null,
   "id": "c25337b3",
   "metadata": {},
   "outputs": [],
   "source": [
    "ACF = pd.Series(lag_acf)\n",
    "ACF.plot(kind = \"bar\");"
   ]
  },
  {
   "cell_type": "code",
   "execution_count": null,
   "id": "a6dcd026",
   "metadata": {},
   "outputs": [],
   "source": [
    "lag_pacf = pacf(res_model, nlags=20, method='ols');"
   ]
  },
  {
   "cell_type": "code",
   "execution_count": null,
   "id": "0ad1ad70",
   "metadata": {},
   "outputs": [],
   "source": [
    "PACF = pd.Series(lag_pacf)\n",
    "PACF.plot(kind = \"bar\");"
   ]
  },
  {
   "cell_type": "code",
   "execution_count": null,
   "id": "a6d50790",
   "metadata": {},
   "outputs": [],
   "source": [
    "def tsplot(y, lags=None, figsize=(12, 7), style='bmh'):\n",
    "    \"\"\" \n",
    "        Plotea la serie de tiempo, el ACF y PACF y el test de Dickey–Fuller\n",
    "        \n",
    "        y - serie de tiempo\n",
    "        lags - cuántos lags incluir para el cálculo de la ACF y PACF\n",
    "        \n",
    "    \"\"\"\n",
    "    if not isinstance(y, pd.Series):\n",
    "        y = pd.Series(y)\n",
    "        \n",
    "    with plt.style.context(style):    \n",
    "        fig = plt.figure(figsize=figsize)\n",
    "        layout = (2, 2)\n",
    "        \n",
    "        # definimos ejes\n",
    "        ts_ax = plt.subplot2grid(layout, (0, 0), colspan=2)\n",
    "        acf_ax = plt.subplot2grid(layout, (1, 0))\n",
    "        pacf_ax = plt.subplot2grid(layout, (1, 1))\n",
    "        \n",
    "        y.plot(ax=ts_ax)\n",
    "        \n",
    "        # obtengo el p-value con h0: raiz unitaria presente\n",
    "        p_value = sm.tsa.stattools.adfuller(y)[1]\n",
    "        \n",
    "        ts_ax.set_title('Análisis de la Serie de Tiempo\\n Dickey-Fuller: p={0:.5f}'\\\n",
    "                        .format(p_value))\n",
    "        \n",
    "        # plot de autocorrelacion\n",
    "        smt.graphics.plot_acf(y, lags=lags, ax=acf_ax)\n",
    "        # plot de autocorrelacion parcial\n",
    "        smt.graphics.plot_pacf(y, lags=lags, ax=pacf_ax)\n",
    "        plt.tight_layout()"
   ]
  },
  {
   "cell_type": "code",
   "execution_count": null,
   "id": "814f20bf",
   "metadata": {},
   "outputs": [],
   "source": [
    "tsplot(res_model, lags=40)"
   ]
  },
  {
   "cell_type": "code",
   "execution_count": null,
   "id": "c2f38503",
   "metadata": {},
   "outputs": [],
   "source": [
    "from statsmodels.tsa.arima_model import ARIMA"
   ]
  },
  {
   "cell_type": "code",
   "execution_count": null,
   "id": "ad84706b",
   "metadata": {},
   "outputs": [],
   "source": []
  },
  {
   "cell_type": "code",
   "execution_count": null,
   "id": "fea085d5",
   "metadata": {},
   "outputs": [],
   "source": [
    "model_ARIMA = ARIMA(res_model, order=(2,0,4))\n",
    "\n",
    "# Estimo el modelo:\n",
    "results_ARIMA = model_ARIMA.fit()\n",
    "results_ARIMA.fittedvalues.head()"
   ]
  },
  {
   "cell_type": "code",
   "execution_count": null,
   "id": "64c45d4d",
   "metadata": {},
   "outputs": [],
   "source": []
  },
  {
   "cell_type": "code",
   "execution_count": null,
   "id": "e5185334",
   "metadata": {},
   "outputs": [],
   "source": [
    "print(results_ARIMA.summary())"
   ]
  },
  {
   "cell_type": "code",
   "execution_count": null,
   "id": "1bc9b890",
   "metadata": {},
   "outputs": [],
   "source": [
    "plt.figure(figsize=(7,3.5))\n",
    "res_model.plot()\n",
    "results_ARIMA.fittedvalues.plot();"
   ]
  },
  {
   "cell_type": "code",
   "execution_count": null,
   "id": "47b498f1",
   "metadata": {},
   "outputs": [],
   "source": [
    "results_ARIMA.plot_predict(end=len(df['Close']));"
   ]
  },
  {
   "cell_type": "code",
   "execution_count": null,
   "id": "884c7eee",
   "metadata": {},
   "outputs": [],
   "source": [
    "res_ARIMA =  results_ARIMA.fittedvalues - res_model"
   ]
  },
  {
   "cell_type": "code",
   "execution_count": null,
   "id": "1a7abd07",
   "metadata": {},
   "outputs": [],
   "source": [
    "tsplot(res_ARIMA, lags=20)"
   ]
  },
  {
   "cell_type": "code",
   "execution_count": null,
   "id": "920abf2a",
   "metadata": {},
   "outputs": [],
   "source": [
    "predictions_ARIMA, se, conf = results_ARIMA.forecast(len(df_test['Close']), alpha=0.05)"
   ]
  },
  {
   "cell_type": "code",
   "execution_count": null,
   "id": "7abc25ca",
   "metadata": {},
   "outputs": [],
   "source": [
    "df_train['model_ARIMA'] = df_train['back_model_log_est'] + results_ARIMA.fittedvalues\n",
    "\n",
    "correccion = + df_train.Close.tail(1)[0] - df_train.model_ARIMA.tail(1)[0]\n",
    "\n",
    "df_test['model_ARIMA'] = df_test['back_model_log_est'] + predictions_ARIMA\n"
   ]
  },
  {
   "cell_type": "code",
   "execution_count": null,
   "id": "241852e1",
   "metadata": {},
   "outputs": [],
   "source": [
    "df_train.plot(kind = \"line\", y = ['Close', 'model_ARIMA']);"
   ]
  },
  {
   "cell_type": "code",
   "execution_count": null,
   "id": "ae405cc6",
   "metadata": {},
   "outputs": [],
   "source": [
    "def RMSE(predicted, actual):\n",
    "    mse = (predicted - actual) ** 2\n",
    "    rmse = np.sqrt(mse.sum() / mse.count())\n",
    "    return rmse"
   ]
  },
  {
   "cell_type": "code",
   "execution_count": null,
   "id": "34729d2c",
   "metadata": {},
   "outputs": [],
   "source": [
    "df_Results = pd.DataFrame(columns = [\"Model\", \"RMSE\"])\n",
    "df_Results.loc[0, \"Model\"] = \"Model + est + ARIMA\"\n",
    "df_Results.loc[0, \"RMSE\"] = RMSE(df_test['model_ARIMA'], df_test['Close'])\n",
    "df_Results"
   ]
  },
  {
   "cell_type": "code",
   "execution_count": null,
   "id": "fb59a3e0",
   "metadata": {},
   "outputs": [],
   "source": [
    "df_test.plot(kind = \"line\", y = ['Close', 'model_ARIMA']);"
   ]
  },
  {
   "cell_type": "code",
   "execution_count": null,
   "id": "d3bf7f50",
   "metadata": {},
   "outputs": [],
   "source": [
    "df_test"
   ]
  },
  {
   "cell_type": "code",
   "execution_count": null,
   "id": "508e2cea",
   "metadata": {},
   "outputs": [],
   "source": [
    "df_train.Close.tail(1)[0] - df_train.model_ARIMA.tail(1)[0]"
   ]
  }
 ],
 "metadata": {
  "kernelspec": {
   "display_name": "Python [conda env:dhdsblend2021] *",
   "language": "python",
   "name": "conda-env-dhdsblend2021-py"
  },
  "language_info": {
   "codemirror_mode": {
    "name": "ipython",
    "version": 3
   },
   "file_extension": ".py",
   "mimetype": "text/x-python",
   "name": "python",
   "nbconvert_exporter": "python",
   "pygments_lexer": "ipython3",
   "version": "3.8.8"
  }
 },
 "nbformat": 4,
 "nbformat_minor": 5
}
