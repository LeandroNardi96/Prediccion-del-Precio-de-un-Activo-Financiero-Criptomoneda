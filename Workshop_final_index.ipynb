{
 "cells": [
  {
   "cell_type": "markdown",
   "id": "eda0e535",
   "metadata": {},
   "source": [
    "## <h1><center>Workshop Final: Título del trabajo</center></h1>"
   ]
  },
  {
   "cell_type": "markdown",
   "id": "f5cabd1f",
   "metadata": {},
   "source": [
    "<a id=\"indice\"></a> \n",
    "## Índice\n",
    "\n",
    "### <a href='#section_objetivos'>0. Objetivos del Workshop Final</a>\n",
    "\n",
    "\n",
    "### <a href='#section_introduccion'>1. Actualización y carga de bibliotecas</a>\n",
    "- #### <a href='#1.1'>1.1 Carga de datos y armado del DataFrame</a>\n",
    "- #### <a href='#1.2'>1.2 Análisis exploratorio de los datos</a>\n",
    "\n",
    "\n",
    "### <a href='#2.'>2. Entrenamiento de los modelos de series de tiempo</a>\n",
    "- #### <a href='#2.1'>2.1 </a>\n",
    "- #### <a href='#2.2'>2.2 </a>\n",
    "- #### <a href='#2.3'>2.3 </a>\n",
    "\n",
    "### <a href='#3.'>3. Cálculo de errores para la evaluación de los modelos</a>\n",
    "- #### <a href='#3.1'>3.1 </a>\n",
    "- #### <a href='#3.2'>3.2 </a>"
   ]
  },
  {
   "cell_type": "markdown",
   "id": "ddb24ce7",
   "metadata": {},
   "source": [
    "<a id=\"section_objetivos\"></a> \n",
    "## 0. Objetivos del Workshop\n",
    "<a href='#indice'>Volver a TOC</a>"
   ]
  },
  {
   "cell_type": "markdown",
   "id": "b1f27557",
   "metadata": {},
   "source": [
    "Explicar qué vamos a hacer y por qué queremos hacerlo..."
   ]
  },
  {
   "cell_type": "markdown",
   "id": "3dffb22c",
   "metadata": {},
   "source": [
    "<a id=\"section_introduccion\"></a> \n",
    "## 1. Actualización y carga de bibliotecas\n",
    "<a href='#indice'>Volver a TOC</a>"
   ]
  },
  {
   "cell_type": "markdown",
   "id": "ef948c88",
   "metadata": {},
   "source": [
    "En primera instancia, se cargarán todas las bibliotecas a utilizar. Algunas de ellas no se encuentran en el ambiente o requieren ser actualizadas, es por ello que dejamos las siguientes líneas comentadas para que se instalen las mismas"
   ]
  },
  {
   "cell_type": "code",
   "execution_count": 29,
   "id": "cd227e06",
   "metadata": {},
   "outputs": [],
   "source": [
    "#!pip install --upgrade pandas --user"
   ]
  },
  {
   "cell_type": "code",
   "execution_count": null,
   "id": "3780cee7",
   "metadata": {},
   "outputs": [],
   "source": [
    "#!pip install --upgrade pandas-datareader --user"
   ]
  },
  {
   "cell_type": "code",
   "execution_count": null,
   "id": "e4e806e5",
   "metadata": {},
   "outputs": [],
   "source": [
    "#!pip install --upgrade mplfinance --user"
   ]
  },
  {
   "cell_type": "markdown",
   "id": "5e6ed888",
   "metadata": {},
   "source": [
    "En caso que tire error cuando quiera conectarse a la API de yahoo finance (en la función evaluación), recomendamos reiniciar jupyter lab una vez instaladas y actualizadas las librerías, o bien instalarlas directamente desde anaconda promt, mediante las siguientes sintaxis:\n",
    "- pip install --upgrade pandas\n",
    "- pip install --upgrade pandas-datareader\n",
    "- pip install --upgrade mplfinance"
   ]
  },
  {
   "cell_type": "code",
   "execution_count": null,
   "id": "682cb52b",
   "metadata": {},
   "outputs": [],
   "source": [
    "import pandas as pd\n",
    "import numpy as np\n",
    "\n",
    "import matplotlib.pyplot as plt\n",
    "import matplotlib as mpl\n",
    "import seaborn as sns\n",
    "%matplotlib inline\n",
    "\n",
    "import statsmodels.api as sm\n",
    "import statsmodels.formula.api as smf\n",
    "import statsmodels.tsa.api as smt\n",
    "\n",
    "from scipy import stats\n",
    "from statistics import mode\n",
    "\n",
    "import warnings\n",
    "warnings.filterwarnings('ignore')\n",
    "\n",
    "import pandas_datareader.data as web\n",
    "import datetime\n",
    "from sklearn.model_selection import train_test_split\n",
    "\n",
    "from statsmodels.tsa.stattools import adfuller\n",
    "\n",
    "from statsmodels.tsa.stattools import acf, pacf\n",
    "from statsmodels.graphics.tsaplots import plot_acf, plot_pacf\n",
    "\n",
    "from statsmodels.tsa.arima_model import ARIMA\n",
    "\n",
    "import mplfinance as mpf\n",
    "\n",
    "import statsmodels.api as sm\n",
    "\n",
    "import plotly.subplots as ms\n",
    "import plotly.graph_objects as go\n",
    "import TimeSeriesAnalysis as ts"
   ]
  },
  {
   "cell_type": "markdown",
   "id": "94a7bff6",
   "metadata": {},
   "source": [
    "<a id=\"1.1\"></a> \n",
    "## 1.1 Carga de datos y armado del DataFrame\n",
    "<a href='#indice'>Volver a TOC</a>"
   ]
  },
  {
   "cell_type": "markdown",
   "id": "9d72b3ce",
   "metadata": {},
   "source": [
    "Debido a que este trabajo apunta a poder analizar cualquier activo que el usuario quiera elegir y esté disponible en la API, se creó un archivo .py donde allí se alojan funciones creadas para falicitar esto último. La función _captura_datos_ permite elegir el tipo de activo,la fecha de inicio (año, mes día) y el intervalo (día, mes) para poder ser analizado."
   ]
  },
  {
   "cell_type": "code",
   "execution_count": null,
   "id": "83269665",
   "metadata": {},
   "outputs": [],
   "source": [
    "data = ts.captura_datos(\"btc-usd\",\"2015, 1, 1\",\"m\")"
   ]
  },
  {
   "cell_type": "code",
   "execution_count": null,
   "id": "6845b4ba",
   "metadata": {},
   "outputs": [],
   "source": [
    "data.head()"
   ]
  },
  {
   "cell_type": "code",
   "execution_count": null,
   "id": "f7ed413a",
   "metadata": {},
   "outputs": [],
   "source": [
    "data.describe()"
   ]
  },
  {
   "cell_type": "markdown",
   "id": "ab60141c",
   "metadata": {},
   "source": [
    "<a id=\"1.2\"></a> \n",
    "## 1.2 Análisis exploratorio de los datos\n",
    "<a href='#indice'>Volver a TOC</a>"
   ]
  },
  {
   "cell_type": "markdown",
   "id": "dad8aac8",
   "metadata": {},
   "source": [
    "Luego, se creó la función _graficar_datos_ con el fin de poder visualizar las carácterística de la serie de tiempo (tendencia,estacionalidad,ciclos y aleatoriedad) con el fin de junto otras visualizaciones (histogramas, boxplots) poder tener un pequeño análisis estadístico descriptivo de tipo de activo elegido"
   ]
  },
  {
   "cell_type": "code",
   "execution_count": null,
   "id": "5cffa7ea",
   "metadata": {},
   "outputs": [],
   "source": [
    "ts.graficar_datos(data)"
   ]
  },
  {
   "cell_type": "markdown",
   "id": "fb2b9cc3",
   "metadata": {},
   "source": [
    "## Acá yo agregaría histogramas, boxplots y alguna gilada más. Después podría estar bueno analizar si el activo que se eligió tiene valores faltantes y eso, y usar algunas funciones que tenía statmodels como para predecir esos valores y bla bla"
   ]
  },
  {
   "cell_type": "markdown",
   "id": "8a3b77eb",
   "metadata": {},
   "source": [
    "<a id=\"2.\"></a> \n",
    "## 2. Entrenamiento de los modelos de series de tiempo\n",
    "<a href='#indice'>Volver a TOC</a>"
   ]
  },
  {
   "cell_type": "markdown",
   "id": "da7c669d",
   "metadata": {},
   "source": [
    "Ahora pasamos a seleccionar el modleo con el cual queremos predecir el activo elegido. Para eso, usamos la funcíón _evaluación_ cuyos parámetros son:\n",
    "- df: DataFrame elegido\n",
    "- pred_size: Tamaño del dataframe de test\n",
    "- lags: cantidad de muestras para la ventana temporal del ACF y PACF\n",
    "- model: Modelo a elegir, los cuales son:\n",
    "    - linear\n",
    "    - quad\n",
    "    - log\n",
    "- estacionalidad: Es un booleano (True o False) para elegir si se quiere modelar con estacionalidad o no."
   ]
  },
  {
   "cell_type": "code",
   "execution_count": null,
   "id": "6b245e09",
   "metadata": {},
   "outputs": [],
   "source": [
    "modelo = ts.evaluacion(data,6,20,model='log',estacionalidad=True)"
   ]
  },
  {
   "cell_type": "markdown",
   "id": "f56af4bd",
   "metadata": {},
   "source": [
    "Luego de esto, modelamos lo faltante mediante el modelo ARIMA"
   ]
  },
  {
   "cell_type": "code",
   "execution_count": null,
   "id": "0541d4b9",
   "metadata": {},
   "outputs": [],
   "source": [
    "ts.arima(modelo,2,0,2,0.05)"
   ]
  },
  {
   "cell_type": "markdown",
   "id": "2150d030",
   "metadata": {},
   "source": [
    "<a id=\"3.\"></a> \n",
    "## 3. Cálculo de errores para la evaluación de los modelos\n",
    "<a href='#indice'>Volver a TOC</a>"
   ]
  },
  {
   "cell_type": "code",
   "execution_count": null,
   "id": "242e04c1",
   "metadata": {},
   "outputs": [],
   "source": [
    "df_train = modelo[1]\n",
    "df_test = modelo[2]"
   ]
  },
  {
   "cell_type": "code",
   "execution_count": null,
   "id": "9b4a2e85",
   "metadata": {},
   "outputs": [],
   "source": [
    "ts.RMSE(df_train.model_ARIMA,df_train.Close)"
   ]
  },
  {
   "cell_type": "code",
   "execution_count": null,
   "id": "40ac683e",
   "metadata": {},
   "outputs": [],
   "source": [
    "ts.RMSE(df_test.model_ARIMA,df_test.Close)"
   ]
  }
 ],
 "metadata": {
  "kernelspec": {
   "display_name": "Python [conda env:dhdsblend2021] *",
   "language": "python",
   "name": "conda-env-dhdsblend2021-py"
  },
  "language_info": {
   "codemirror_mode": {
    "name": "ipython",
    "version": 3
   },
   "file_extension": ".py",
   "mimetype": "text/x-python",
   "name": "python",
   "nbconvert_exporter": "python",
   "pygments_lexer": "ipython3",
   "version": "3.8.8"
  }
 },
 "nbformat": 4,
 "nbformat_minor": 5
}
