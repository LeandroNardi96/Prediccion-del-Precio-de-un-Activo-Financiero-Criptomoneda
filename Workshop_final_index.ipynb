{
 "cells": [
  {
   "cell_type": "markdown",
   "id": "80ab8c84",
   "metadata": {},
   "source": [
    "## <h1><center>Workshop Final: Título del trabajo</center></h1>"
   ]
  },
  {
   "cell_type": "markdown",
   "id": "a043b99b",
   "metadata": {},
   "source": [
    "<a id=\"indice\"></a> \n",
    "## Índice\n",
    "\n",
    "### <a href='#section_objetivos'>0. Objetivos del Workshop Final</a>\n",
    "\n",
    "\n",
    "### <a href='#section_introduccion'>1. Actualización y carga de bibliotecas</a>\n",
    "- #### <a href='#1.1'>1.1 Carga de datos y armado del DataFrame</a>\n",
    "- #### <a href='#1.2'>1.2 Análisis exploratorio de los datos</a>\n",
    "\n",
    "\n",
    "### <a href='#2.'>2. Entrenamiento de los modelos de series de tiempo</a>\n",
    "- #### <a href='#2.1'>2.1 </a>\n",
    "- #### <a href='#2.2'>2.2 </a>\n",
    "- #### <a href='#2.3'>2.3 </a>\n",
    "\n",
    "### <a href='#3.'>3. Cálculo de errores para la evaluación de los modelos</a>\n",
    "- #### <a href='#3.1'>3.1 </a>\n",
    "- #### <a href='#3.2'>3.2 </a>"
   ]
  },
  {
   "cell_type": "markdown",
   "id": "6f1529ac",
   "metadata": {},
   "source": [
    "<a id=\"section_objetivos\"></a> \n",
    "## 0. Objetivos del Workshop\n",
    "<a href='#indice'>Volver a TOC</a>"
   ]
  },
  {
   "cell_type": "markdown",
   "id": "8b3eb1a5",
   "metadata": {},
   "source": [
    "Explicar qué vamos a hacer y por qué queremos hacerlo..."
   ]
  },
  {
   "cell_type": "markdown",
   "id": "1f4cdeb8",
   "metadata": {},
   "source": [
    "<a id=\"section_introduccion\"></a> \n",
    "## 1. Actualización y carga de bibliotecas\n",
    "<a href='#indice'>Volver a TOC</a>"
   ]
  },
  {
   "cell_type": "markdown",
   "id": "e31dae0e",
   "metadata": {},
   "source": [
    "En primera instancia, se cargarán todas las bibliotecas a utilizar. Algunas de ellas no se encuentran en el ambiente o requieren ser actualizadas, es por ello que dejamos las siguientes líneas comentadas para que se instalen las mismas"
   ]
  },
  {
   "cell_type": "code",
   "execution_count": 18,
   "id": "a04ffb61",
   "metadata": {},
   "outputs": [],
   "source": [
    "#!pip install --upgrade pandas --user"
   ]
  },
  {
   "cell_type": "code",
   "execution_count": 19,
   "id": "e6c6aea9",
   "metadata": {},
   "outputs": [],
   "source": [
    "#!pip install --upgrade pandas-datareader --user"
   ]
  },
  {
   "cell_type": "code",
   "execution_count": 20,
   "id": "f1ed293c",
   "metadata": {},
   "outputs": [],
   "source": [
    "#!pip install --upgrade mplfinance --user"
   ]
  },
  {
   "cell_type": "markdown",
   "id": "70677fdf",
   "metadata": {},
   "source": [
    "En caso que tire error cuando quiera conectarse a la API de yahoo finance (en la función _captura_datos_), recomendamos reiniciar jupyter lab una vez instaladas y actualizadas las librerías, o bien instalarlas directamente desde anaconda promt, mediante las siguientes sintaxis:\n",
    "- pip install --upgrade pandas\n",
    "- pip install --upgrade pandas-datareader\n",
    "- pip install --upgrade mplfinance"
   ]
  },
  {
   "cell_type": "code",
   "execution_count": 21,
   "id": "85f230b1",
   "metadata": {},
   "outputs": [],
   "source": [
    "import pandas as pd\n",
    "import numpy as np\n",
    "\n",
    "import matplotlib.pyplot as plt\n",
    "import matplotlib as mpl\n",
    "import seaborn as sns\n",
    "%matplotlib inline\n",
    "\n",
    "import statsmodels.api as sm\n",
    "import statsmodels.formula.api as smf\n",
    "import statsmodels.tsa.api as smt\n",
    "\n",
    "from scipy import stats\n",
    "from statistics import mode\n",
    "\n",
    "#import warnings\n",
    "#warnings.filterwarnings('ignore')\n",
    "\n",
    "import pandas_datareader.data as web\n",
    "import datetime\n",
    "from sklearn.model_selection import train_test_split\n",
    "\n",
    "from statsmodels.tsa.stattools import adfuller\n",
    "\n",
    "from statsmodels.tsa.stattools import acf, pacf\n",
    "from statsmodels.graphics.tsaplots import plot_acf, plot_pacf\n",
    "\n",
    "from statsmodels.tsa.arima_model import ARIMA\n",
    "\n",
    "import mplfinance as mpf\n",
    "\n",
    "import statsmodels.api as sm\n",
    "\n",
    "import plotly.subplots as ms\n",
    "import plotly.graph_objects as go\n",
    "import TimeSeriesAnalysis as ts"
   ]
  },
  {
   "cell_type": "markdown",
   "id": "a55d565d",
   "metadata": {},
   "source": [
    "<a id=\"1.1\"></a> \n",
    "## 1.1 Carga de datos y armado del DataFrame\n",
    "<a href='#indice'>Volver a TOC</a>"
   ]
  },
  {
   "cell_type": "markdown",
   "id": "23a4acf4",
   "metadata": {},
   "source": [
    "Debido a que este trabajo apunta a poder analizar cualquier activo que el usuario quiera elegir y esté disponible en la API, se creó un archivo .py donde allí se alojan funciones creadas para falicitar esto último. La función _captura_datos_ permite elegir el tipo de activo,la fecha de inicio (año, mes día) y el intervalo (día, mes) para poder ser analizado."
   ]
  },
  {
   "cell_type": "code",
   "execution_count": 22,
   "id": "48599ff3",
   "metadata": {},
   "outputs": [],
   "source": [
    "data = ts.captura_datos(\"btc-usd\",\"2015, 1, 1\",\"m\")"
   ]
  },
  {
   "cell_type": "code",
   "execution_count": 23,
   "id": "074e62ad",
   "metadata": {},
   "outputs": [
    {
     "data": {
      "text/html": [
       "<div>\n",
       "<style scoped>\n",
       "    .dataframe tbody tr th:only-of-type {\n",
       "        vertical-align: middle;\n",
       "    }\n",
       "\n",
       "    .dataframe tbody tr th {\n",
       "        vertical-align: top;\n",
       "    }\n",
       "\n",
       "    .dataframe thead th {\n",
       "        text-align: right;\n",
       "    }\n",
       "</style>\n",
       "<table border=\"1\" class=\"dataframe\">\n",
       "  <thead>\n",
       "    <tr style=\"text-align: right;\">\n",
       "      <th></th>\n",
       "      <th>High</th>\n",
       "      <th>Low</th>\n",
       "      <th>Open</th>\n",
       "      <th>Close</th>\n",
       "      <th>Volume</th>\n",
       "      <th>Adj Close</th>\n",
       "      <th>MA20</th>\n",
       "      <th>MA5</th>\n",
       "      <th>timeIndex</th>\n",
       "    </tr>\n",
       "    <tr>\n",
       "      <th>Date</th>\n",
       "      <th></th>\n",
       "      <th></th>\n",
       "      <th></th>\n",
       "      <th></th>\n",
       "      <th></th>\n",
       "      <th></th>\n",
       "      <th></th>\n",
       "      <th></th>\n",
       "      <th></th>\n",
       "    </tr>\n",
       "  </thead>\n",
       "  <tbody>\n",
       "    <tr>\n",
       "      <th>2015-01-01</th>\n",
       "      <td>320.434998</td>\n",
       "      <td>171.509995</td>\n",
       "      <td>320.434998</td>\n",
       "      <td>217.464005</td>\n",
       "      <td>1098811912</td>\n",
       "      <td>217.464005</td>\n",
       "      <td>NaN</td>\n",
       "      <td>NaN</td>\n",
       "      <td>0</td>\n",
       "    </tr>\n",
       "    <tr>\n",
       "      <th>2015-02-01</th>\n",
       "      <td>265.610992</td>\n",
       "      <td>212.014999</td>\n",
       "      <td>216.867004</td>\n",
       "      <td>254.263000</td>\n",
       "      <td>711518700</td>\n",
       "      <td>254.263000</td>\n",
       "      <td>NaN</td>\n",
       "      <td>NaN</td>\n",
       "      <td>1</td>\n",
       "    </tr>\n",
       "    <tr>\n",
       "      <th>2015-03-01</th>\n",
       "      <td>300.044006</td>\n",
       "      <td>236.514999</td>\n",
       "      <td>254.283005</td>\n",
       "      <td>244.223999</td>\n",
       "      <td>959098300</td>\n",
       "      <td>244.223999</td>\n",
       "      <td>NaN</td>\n",
       "      <td>NaN</td>\n",
       "      <td>2</td>\n",
       "    </tr>\n",
       "    <tr>\n",
       "      <th>2015-03-31</th>\n",
       "      <td>261.798004</td>\n",
       "      <td>214.873993</td>\n",
       "      <td>244.223007</td>\n",
       "      <td>236.145004</td>\n",
       "      <td>672338700</td>\n",
       "      <td>236.145004</td>\n",
       "      <td>NaN</td>\n",
       "      <td>NaN</td>\n",
       "      <td>3</td>\n",
       "    </tr>\n",
       "    <tr>\n",
       "      <th>2015-04-30</th>\n",
       "      <td>247.804001</td>\n",
       "      <td>228.572998</td>\n",
       "      <td>235.938995</td>\n",
       "      <td>230.190002</td>\n",
       "      <td>568122600</td>\n",
       "      <td>230.190002</td>\n",
       "      <td>NaN</td>\n",
       "      <td>236.457202</td>\n",
       "      <td>4</td>\n",
       "    </tr>\n",
       "  </tbody>\n",
       "</table>\n",
       "</div>"
      ],
      "text/plain": [
       "                  High         Low        Open       Close      Volume  \\\n",
       "Date                                                                     \n",
       "2015-01-01  320.434998  171.509995  320.434998  217.464005  1098811912   \n",
       "2015-02-01  265.610992  212.014999  216.867004  254.263000   711518700   \n",
       "2015-03-01  300.044006  236.514999  254.283005  244.223999   959098300   \n",
       "2015-03-31  261.798004  214.873993  244.223007  236.145004   672338700   \n",
       "2015-04-30  247.804001  228.572998  235.938995  230.190002   568122600   \n",
       "\n",
       "             Adj Close  MA20         MA5  timeIndex  \n",
       "Date                                                 \n",
       "2015-01-01  217.464005   NaN         NaN          0  \n",
       "2015-02-01  254.263000   NaN         NaN          1  \n",
       "2015-03-01  244.223999   NaN         NaN          2  \n",
       "2015-03-31  236.145004   NaN         NaN          3  \n",
       "2015-04-30  230.190002   NaN  236.457202          4  "
      ]
     },
     "execution_count": 23,
     "metadata": {},
     "output_type": "execute_result"
    }
   ],
   "source": [
    "data.head()"
   ]
  },
  {
   "cell_type": "code",
   "execution_count": 24,
   "id": "f39653f4",
   "metadata": {},
   "outputs": [
    {
     "data": {
      "text/html": [
       "<div>\n",
       "<style scoped>\n",
       "    .dataframe tbody tr th:only-of-type {\n",
       "        vertical-align: middle;\n",
       "    }\n",
       "\n",
       "    .dataframe tbody tr th {\n",
       "        vertical-align: top;\n",
       "    }\n",
       "\n",
       "    .dataframe thead th {\n",
       "        text-align: right;\n",
       "    }\n",
       "</style>\n",
       "<table border=\"1\" class=\"dataframe\">\n",
       "  <thead>\n",
       "    <tr style=\"text-align: right;\">\n",
       "      <th></th>\n",
       "      <th>High</th>\n",
       "      <th>Low</th>\n",
       "      <th>Open</th>\n",
       "      <th>Close</th>\n",
       "      <th>Volume</th>\n",
       "      <th>Adj Close</th>\n",
       "      <th>MA20</th>\n",
       "      <th>MA5</th>\n",
       "      <th>timeIndex</th>\n",
       "    </tr>\n",
       "  </thead>\n",
       "  <tbody>\n",
       "    <tr>\n",
       "      <th>count</th>\n",
       "      <td>83.000000</td>\n",
       "      <td>83.000000</td>\n",
       "      <td>83.000000</td>\n",
       "      <td>83.000000</td>\n",
       "      <td>8.300000e+01</td>\n",
       "      <td>83.000000</td>\n",
       "      <td>64.000000</td>\n",
       "      <td>79.000000</td>\n",
       "      <td>83.000000</td>\n",
       "    </tr>\n",
       "    <tr>\n",
       "      <th>mean</th>\n",
       "      <td>12458.677532</td>\n",
       "      <td>8701.745285</td>\n",
       "      <td>10145.470892</td>\n",
       "      <td>10811.452974</td>\n",
       "      <td>4.252908e+11</td>\n",
       "      <td>10811.452974</td>\n",
       "      <td>7814.954268</td>\n",
       "      <td>10015.912569</td>\n",
       "      <td>41.000000</td>\n",
       "    </tr>\n",
       "    <tr>\n",
       "      <th>std</th>\n",
       "      <td>17331.153384</td>\n",
       "      <td>12444.644401</td>\n",
       "      <td>14491.457023</td>\n",
       "      <td>15279.498616</td>\n",
       "      <td>5.579113e+11</td>\n",
       "      <td>15279.498616</td>\n",
       "      <td>7406.854274</td>\n",
       "      <td>13447.303184</td>\n",
       "      <td>24.103942</td>\n",
       "    </tr>\n",
       "    <tr>\n",
       "      <th>min</th>\n",
       "      <td>247.804001</td>\n",
       "      <td>171.509995</td>\n",
       "      <td>216.867004</td>\n",
       "      <td>217.464005</td>\n",
       "      <td>5.681226e+08</td>\n",
       "      <td>217.464005</td>\n",
       "      <td>369.728247</td>\n",
       "      <td>236.457202</td>\n",
       "      <td>0.000000</td>\n",
       "    </tr>\n",
       "    <tr>\n",
       "      <th>25%</th>\n",
       "      <td>738.319489</td>\n",
       "      <td>610.656494</td>\n",
       "      <td>648.558502</td>\n",
       "      <td>687.154480</td>\n",
       "      <td>3.070203e+09</td>\n",
       "      <td>687.154480</td>\n",
       "      <td>2705.556972</td>\n",
       "      <td>758.615686</td>\n",
       "      <td>20.500000</td>\n",
       "    </tr>\n",
       "    <tr>\n",
       "      <th>50%</th>\n",
       "      <td>7388.430176</td>\n",
       "      <td>5347.645996</td>\n",
       "      <td>6411.680176</td>\n",
       "      <td>6438.644531</td>\n",
       "      <td>1.583595e+11</td>\n",
       "      <td>6438.644531</td>\n",
       "      <td>6878.089001</td>\n",
       "      <td>6833.037988</td>\n",
       "      <td>41.000000</td>\n",
       "    </tr>\n",
       "    <tr>\n",
       "      <th>75%</th>\n",
       "      <td>12012.790527</td>\n",
       "      <td>8976.270508</td>\n",
       "      <td>10138.020996</td>\n",
       "      <td>10227.349609</td>\n",
       "      <td>6.766679e+11</td>\n",
       "      <td>10227.349609</td>\n",
       "      <td>7841.516281</td>\n",
       "      <td>9542.871777</td>\n",
       "      <td>61.500000</td>\n",
       "    </tr>\n",
       "    <tr>\n",
       "      <th>max</th>\n",
       "      <td>64863.097656</td>\n",
       "      <td>54477.972656</td>\n",
       "      <td>58926.562500</td>\n",
       "      <td>58918.832031</td>\n",
       "      <td>2.267153e+12</td>\n",
       "      <td>58918.832031</td>\n",
       "      <td>31802.415820</td>\n",
       "      <td>49059.085156</td>\n",
       "      <td>82.000000</td>\n",
       "    </tr>\n",
       "  </tbody>\n",
       "</table>\n",
       "</div>"
      ],
      "text/plain": [
       "               High           Low          Open         Close        Volume  \\\n",
       "count     83.000000     83.000000     83.000000     83.000000  8.300000e+01   \n",
       "mean   12458.677532   8701.745285  10145.470892  10811.452974  4.252908e+11   \n",
       "std    17331.153384  12444.644401  14491.457023  15279.498616  5.579113e+11   \n",
       "min      247.804001    171.509995    216.867004    217.464005  5.681226e+08   \n",
       "25%      738.319489    610.656494    648.558502    687.154480  3.070203e+09   \n",
       "50%     7388.430176   5347.645996   6411.680176   6438.644531  1.583595e+11   \n",
       "75%    12012.790527   8976.270508  10138.020996  10227.349609  6.766679e+11   \n",
       "max    64863.097656  54477.972656  58926.562500  58918.832031  2.267153e+12   \n",
       "\n",
       "          Adj Close          MA20           MA5  timeIndex  \n",
       "count     83.000000     64.000000     79.000000  83.000000  \n",
       "mean   10811.452974   7814.954268  10015.912569  41.000000  \n",
       "std    15279.498616   7406.854274  13447.303184  24.103942  \n",
       "min      217.464005    369.728247    236.457202   0.000000  \n",
       "25%      687.154480   2705.556972    758.615686  20.500000  \n",
       "50%     6438.644531   6878.089001   6833.037988  41.000000  \n",
       "75%    10227.349609   7841.516281   9542.871777  61.500000  \n",
       "max    58918.832031  31802.415820  49059.085156  82.000000  "
      ]
     },
     "execution_count": 24,
     "metadata": {},
     "output_type": "execute_result"
    }
   ],
   "source": [
    "data.describe()"
   ]
  },
  {
   "cell_type": "markdown",
   "id": "65e5cde3",
   "metadata": {},
   "source": [
    "<a id=\"1.2\"></a> \n",
    "## 1.2 Análisis exploratorio de los datos\n",
    "<a href='#indice'>Volver a TOC</a>"
   ]
  },
  {
   "cell_type": "markdown",
   "id": "9285c478",
   "metadata": {},
   "source": [
    "Luego, se creó la función _graficar_datos_ con el fin de poder visualizar las carácterística de la serie de tiempo (tendencia,estacionalidad,ciclos y aleatoriedad) con el fin de junto otras visualizaciones (histogramas, boxplots) poder tener un pequeño análisis estadístico descriptivo de tipo de activo elegido"
   ]
  },
  {
   "cell_type": "code",
   "execution_count": 25,
   "id": "c5d906a6",
   "metadata": {},
   "outputs": [
    {
     "data": {
      "text/plain": [
       "<Figure size 432x288 with 0 Axes>"
      ]
     },
     "metadata": {},
     "output_type": "display_data"
    },
    {
     "data": {
      "image/png": "[encoded data removed]",
      "text/plain": [
       "<Figure size 1080x720 with 4 Axes>"
      ]
     },
     "metadata": {
      "needs_background": "light"
     },
     "output_type": "display_data"
    },
    {
     "data": {
      "application/vnd.plotly.v1+json": {
       "config": {
        "plotlyServerURL": "https://plotly.com"
       },
       "data": [
        {
         "line": {
          "color": "blue",
          "width": 1
         },
         "name": "MA 5",
         "opacity": 0.7,
         "type": "scatter",
         "x": [
          "2015-01-01T00:00:00",
          "2015-02-01T00:00:00",
          "2015-03-01T00:00:00",
          "2015-03-31T00:00:00",
          "2015-04-30T00:00:00",
          "2015-05-31T00:00:00",
          "2015-06-30T00:00:00",
          "2015-07-31T00:00:00",
          "2015-08-31T00:00:00",
          "2015-09-30T00:00:00",
          "2015-11-01T00:00:00",
          "2015-12-01T00:00:00",
          "2016-01-01T00:00:00",
          "2016-02-01T00:00:00",
          "2016-03-01T00:00:00",
          "2016-03-31T00:00:00",
          "2016-04-30T00:00:00",
          "2016-05-31T00:00:00",
          "2016-06-30T00:00:00",
          "2016-07-31T00:00:00",
          "2016-08-31T00:00:00",
          "2016-09-30T00:00:00",
          "2016-11-01T00:00:00",
          "2016-12-01T00:00:00",
          "2017-01-01T00:00:00",
          "2017-02-01T00:00:00",
          "2017-03-01T00:00:00",
          "2017-03-31T00:00:00",
          "2017-04-30T00:00:00",
          "2017-05-31T00:00:00",
          "2017-06-30T00:00:00",
          "2017-07-31T00:00:00",
          "2017-08-31T00:00:00",
          "2017-09-30T00:00:00",
          "2017-11-01T00:00:00",
          "2017-12-01T00:00:00",
          "2018-01-01T00:00:00",
          "2018-02-01T00:00:00",
          "2018-03-01T00:00:00",
          "2018-03-31T00:00:00",
          "2018-04-30T00:00:00",
          "2018-05-31T00:00:00",
          "2018-06-30T00:00:00",
          "2018-07-31T00:00:00",
          "2018-08-31T00:00:00",
          "2018-09-30T00:00:00",
          "2018-11-01T00:00:00",
          "2018-12-01T00:00:00",
          "2019-01-01T00:00:00",
          "2019-02-01T00:00:00",
          "2019-03-01T00:00:00",
          "2019-03-31T00:00:00",
          "2019-04-30T00:00:00",
          "2019-05-31T00:00:00",
          "2019-06-30T00:00:00",
          "2019-07-31T00:00:00",
          "2019-08-31T00:00:00",
          "2019-09-30T00:00:00",
          "2019-11-01T00:00:00",
          "2019-12-01T00:00:00",
          "2020-01-01T00:00:00",
          "2020-02-01T00:00:00",
          "2020-03-01T00:00:00",
          "2020-03-31T00:00:00",
          "2020-04-30T00:00:00",
          "2020-05-31T00:00:00",
          "2020-06-30T00:00:00",
          "2020-07-31T00:00:00",
          "2020-08-31T00:00:00",
          "2020-09-30T00:00:00",
          "2020-11-01T00:00:00",
          "2020-12-01T00:00:00",
          "2021-01-01T00:00:00",
          "2021-02-01T00:00:00",
          "2021-03-01T00:00:00",
          "2021-03-31T00:00:00",
          "2021-04-30T00:00:00",
          "2021-05-31T00:00:00",
          "2021-06-30T00:00:00",
          "2021-07-31T00:00:00",
          "2021-08-31T00:00:00",
          "2021-09-30T00:00:00",
          "2021-10-12T00:00:00"
         ],
         "y": [
          null,
          null,
          null,
          null,
          236.4572021484375,
          245.57879943847655,
          251.65619812011718,
          248.82259826660157,
          248.80559692382812,
          265.6007934570313,
          288.4505981445312,
          317.6339965820313,
          345.3761962890625,
          385.70359497070314,
          406.21619873046876,
          420.41559448242185,
          440.57939453125,
          501.49338989257814,
          538.8901977539062,
          570.6387939453125,
          602.9221923828125,
          636.8393920898437,
          651.3101928710937,
          719.1225830078125,
          798.1087890625,
          912.1557861328125,
          986.3193969726562,
          1106.7592041015625,
          1371.2925903320313,
          1673.3800048828125,
          2012.4540283203125,
          2738.7740478515625,
          3336.938037109375,
          4173.33603515625,
          5723.887939453125,
          7980.1,
          9083.64189453125,
          10295.47998046875,
          10396.50595703125,
          10197.89599609375,
          8865.44990234375,
          8102.02998046875,
          7578.537890625,
          7591.34794921875,
          7068.35,
          6833.03798828125,
          6355.69169921875,
          5548.143798828125,
          4832.186328125,
          4278.031396484375,
          3835.590283203125,
          4102.281884765625,
          5068.6421875,
          6540.514697265625,
          7786.683203125,
          8891.73515625,
          9480.3634765625,
          9605.380078125,
          8955.875,
          8377.46923828125,
          8321.44228515625,
          8382.57041015625,
          7830.38232421875,
          8048.16708984375,
          8501.658984375,
          8459.1517578125,
          9003.943359375,
          10052.378515625,
          10478.19140625,
          11342.1787109375,
          13439.747265625,
          16975.398046875,
          21262.105859375,
          28132.1361328125,
          37159.703515625,
          44784.571484375,
          46450.7984375,
          46836.09375,
          46133.77890625,
          43783.35,
          40991.49375,
          45021.88046875,
          49059.08515625
         ]
        },
        {
         "line": {
          "color": "orange",
          "width": 1
         },
         "name": "MA 20",
         "opacity": 0.7,
         "type": "scatter",
         "x": [
          "2015-01-01T00:00:00",
          "2015-02-01T00:00:00",
          "2015-03-01T00:00:00",
          "2015-03-31T00:00:00",
          "2015-04-30T00:00:00",
          "2015-05-31T00:00:00",
          "2015-06-30T00:00:00",
          "2015-07-31T00:00:00",
          "2015-08-31T00:00:00",
          "2015-09-30T00:00:00",
          "2015-11-01T00:00:00",
          "2015-12-01T00:00:00",
          "2016-01-01T00:00:00",
          "2016-02-01T00:00:00",
          "2016-03-01T00:00:00",
          "2016-03-31T00:00:00",
          "2016-04-30T00:00:00",
          "2016-05-31T00:00:00",
          "2016-06-30T00:00:00",
          "2016-07-31T00:00:00",
          "2016-08-31T00:00:00",
          "2016-09-30T00:00:00",
          "2016-11-01T00:00:00",
          "2016-12-01T00:00:00",
          "2017-01-01T00:00:00",
          "2017-02-01T00:00:00",
          "2017-03-01T00:00:00",
          "2017-03-31T00:00:00",
          "2017-04-30T00:00:00",
          "2017-05-31T00:00:00",
          "2017-06-30T00:00:00",
          "2017-07-31T00:00:00",
          "2017-08-31T00:00:00",
          "2017-09-30T00:00:00",
          "2017-11-01T00:00:00",
          "2017-12-01T00:00:00",
          "2018-01-01T00:00:00",
          "2018-02-01T00:00:00",
          "2018-03-01T00:00:00",
          "2018-03-31T00:00:00",
          "2018-04-30T00:00:00",
          "2018-05-31T00:00:00",
          "2018-06-30T00:00:00",
          "2018-07-31T00:00:00",
          "2018-08-31T00:00:00",
          "2018-09-30T00:00:00",
          "2018-11-01T00:00:00",
          "2018-12-01T00:00:00",
          "2019-01-01T00:00:00",
          "2019-02-01T00:00:00",
          "2019-03-01T00:00:00",
          "2019-03-31T00:00:00",
          "2019-04-30T00:00:00",
          "2019-05-31T00:00:00",
          "2019-06-30T00:00:00",
          "2019-07-31T00:00:00",
          "2019-08-31T00:00:00",
          "2019-09-30T00:00:00",
          "2019-11-01T00:00:00",
          "2019-12-01T00:00:00",
          "2020-01-01T00:00:00",
          "2020-02-01T00:00:00",
          "2020-03-01T00:00:00",
          "2020-03-31T00:00:00",
          "2020-04-30T00:00:00",
          "2020-05-31T00:00:00",
          "2020-06-30T00:00:00",
          "2020-07-31T00:00:00",
          "2020-08-31T00:00:00",
          "2020-09-30T00:00:00",
          "2020-11-01T00:00:00",
          "2020-12-01T00:00:00",
          "2021-01-01T00:00:00",
          "2021-02-01T00:00:00",
          "2021-03-01T00:00:00",
          "2021-03-31T00:00:00",
          "2021-04-30T00:00:00",
          "2021-05-31T00:00:00",
          "2021-06-30T00:00:00",
          "2021-07-31T00:00:00",
          "2021-08-31T00:00:00",
          "2021-09-30T00:00:00",
          "2021-10-12T00:00:00"
         ],
         "y": [
          null,
          null,
          null,
          null,
          null,
          null,
          null,
          null,
          null,
          null,
          null,
          null,
          null,
          null,
          null,
          null,
          null,
          null,
          null,
          369.7282470703125,
          389.34179611206054,
          411.67724533081054,
          436.750594329834,
          473.1304931640625,
          510.1411437988281,
          555.9860427856445,
          595.3430450439453,
          651.2347457885742,
          753.7522415161133,
          862.0859466552735,
          986.9869003295898,
          1200.6280578613282,
          1399.1252059936523,
          1700.6603515625,
          2191.5038818359376,
          2876.9080017089846,
          3361.393682861328,
          3847.6218536376955,
          4165.064291381836,
          4598.3181823730465,
          4942.539929199219,
          5227.691329956055,
          5579.4287780761715,
          5883.1206329345705,
          6165.8784851074215,
          6422.760479736328,
          6570.034405517578,
          6689.774926757813,
          6748.344067382813,
          6817.041333007813,
          6878.544543457031,
          6910.911364746094,
          7122.700964355468,
          7340.138732910156,
          7332.740148925781,
          7106.453332519532,
          7010.091760253907,
          6950.175988769532,
          6979.980993652343,
          6877.633459472656,
          6970.451428222656,
          7080.226867675781,
          7013.137097167969,
          7094.185778808594,
          7235.960705566406,
          7376.979870605469,
          7742.289782714844,
          8139.195776367187,
          8505.687048339843,
          9001.997534179687,
          9778.019116210937,
          10960.568823242187,
          12187.561694335938,
          13903.592407226562,
          16345.252612304688,
          18751.22819824219,
          20203.17756347656,
          21495.240112304688,
          23198.06838378906,
          25196.722802734374,
          26918.741064453126,
          29363.005078125,
          31802.4158203125
         ]
        },
        {
         "close": [
          217.46400451660156,
          254.26300048828125,
          244.2239990234375,
          236.14500427246094,
          230.19000244140625,
          263.0719909667969,
          284.6499938964844,
          230.05599975585938,
          236.05999755859375,
          314.1659851074219,
          377.3210144042969,
          430.5669860839844,
          368.7669982910156,
          437.6969909667969,
          416.72900390625,
          448.3179931640625,
          531.385986328125,
          673.3369750976562,
          624.6810302734375,
          575.4719848632812,
          609.7349853515625,
          700.9719848632812,
          745.6909790039062,
          963.7429809570312,
          970.4030151367188,
          1179.969970703125,
          1071.7900390625,
          1347.8900146484375,
          2286.409912109375,
          2480.840087890625,
          2875.340087890625,
          4703.39013671875,
          4338.7099609375,
          6468.39990234375,
          10233.599609375,
          14156.400390625,
          10221.099609375,
          10397.900390625,
          6973.52978515625,
          9240.5498046875,
          7494.169921875,
          6404,
          7780.43994140625,
          7037.580078125,
          6625.56005859375,
          6317.60986328125,
          4017.2685546875,
          3742.700439453125,
          3457.792724609375,
          3854.785400390625,
          4105.404296875,
          5350.7265625,
          8574.501953125,
          10817.1552734375,
          10085.6279296875,
          9630.6640625,
          8293.8681640625,
          9199.5849609375,
          7569.6298828125,
          7193.59912109375,
          9350.529296875,
          8599.5087890625,
          6438.64453125,
          8658.5537109375,
          9461.05859375,
          9137.9931640625,
          11323.466796875,
          11680.8203125,
          10787.6181640625,
          13780.9951171875,
          19625.8359375,
          29001.720703125,
          33114.359375,
          45137.76953125,
          58918.83203125,
          57750.17578125,
          37332.85546875,
          35040.8359375,
          41626.1953125,
          47166.6875,
          43790.89453125,
          57484.7890625,
          55226.859375
         ],
         "decreasing": {
          "line": {
           "color": "red"
          }
         },
         "high": [
          320.43499755859375,
          265.6109924316406,
          300.04400634765625,
          261.7980041503906,
          247.8040008544922,
          267.86700439453125,
          314.3940124511719,
          285.7149963378906,
          259.1820068359375,
          334.16900634765625,
          495.56201171875,
          469.1029968261719,
          462.9339904785156,
          448.0459899902344,
          439.65301513671875,
          467.9649963378906,
          553.9600219726562,
          777.989990234375,
          704.968017578125,
          626.1190185546875,
          628.8179931640625,
          720.4019775390625,
          756.2369995117188,
          979.39697265625,
          1191.0999755859375,
          1200.3900146484375,
          1280.31005859375,
          1347.9100341796875,
          2763.7099609375,
          2999.909912109375,
          2916.139892578125,
          4736.0498046875,
          4975.0400390625,
          6470.43017578125,
          11517.400390625,
          20089,
          17712.400390625,
          11958.5,
          11704.099609375,
          9745.3203125,
          9964.5,
          7754.89013671875,
          8424.26953125,
          7769.0400390625,
          7388.43017578125,
          6965.06005859375,
          6552.16015625,
          4309.37744140625,
          4109.02099609375,
          4210.6416015625,
          4296.806640625,
          5642.04443359375,
          9008.314453125,
          13796.4892578125,
          13129.529296875,
          12273.8212890625,
          10898.76171875,
          10021.744140625,
          9505.0517578125,
          7743.431640625,
          9553.1259765625,
          10457.626953125,
          9167.6953125,
          9440.650390625,
          9996.7431640625,
          10199.5654296875,
          11415.8642578125,
          12359.056640625,
          12067.0810546875,
          14028.2138671875,
          19749.263671875,
          29244.876953125,
          41946.73828125,
          58330.5703125,
          61683.86328125,
          64863.09765625,
          59519.35546875,
          41295.26953125,
          42235.546875,
          50482.078125,
          52853.765625,
          57793.0390625,
          57627.87890625
         ],
         "increasing": {
          "line": {
           "color": "green"
          }
         },
         "low": [
          171.50999450683594,
          212.01499938964844,
          236.51499938964844,
          214.87399291992188,
          228.572998046875,
          221.29600524902344,
          253.5050048828125,
          199.56700134277344,
          225.11700439453125,
          235.61599731445312,
          300.99700927734375,
          349.4649963378906,
          354.91400146484375,
          367.9570007324219,
          394.0350036621094,
          415.83099365234375,
          437.3890075683594,
          525.635986328125,
          611.833984375,
          531.333984375,
          570.8109741210938,
          609.47900390625,
          678.156005859375,
          746.0460205078125,
          755.7559814453125,
          946.6909790039062,
          903.7130126953125,
          1061.0899658203125,
          1348.300048828125,
          2212.9599609375,
          1843.030029296875,
          2668.590087890625,
          2946.6201171875,
          4164.0498046875,
          5519.009765625,
          9694.650390625,
          9402.2900390625,
          6048.259765625,
          6683.93017578125,
          6526.8701171875,
          7090.68017578125,
          5826.41015625,
          6136.419921875,
          5971.0498046875,
          6197.52001953125,
          6236.47021484375,
          3585.06005859375,
          3191.303466796875,
          3400.81982421875,
          3391.023681640625,
          3733.749755859375,
          4096.9013671875,
          5347.64599609375,
          7564.48876953125,
          9163.134765625,
          9421.6298828125,
          7830.7587890625,
          7446.98876953125,
          6617.1669921875,
          6540.04931640625,
          6914.99609375,
          8492.9326171875,
          4106.98095703125,
          6202.37353515625,
          8374.3232421875,
          8975.525390625,
          8977.015625,
          11012.4150390625,
          9916.4931640625,
          10440.3115234375,
          13243.16015625,
          17619.533203125,
          28722.755859375,
          32384.228515625,
          45115.09375,
          47159.484375,
          30681.49609375,
          28893.62109375,
          29360.955078125,
          37458.00390625,
          39787.609375,
          43320.0234375,
          54477.97265625
         ],
         "open": [
          320.43499755859375,
          216.86700439453125,
          254.2830047607422,
          244.22300720214844,
          235.93899536132812,
          230.23300170898438,
          263.3450012207031,
          284.6860046386719,
          230.25599670410156,
          236.00399780273438,
          315.0050048828125,
          377.41400146484375,
          430.72100830078125,
          369.3500061035156,
          437.9169921875,
          416.760009765625,
          448.4840087890625,
          531.1069946289062,
          672.5150146484375,
          624.6019897460938,
          575.5460205078125,
          609.9290161132812,
          701.3369750976562,
          746.0460205078125,
          963.6580200195312,
          970.9409790039062,
          1180.0400390625,
          1071.7099609375,
          1348.300048828125,
          2288.330078125,
          2492.60009765625,
          2871.300048828125,
          4701.759765625,
          4341.0498046875,
          6440.97021484375,
          10198.599609375,
          14112.2001953125,
          10237.2998046875,
          10385,
          7003.06005859375,
          9251.4697265625,
          7500.7001953125,
          6411.68017578125,
          7769.0400390625,
          7044.81005859375,
          6619.85009765625,
          6318.14013671875,
          4024.46435546875,
          3746.71337890625,
          3460.547119140625,
          3853.757080078125,
          4105.3623046875,
          5350.91455078125,
          8573.83984375,
          10796.9306640625,
          10077.4423828125,
          9630.5927734375,
          8299.720703125,
          9193.9921875,
          7571.6162109375,
          7194.89208984375,
          9346.357421875,
          8599.7587890625,
          6437.3193359375,
          8672.7822265625,
          9463.60546875,
          9145.9853515625,
          11322.5703125,
          11679.31640625,
          10785.0107421875,
          13780.9951171875,
          19633.76953125,
          28994.009765625,
          33114.578125,
          45159.50390625,
          58926.5625,
          57714.6640625,
          37293.79296875,
          35035.984375,
          41460.84375,
          47099.7734375,
          43816.7421875,
          57413.859375
         ],
         "type": "candlestick",
         "x": [
          "2015-01-01T00:00:00",
          "2015-02-01T00:00:00",
          "2015-03-01T00:00:00",
          "2015-03-31T00:00:00",
          "2015-04-30T00:00:00",
          "2015-05-31T00:00:00",
          "2015-06-30T00:00:00",
          "2015-07-31T00:00:00",
          "2015-08-31T00:00:00",
          "2015-09-30T00:00:00",
          "2015-11-01T00:00:00",
          "2015-12-01T00:00:00",
          "2016-01-01T00:00:00",
          "2016-02-01T00:00:00",
          "2016-03-01T00:00:00",
          "2016-03-31T00:00:00",
          "2016-04-30T00:00:00",
          "2016-05-31T00:00:00",
          "2016-06-30T00:00:00",
          "2016-07-31T00:00:00",
          "2016-08-31T00:00:00",
          "2016-09-30T00:00:00",
          "2016-11-01T00:00:00",
          "2016-12-01T00:00:00",
          "2017-01-01T00:00:00",
          "2017-02-01T00:00:00",
          "2017-03-01T00:00:00",
          "2017-03-31T00:00:00",
          "2017-04-30T00:00:00",
          "2017-05-31T00:00:00",
          "2017-06-30T00:00:00",
          "2017-07-31T00:00:00",
          "2017-08-31T00:00:00",
          "2017-09-30T00:00:00",
          "2017-11-01T00:00:00",
          "2017-12-01T00:00:00",
          "2018-01-01T00:00:00",
          "2018-02-01T00:00:00",
          "2018-03-01T00:00:00",
          "2018-03-31T00:00:00",
          "2018-04-30T00:00:00",
          "2018-05-31T00:00:00",
          "2018-06-30T00:00:00",
          "2018-07-31T00:00:00",
          "2018-08-31T00:00:00",
          "2018-09-30T00:00:00",
          "2018-11-01T00:00:00",
          "2018-12-01T00:00:00",
          "2019-01-01T00:00:00",
          "2019-02-01T00:00:00",
          "2019-03-01T00:00:00",
          "2019-03-31T00:00:00",
          "2019-04-30T00:00:00",
          "2019-05-31T00:00:00",
          "2019-06-30T00:00:00",
          "2019-07-31T00:00:00",
          "2019-08-31T00:00:00",
          "2019-09-30T00:00:00",
          "2019-11-01T00:00:00",
          "2019-12-01T00:00:00",
          "2020-01-01T00:00:00",
          "2020-02-01T00:00:00",
          "2020-03-01T00:00:00",
          "2020-03-31T00:00:00",
          "2020-04-30T00:00:00",
          "2020-05-31T00:00:00",
          "2020-06-30T00:00:00",
          "2020-07-31T00:00:00",
          "2020-08-31T00:00:00",
          "2020-09-30T00:00:00",
          "2020-11-01T00:00:00",
          "2020-12-01T00:00:00",
          "2021-01-01T00:00:00",
          "2021-02-01T00:00:00",
          "2021-03-01T00:00:00",
          "2021-03-31T00:00:00",
          "2021-04-30T00:00:00",
          "2021-05-31T00:00:00",
          "2021-06-30T00:00:00",
          "2021-07-31T00:00:00",
          "2021-08-31T00:00:00",
          "2021-09-30T00:00:00",
          "2021-10-12T00:00:00"
         ],
         "xaxis": "x",
         "yaxis": "y"
        },
        {
         "marker": {
          "color": [
           "red",
           "green",
           "red",
           "red",
           "red",
           "green",
           "green",
           "red",
           "green",
           "green",
           "green",
           "green",
           "red",
           "green",
           "red",
           "green",
           "green",
           "green",
           "red",
           "red",
           "green",
           "green",
           "green",
           "green",
           "green",
           "green",
           "red",
           "green",
           "green",
           "green",
           "green",
           "green",
           "red",
           "green",
           "green",
           "green",
           "red",
           "green",
           "red",
           "green",
           "red",
           "red",
           "green",
           "red",
           "red",
           "red",
           "red",
           "red",
           "red",
           "green",
           "green",
           "green",
           "green",
           "green",
           "red",
           "red",
           "red",
           "green",
           "red",
           "red",
           "green",
           "red",
           "red",
           "green",
           "green",
           "red",
           "green",
           "green",
           "red",
           "green",
           "green",
           "green",
           "green",
           "green",
           "green",
           "red",
           "red",
           "red",
           "green",
           "green",
           "red",
           "green",
           "red"
          ]
         },
         "type": "bar",
         "x": [
          "2015-01-01T00:00:00",
          "2015-02-01T00:00:00",
          "2015-03-01T00:00:00",
          "2015-03-31T00:00:00",
          "2015-04-30T00:00:00",
          "2015-05-31T00:00:00",
          "2015-06-30T00:00:00",
          "2015-07-31T00:00:00",
          "2015-08-31T00:00:00",
          "2015-09-30T00:00:00",
          "2015-11-01T00:00:00",
          "2015-12-01T00:00:00",
          "2016-01-01T00:00:00",
          "2016-02-01T00:00:00",
          "2016-03-01T00:00:00",
          "2016-03-31T00:00:00",
          "2016-04-30T00:00:00",
          "2016-05-31T00:00:00",
          "2016-06-30T00:00:00",
          "2016-07-31T00:00:00",
          "2016-08-31T00:00:00",
          "2016-09-30T00:00:00",
          "2016-11-01T00:00:00",
          "2016-12-01T00:00:00",
          "2017-01-01T00:00:00",
          "2017-02-01T00:00:00",
          "2017-03-01T00:00:00",
          "2017-03-31T00:00:00",
          "2017-04-30T00:00:00",
          "2017-05-31T00:00:00",
          "2017-06-30T00:00:00",
          "2017-07-31T00:00:00",
          "2017-08-31T00:00:00",
          "2017-09-30T00:00:00",
          "2017-11-01T00:00:00",
          "2017-12-01T00:00:00",
          "2018-01-01T00:00:00",
          "2018-02-01T00:00:00",
          "2018-03-01T00:00:00",
          "2018-03-31T00:00:00",
          "2018-04-30T00:00:00",
          "2018-05-31T00:00:00",
          "2018-06-30T00:00:00",
          "2018-07-31T00:00:00",
          "2018-08-31T00:00:00",
          "2018-09-30T00:00:00",
          "2018-11-01T00:00:00",
          "2018-12-01T00:00:00",
          "2019-01-01T00:00:00",
          "2019-02-01T00:00:00",
          "2019-03-01T00:00:00",
          "2019-03-31T00:00:00",
          "2019-04-30T00:00:00",
          "2019-05-31T00:00:00",
          "2019-06-30T00:00:00",
          "2019-07-31T00:00:00",
          "2019-08-31T00:00:00",
          "2019-09-30T00:00:00",
          "2019-11-01T00:00:00",
          "2019-12-01T00:00:00",
          "2020-01-01T00:00:00",
          "2020-02-01T00:00:00",
          "2020-03-01T00:00:00",
          "2020-03-31T00:00:00",
          "2020-04-30T00:00:00",
          "2020-05-31T00:00:00",
          "2020-06-30T00:00:00",
          "2020-07-31T00:00:00",
          "2020-08-31T00:00:00",
          "2020-09-30T00:00:00",
          "2020-11-01T00:00:00",
          "2020-12-01T00:00:00",
          "2021-01-01T00:00:00",
          "2021-02-01T00:00:00",
          "2021-03-01T00:00:00",
          "2021-03-31T00:00:00",
          "2021-04-30T00:00:00",
          "2021-05-31T00:00:00",
          "2021-06-30T00:00:00",
          "2021-07-31T00:00:00",
          "2021-08-31T00:00:00",
          "2021-09-30T00:00:00",
          "2021-10-12T00:00:00"
         ],
         "xaxis": "x2",
         "y": [
          1098811912,
          711518700,
          959098300,
          672338700,
          568122600,
          629780200,
          999892200,
          905192300,
          603623900,
          953279500,
          2177623396,
          2096250000,
          1990880304,
          1876238692,
          2332852776,
          1811475204,
          2234432796,
          4749702740,
          3454186204,
          2686220180,
          2004401400,
          2115443796,
          2635773092,
          3556763800,
          5143971692,
          4282761200,
          10872455960,
          9757448112,
          34261856864,
          44478140928,
          32619956992,
          63548016640,
          55700949056,
          58009357952,
          140735010304,
          410336495104,
          416247858176,
          229717780480,
          193751709184,
          196550010624,
          197611709696,
          130214179584,
          141441939792,
          132292770000,
          129745370000,
          118436880000,
          158359524484,
          168826809069,
          167335706864,
          199100675597,
          297952790260,
          445364556718,
          724157870864,
          675855385074,
          676416326705,
          533984971734,
          480544963230,
          595205134748,
          676919523650,
          633790373416,
          852872174496,
          1163376492768,
          1290442059648,
          1123613741264,
          1286368141507,
          650913318680,
          545813339109,
          708377092130,
          893852011704,
          747991403008,
          1093144913227,
          1212259707946,
          2155904438233,
          2267152936675,
          1681184264687,
          1844481772417,
          1976593438572,
          1189647451707,
          819103381204,
          1014674184428,
          1102139678824,
          404659981172,
          41173790720
         ],
         "yaxis": "y2"
        }
       ],
       "layout": {
        "height": 600,
        "template": {
         "data": {
          "bar": [
           {
            "error_x": {
             "color": "#2a3f5f"
            },
            "error_y": {
             "color": "#2a3f5f"
            },
            "marker": {
             "line": {
              "color": "#E5ECF6",
              "width": 0.5
             }
            },
            "type": "bar"
           }
          ],
          "barpolar": [
           {
            "marker": {
             "line": {
              "color": "#E5ECF6",
              "width": 0.5
             }
            },
            "type": "barpolar"
           }
          ],
          "carpet": [
           {
            "aaxis": {
             "endlinecolor": "#2a3f5f",
             "gridcolor": "white",
             "linecolor": "white",
             "minorgridcolor": "white",
             "startlinecolor": "#2a3f5f"
            },
            "baxis": {
             "endlinecolor": "#2a3f5f",
             "gridcolor": "white",
             "linecolor": "white",
             "minorgridcolor": "white",
             "startlinecolor": "#2a3f5f"
            },
            "type": "carpet"
           }
          ],
          "choropleth": [
           {
            "colorbar": {
             "outlinewidth": 0,
             "ticks": ""
            },
            "type": "choropleth"
           }
          ],
          "contour": [
           {
            "colorbar": {
             "outlinewidth": 0,
             "ticks": ""
            },
            "colorscale": [
             [
              0,
              "#0d0887"
             ],
             [
              0.1111111111111111,
              "#46039f"
             ],
             [
              0.2222222222222222,
              "#7201a8"
             ],
             [
              0.3333333333333333,
              "#9c179e"
             ],
             [
              0.4444444444444444,
              "#bd3786"
             ],
             [
              0.5555555555555556,
              "#d8576b"
             ],
             [
              0.6666666666666666,
              "#ed7953"
             ],
             [
              0.7777777777777778,
              "#fb9f3a"
             ],
             [
              0.8888888888888888,
              "#fdca26"
             ],
             [
              1,
              "#f0f921"
             ]
            ],
            "type": "contour"
           }
          ],
          "contourcarpet": [
           {
            "colorbar": {
             "outlinewidth": 0,
             "ticks": ""
            },
            "type": "contourcarpet"
           }
          ],
          "heatmap": [
           {
            "colorbar": {
             "outlinewidth": 0,
             "ticks": ""
            },
            "colorscale": [
             [
              0,
              "#0d0887"
             ],
             [
              0.1111111111111111,
              "#46039f"
             ],
             [
              0.2222222222222222,
              "#7201a8"
             ],
             [
              0.3333333333333333,
              "#9c179e"
             ],
             [
              0.4444444444444444,
              "#bd3786"
             ],
             [
              0.5555555555555556,
              "#d8576b"
             ],
             [
              0.6666666666666666,
              "#ed7953"
             ],
             [
              0.7777777777777778,
              "#fb9f3a"
             ],
             [
              0.8888888888888888,
              "#fdca26"
             ],
             [
              1,
              "#f0f921"
             ]
            ],
            "type": "heatmap"
           }
          ],
          "heatmapgl": [
           {
            "colorbar": {
             "outlinewidth": 0,
             "ticks": ""
            },
            "colorscale": [
             [
              0,
              "#0d0887"
             ],
             [
              0.1111111111111111,
              "#46039f"
             ],
             [
              0.2222222222222222,
              "#7201a8"
             ],
             [
              0.3333333333333333,
              "#9c179e"
             ],
             [
              0.4444444444444444,
              "#bd3786"
             ],
             [
              0.5555555555555556,
              "#d8576b"
             ],
             [
              0.6666666666666666,
              "#ed7953"
             ],
             [
              0.7777777777777778,
              "#fb9f3a"
             ],
             [
              0.8888888888888888,
              "#fdca26"
             ],
             [
              1,
              "#f0f921"
             ]
            ],
            "type": "heatmapgl"
           }
          ],
          "histogram": [
           {
            "marker": {
             "colorbar": {
              "outlinewidth": 0,
              "ticks": ""
             }
            },
            "type": "histogram"
           }
          ],
          "histogram2d": [
           {
            "colorbar": {
             "outlinewidth": 0,
             "ticks": ""
            },
            "colorscale": [
             [
              0,
              "#0d0887"
             ],
             [
              0.1111111111111111,
              "#46039f"
             ],
             [
              0.2222222222222222,
              "#7201a8"
             ],
             [
              0.3333333333333333,
              "#9c179e"
             ],
             [
              0.4444444444444444,
              "#bd3786"
             ],
             [
              0.5555555555555556,
              "#d8576b"
             ],
             [
              0.6666666666666666,
              "#ed7953"
             ],
             [
              0.7777777777777778,
              "#fb9f3a"
             ],
             [
              0.8888888888888888,
              "#fdca26"
             ],
             [
              1,
              "#f0f921"
             ]
            ],
            "type": "histogram2d"
           }
          ],
          "histogram2dcontour": [
           {
            "colorbar": {
             "outlinewidth": 0,
             "ticks": ""
            },
            "colorscale": [
             [
              0,
              "#0d0887"
             ],
             [
              0.1111111111111111,
              "#46039f"
             ],
             [
              0.2222222222222222,
              "#7201a8"
             ],
             [
              0.3333333333333333,
              "#9c179e"
             ],
             [
              0.4444444444444444,
              "#bd3786"
             ],
             [
              0.5555555555555556,
              "#d8576b"
             ],
             [
              0.6666666666666666,
              "#ed7953"
             ],
             [
              0.7777777777777778,
              "#fb9f3a"
             ],
             [
              0.8888888888888888,
              "#fdca26"
             ],
             [
              1,
              "#f0f921"
             ]
            ],
            "type": "histogram2dcontour"
           }
          ],
          "mesh3d": [
           {
            "colorbar": {
             "outlinewidth": 0,
             "ticks": ""
            },
            "type": "mesh3d"
           }
          ],
          "parcoords": [
           {
            "line": {
             "colorbar": {
              "outlinewidth": 0,
              "ticks": ""
             }
            },
            "type": "parcoords"
           }
          ],
          "pie": [
           {
            "automargin": true,
            "type": "pie"
           }
          ],
          "scatter": [
           {
            "marker": {
             "colorbar": {
              "outlinewidth": 0,
              "ticks": ""
             }
            },
            "type": "scatter"
           }
          ],
          "scatter3d": [
           {
            "line": {
             "colorbar": {
              "outlinewidth": 0,
              "ticks": ""
             }
            },
            "marker": {
             "colorbar": {
              "outlinewidth": 0,
              "ticks": ""
             }
            },
            "type": "scatter3d"
           }
          ],
          "scattercarpet": [
           {
            "marker": {
             "colorbar": {
              "outlinewidth": 0,
              "ticks": ""
             }
            },
            "type": "scattercarpet"
           }
          ],
          "scattergeo": [
           {
            "marker": {
             "colorbar": {
              "outlinewidth": 0,
              "ticks": ""
             }
            },
            "type": "scattergeo"
           }
          ],
          "scattergl": [
           {
            "marker": {
             "colorbar": {
              "outlinewidth": 0,
              "ticks": ""
             }
            },
            "type": "scattergl"
           }
          ],
          "scattermapbox": [
           {
            "marker": {
             "colorbar": {
              "outlinewidth": 0,
              "ticks": ""
             }
            },
            "type": "scattermapbox"
           }
          ],
          "scatterpolar": [
           {
            "marker": {
             "colorbar": {
              "outlinewidth": 0,
              "ticks": ""
             }
            },
            "type": "scatterpolar"
           }
          ],
          "scatterpolargl": [
           {
            "marker": {
             "colorbar": {
              "outlinewidth": 0,
              "ticks": ""
             }
            },
            "type": "scatterpolargl"
           }
          ],
          "scatterternary": [
           {
            "marker": {
             "colorbar": {
              "outlinewidth": 0,
              "ticks": ""
             }
            },
            "type": "scatterternary"
           }
          ],
          "surface": [
           {
            "colorbar": {
             "outlinewidth": 0,
             "ticks": ""
            },
            "colorscale": [
             [
              0,
              "#0d0887"
             ],
             [
              0.1111111111111111,
              "#46039f"
             ],
             [
              0.2222222222222222,
              "#7201a8"
             ],
             [
              0.3333333333333333,
              "#9c179e"
             ],
             [
              0.4444444444444444,
              "#bd3786"
             ],
             [
              0.5555555555555556,
              "#d8576b"
             ],
             [
              0.6666666666666666,
              "#ed7953"
             ],
             [
              0.7777777777777778,
              "#fb9f3a"
             ],
             [
              0.8888888888888888,
              "#fdca26"
             ],
             [
              1,
              "#f0f921"
             ]
            ],
            "type": "surface"
           }
          ],
          "table": [
           {
            "cells": {
             "fill": {
              "color": "#EBF0F8"
             },
             "line": {
              "color": "white"
             }
            },
            "header": {
             "fill": {
              "color": "#C8D4E3"
             },
             "line": {
              "color": "white"
             }
            },
            "type": "table"
           }
          ]
         },
         "layout": {
          "annotationdefaults": {
           "arrowcolor": "#2a3f5f",
           "arrowhead": 0,
           "arrowwidth": 1
          },
          "autotypenumbers": "strict",
          "coloraxis": {
           "colorbar": {
            "outlinewidth": 0,
            "ticks": ""
           }
          },
          "colorscale": {
           "diverging": [
            [
             0,
             "#8e0152"
            ],
            [
             0.1,
             "#c51b7d"
            ],
            [
             0.2,
             "#de77ae"
            ],
            [
             0.3,
             "#f1b6da"
            ],
            [
             0.4,
             "#fde0ef"
            ],
            [
             0.5,
             "#f7f7f7"
            ],
            [
             0.6,
             "#e6f5d0"
            ],
            [
             0.7,
             "#b8e186"
            ],
            [
             0.8,
             "#7fbc41"
            ],
            [
             0.9,
             "#4d9221"
            ],
            [
             1,
             "#276419"
            ]
           ],
           "sequential": [
            [
             0,
             "#0d0887"
            ],
            [
             0.1111111111111111,
             "#46039f"
            ],
            [
             0.2222222222222222,
             "#7201a8"
            ],
            [
             0.3333333333333333,
             "#9c179e"
            ],
            [
             0.4444444444444444,
             "#bd3786"
            ],
            [
             0.5555555555555556,
             "#d8576b"
            ],
            [
             0.6666666666666666,
             "#ed7953"
            ],
            [
             0.7777777777777778,
             "#fb9f3a"
            ],
            [
             0.8888888888888888,
             "#fdca26"
            ],
            [
             1,
             "#f0f921"
            ]
           ],
           "sequentialminus": [
            [
             0,
             "#0d0887"
            ],
            [
             0.1111111111111111,
             "#46039f"
            ],
            [
             0.2222222222222222,
             "#7201a8"
            ],
            [
             0.3333333333333333,
             "#9c179e"
            ],
            [
             0.4444444444444444,
             "#bd3786"
            ],
            [
             0.5555555555555556,
             "#d8576b"
            ],
            [
             0.6666666666666666,
             "#ed7953"
            ],
            [
             0.7777777777777778,
             "#fb9f3a"
            ],
            [
             0.8888888888888888,
             "#fdca26"
            ],
            [
             1,
             "#f0f921"
            ]
           ]
          },
          "colorway": [
           "#636efa",
           "#EF553B",
           "#00cc96",
           "#ab63fa",
           "#FFA15A",
           "#19d3f3",
           "#FF6692",
           "#B6E880",
           "#FF97FF",
           "#FECB52"
          ],
          "font": {
           "color": "#2a3f5f"
          },
          "geo": {
           "bgcolor": "white",
           "lakecolor": "white",
           "landcolor": "#E5ECF6",
           "showlakes": true,
           "showland": true,
           "subunitcolor": "white"
          },
          "hoverlabel": {
           "align": "left"
          },
          "hovermode": "closest",
          "mapbox": {
           "style": "light"
          },
          "paper_bgcolor": "white",
          "plot_bgcolor": "#E5ECF6",
          "polar": {
           "angularaxis": {
            "gridcolor": "white",
            "linecolor": "white",
            "ticks": ""
           },
           "bgcolor": "#E5ECF6",
           "radialaxis": {
            "gridcolor": "white",
            "linecolor": "white",
            "ticks": ""
           }
          },
          "scene": {
           "xaxis": {
            "backgroundcolor": "#E5ECF6",
            "gridcolor": "white",
            "gridwidth": 2,
            "linecolor": "white",
            "showbackground": true,
            "ticks": "",
            "zerolinecolor": "white"
           },
           "yaxis": {
            "backgroundcolor": "#E5ECF6",
            "gridcolor": "white",
            "gridwidth": 2,
            "linecolor": "white",
            "showbackground": true,
            "ticks": "",
            "zerolinecolor": "white"
           },
           "zaxis": {
            "backgroundcolor": "#E5ECF6",
            "gridcolor": "white",
            "gridwidth": 2,
            "linecolor": "white",
            "showbackground": true,
            "ticks": "",
            "zerolinecolor": "white"
           }
          },
          "shapedefaults": {
           "line": {
            "color": "#2a3f5f"
           }
          },
          "ternary": {
           "aaxis": {
            "gridcolor": "white",
            "linecolor": "white",
            "ticks": ""
           },
           "baxis": {
            "gridcolor": "white",
            "linecolor": "white",
            "ticks": ""
           },
           "bgcolor": "#E5ECF6",
           "caxis": {
            "gridcolor": "white",
            "linecolor": "white",
            "ticks": ""
           }
          },
          "title": {
           "x": 0.05
          },
          "xaxis": {
           "automargin": true,
           "gridcolor": "white",
           "linecolor": "white",
           "ticks": "",
           "title": {
            "standoff": 15
           },
           "zerolinecolor": "white",
           "zerolinewidth": 2
          },
          "yaxis": {
           "automargin": true,
           "gridcolor": "white",
           "linecolor": "white",
           "ticks": "",
           "title": {
            "standoff": 15
           },
           "zerolinecolor": "white",
           "zerolinewidth": 2
          }
         }
        },
        "title": {
         "text": "Interactive CandleStick & Volume Chart"
        },
        "width": 910,
        "xaxis": {
         "anchor": "y",
         "autorange": true,
         "domain": [
          0,
          1
         ],
         "matches": "x2",
         "range": [
          "2014-12-26",
          "2021-10-18"
         ],
         "rangeselector": {
          "buttons": [
           {
            "count": 3,
            "label": "trim",
            "step": "month",
            "stepmode": "backward"
           },
           {
            "count": 6,
            "label": "semes",
            "step": "month",
            "stepmode": "backward"
           },
           {
            "count": 1,
            "label": "1 year",
            "step": "year",
            "stepmode": "backward"
           },
           {
            "count": 5,
            "label": "5 years",
            "step": "year",
            "stepmode": "backward"
           },
           {
            "step": "all"
           }
          ]
         },
         "rangeslider": {
          "visible": false,
          "yaxis": {}
         },
         "showticklabels": false,
         "type": "date"
        },
        "xaxis2": {
         "anchor": "y2",
         "autorange": true,
         "domain": [
          0,
          1
         ],
         "range": [
          "2014-12-26",
          "2021-10-18"
         ],
         "title": {
          "text": "Time"
         },
         "type": "date"
        },
        "yaxis": {
         "anchor": "x",
         "autorange": true,
         "domain": [
          0.2,
          1
         ],
         "range": [
          -3422.467097812229,
          68457.07474856907
         ],
         "title": {
          "text": "Stock Price ($)"
         },
         "type": "linear"
        },
        "yaxis2": {
         "anchor": "x2",
         "autorange": true,
         "domain": [
          0,
          0.2
         ],
         "range": [
          0,
          2386476775447.3687
         ],
         "title": {
          "text": "Volume (M)"
         },
         "type": "linear"
        }
       }
      },
      "image/png": "[encoded data removed]",
      "text/html": [
       "<div>                            <div id=\"de490640-9232-46be-8949-e003051930d0\" class=\"plotly-graph-div\" style=\"height:600px; width:910px;\"></div>            <script type=\"text/javascript\">                require([\"plotly\"], function(Plotly) {                    window.PLOTLYENV=window.PLOTLYENV || {};                                    if (document.getElementById(\"de490640-9232-46be-8949-e003051930d0\")) {                    Plotly.newPlot(                        \"de490640-9232-46be-8949-e003051930d0\",                        [{\"line\": {\"color\": \"blue\", \"width\": 1}, \"name\": \"MA 5\", \"opacity\": 0.7, \"type\": \"scatter\", \"x\": [\"2015-01-01T00:00:00\", \"2015-02-01T00:00:00\", \"2015-03-01T00:00:00\", \"2015-03-31T00:00:00\", \"2015-04-30T00:00:00\", \"2015-05-31T00:00:00\", \"2015-06-30T00:00:00\", \"2015-07-31T00:00:00\", \"2015-08-31T00:00:00\", \"2015-09-30T00:00:00\", \"2015-11-01T00:00:00\", \"2015-12-01T00:00:00\", \"2016-01-01T00:00:00\", \"2016-02-01T00:00:00\", \"2016-03-01T00:00:00\", \"2016-03-31T00:00:00\", \"2016-04-30T00:00:00\", \"2016-05-31T00:00:00\", \"2016-06-30T00:00:00\", \"2016-07-31T00:00:00\", \"2016-08-31T00:00:00\", \"2016-09-30T00:00:00\", \"2016-11-01T00:00:00\", \"2016-12-01T00:00:00\", \"2017-01-01T00:00:00\", \"2017-02-01T00:00:00\", \"2017-03-01T00:00:00\", \"2017-03-31T00:00:00\", \"2017-04-30T00:00:00\", \"2017-05-31T00:00:00\", \"2017-06-30T00:00:00\", \"2017-07-31T00:00:00\", \"2017-08-31T00:00:00\", \"2017-09-30T00:00:00\", \"2017-11-01T00:00:00\", \"2017-12-01T00:00:00\", \"2018-01-01T00:00:00\", \"2018-02-01T00:00:00\", \"2018-03-01T00:00:00\", \"2018-03-31T00:00:00\", \"2018-04-30T00:00:00\", \"2018-05-31T00:00:00\", \"2018-06-30T00:00:00\", \"2018-07-31T00:00:00\", \"2018-08-31T00:00:00\", \"2018-09-30T00:00:00\", \"2018-11-01T00:00:00\", \"2018-12-01T00:00:00\", \"2019-01-01T00:00:00\", \"2019-02-01T00:00:00\", \"2019-03-01T00:00:00\", \"2019-03-31T00:00:00\", \"2019-04-30T00:00:00\", \"2019-05-31T00:00:00\", \"2019-06-30T00:00:00\", \"2019-07-31T00:00:00\", \"2019-08-31T00:00:00\", \"2019-09-30T00:00:00\", \"2019-11-01T00:00:00\", \"2019-12-01T00:00:00\", \"2020-01-01T00:00:00\", \"2020-02-01T00:00:00\", \"2020-03-01T00:00:00\", \"2020-03-31T00:00:00\", \"2020-04-30T00:00:00\", \"2020-05-31T00:00:00\", \"2020-06-30T00:00:00\", \"2020-07-31T00:00:00\", \"2020-08-31T00:00:00\", \"2020-09-30T00:00:00\", \"2020-11-01T00:00:00\", \"2020-12-01T00:00:00\", \"2021-01-01T00:00:00\", \"2021-02-01T00:00:00\", \"2021-03-01T00:00:00\", \"2021-03-31T00:00:00\", \"2021-04-30T00:00:00\", \"2021-05-31T00:00:00\", \"2021-06-30T00:00:00\", \"2021-07-31T00:00:00\", \"2021-08-31T00:00:00\", \"2021-09-30T00:00:00\", \"2021-10-12T00:00:00\"], \"y\": [null, null, null, null, 236.4572021484375, 245.57879943847655, 251.65619812011718, 248.82259826660157, 248.80559692382812, 265.6007934570313, 288.4505981445312, 317.6339965820313, 345.3761962890625, 385.70359497070314, 406.21619873046876, 420.41559448242185, 440.57939453125, 501.49338989257814, 538.8901977539062, 570.6387939453125, 602.9221923828125, 636.8393920898437, 651.3101928710937, 719.1225830078125, 798.1087890625, 912.1557861328125, 986.3193969726562, 1106.7592041015625, 1371.2925903320313, 1673.3800048828125, 2012.4540283203125, 2738.7740478515625, 3336.938037109375, 4173.33603515625, 5723.887939453125, 7980.1, 9083.64189453125, 10295.47998046875, 10396.50595703125, 10197.89599609375, 8865.44990234375, 8102.02998046875, 7578.537890625, 7591.34794921875, 7068.35, 6833.03798828125, 6355.69169921875, 5548.143798828125, 4832.186328125, 4278.031396484375, 3835.590283203125, 4102.281884765625, 5068.6421875, 6540.514697265625, 7786.683203125, 8891.73515625, 9480.3634765625, 9605.380078125, 8955.875, 8377.46923828125, 8321.44228515625, 8382.57041015625, 7830.38232421875, 8048.16708984375, 8501.658984375, 8459.1517578125, 9003.943359375, 10052.378515625, 10478.19140625, 11342.1787109375, 13439.747265625, 16975.398046875, 21262.105859375, 28132.1361328125, 37159.703515625, 44784.571484375, 46450.7984375, 46836.09375, 46133.77890625, 43783.35, 40991.49375, 45021.88046875, 49059.08515625]}, {\"line\": {\"color\": \"orange\", \"width\": 1}, \"name\": \"MA 20\", \"opacity\": 0.7, \"type\": \"scatter\", \"x\": [\"2015-01-01T00:00:00\", \"2015-02-01T00:00:00\", \"2015-03-01T00:00:00\", \"2015-03-31T00:00:00\", \"2015-04-30T00:00:00\", \"2015-05-31T00:00:00\", \"2015-06-30T00:00:00\", \"2015-07-31T00:00:00\", \"2015-08-31T00:00:00\", \"2015-09-30T00:00:00\", \"2015-11-01T00:00:00\", \"2015-12-01T00:00:00\", \"2016-01-01T00:00:00\", \"2016-02-01T00:00:00\", \"2016-03-01T00:00:00\", \"2016-03-31T00:00:00\", \"2016-04-30T00:00:00\", \"2016-05-31T00:00:00\", \"2016-06-30T00:00:00\", \"2016-07-31T00:00:00\", \"2016-08-31T00:00:00\", \"2016-09-30T00:00:00\", \"2016-11-01T00:00:00\", \"2016-12-01T00:00:00\", \"2017-01-01T00:00:00\", \"2017-02-01T00:00:00\", \"2017-03-01T00:00:00\", \"2017-03-31T00:00:00\", \"2017-04-30T00:00:00\", \"2017-05-31T00:00:00\", \"2017-06-30T00:00:00\", \"2017-07-31T00:00:00\", \"2017-08-31T00:00:00\", \"2017-09-30T00:00:00\", \"2017-11-01T00:00:00\", \"2017-12-01T00:00:00\", \"2018-01-01T00:00:00\", \"2018-02-01T00:00:00\", \"2018-03-01T00:00:00\", \"2018-03-31T00:00:00\", \"2018-04-30T00:00:00\", \"2018-05-31T00:00:00\", \"2018-06-30T00:00:00\", \"2018-07-31T00:00:00\", \"2018-08-31T00:00:00\", \"2018-09-30T00:00:00\", \"2018-11-01T00:00:00\", \"2018-12-01T00:00:00\", \"2019-01-01T00:00:00\", \"2019-02-01T00:00:00\", \"2019-03-01T00:00:00\", \"2019-03-31T00:00:00\", \"2019-04-30T00:00:00\", \"2019-05-31T00:00:00\", \"2019-06-30T00:00:00\", \"2019-07-31T00:00:00\", \"2019-08-31T00:00:00\", \"2019-09-30T00:00:00\", \"2019-11-01T00:00:00\", \"2019-12-01T00:00:00\", \"2020-01-01T00:00:00\", \"2020-02-01T00:00:00\", \"2020-03-01T00:00:00\", \"2020-03-31T00:00:00\", \"2020-04-30T00:00:00\", \"2020-05-31T00:00:00\", \"2020-06-30T00:00:00\", \"2020-07-31T00:00:00\", \"2020-08-31T00:00:00\", \"2020-09-30T00:00:00\", \"2020-11-01T00:00:00\", \"2020-12-01T00:00:00\", \"2021-01-01T00:00:00\", \"2021-02-01T00:00:00\", \"2021-03-01T00:00:00\", \"2021-03-31T00:00:00\", \"2021-04-30T00:00:00\", \"2021-05-31T00:00:00\", \"2021-06-30T00:00:00\", \"2021-07-31T00:00:00\", \"2021-08-31T00:00:00\", \"2021-09-30T00:00:00\", \"2021-10-12T00:00:00\"], \"y\": [null, null, null, null, null, null, null, null, null, null, null, null, null, null, null, null, null, null, null, 369.7282470703125, 389.34179611206054, 411.67724533081054, 436.750594329834, 473.1304931640625, 510.1411437988281, 555.9860427856445, 595.3430450439453, 651.2347457885742, 753.7522415161133, 862.0859466552735, 986.9869003295898, 1200.6280578613282, 1399.1252059936523, 1700.6603515625, 2191.5038818359376, 2876.9080017089846, 3361.393682861328, 3847.6218536376955, 4165.064291381836, 4598.3181823730465, 4942.539929199219, 5227.691329956055, 5579.4287780761715, 5883.1206329345705, 6165.8784851074215, 6422.760479736328, 6570.034405517578, 6689.774926757813, 6748.344067382813, 6817.041333007813, 6878.544543457031, 6910.911364746094, 7122.700964355468, 7340.138732910156, 7332.740148925781, 7106.453332519532, 7010.091760253907, 6950.175988769532, 6979.980993652343, 6877.633459472656, 6970.451428222656, 7080.226867675781, 7013.137097167969, 7094.185778808594, 7235.960705566406, 7376.979870605469, 7742.289782714844, 8139.195776367187, 8505.687048339843, 9001.997534179687, 9778.019116210937, 10960.568823242187, 12187.561694335938, 13903.592407226562, 16345.252612304688, 18751.22819824219, 20203.17756347656, 21495.240112304688, 23198.06838378906, 25196.722802734374, 26918.741064453126, 29363.005078125, 31802.4158203125]}, {\"close\": [217.46400451660156, 254.26300048828125, 244.2239990234375, 236.14500427246094, 230.19000244140625, 263.0719909667969, 284.6499938964844, 230.05599975585938, 236.05999755859375, 314.1659851074219, 377.3210144042969, 430.5669860839844, 368.7669982910156, 437.6969909667969, 416.72900390625, 448.3179931640625, 531.385986328125, 673.3369750976562, 624.6810302734375, 575.4719848632812, 609.7349853515625, 700.9719848632812, 745.6909790039062, 963.7429809570312, 970.4030151367188, 1179.969970703125, 1071.7900390625, 1347.8900146484375, 2286.409912109375, 2480.840087890625, 2875.340087890625, 4703.39013671875, 4338.7099609375, 6468.39990234375, 10233.599609375, 14156.400390625, 10221.099609375, 10397.900390625, 6973.52978515625, 9240.5498046875, 7494.169921875, 6404.0, 7780.43994140625, 7037.580078125, 6625.56005859375, 6317.60986328125, 4017.2685546875, 3742.700439453125, 3457.792724609375, 3854.785400390625, 4105.404296875, 5350.7265625, 8574.501953125, 10817.1552734375, 10085.6279296875, 9630.6640625, 8293.8681640625, 9199.5849609375, 7569.6298828125, 7193.59912109375, 9350.529296875, 8599.5087890625, 6438.64453125, 8658.5537109375, 9461.05859375, 9137.9931640625, 11323.466796875, 11680.8203125, 10787.6181640625, 13780.9951171875, 19625.8359375, 29001.720703125, 33114.359375, 45137.76953125, 58918.83203125, 57750.17578125, 37332.85546875, 35040.8359375, 41626.1953125, 47166.6875, 43790.89453125, 57484.7890625, 55226.859375], \"decreasing\": {\"line\": {\"color\": \"red\"}}, \"high\": [320.43499755859375, 265.6109924316406, 300.04400634765625, 261.7980041503906, 247.8040008544922, 267.86700439453125, 314.3940124511719, 285.7149963378906, 259.1820068359375, 334.16900634765625, 495.56201171875, 469.1029968261719, 462.9339904785156, 448.0459899902344, 439.65301513671875, 467.9649963378906, 553.9600219726562, 777.989990234375, 704.968017578125, 626.1190185546875, 628.8179931640625, 720.4019775390625, 756.2369995117188, 979.39697265625, 1191.0999755859375, 1200.3900146484375, 1280.31005859375, 1347.9100341796875, 2763.7099609375, 2999.909912109375, 2916.139892578125, 4736.0498046875, 4975.0400390625, 6470.43017578125, 11517.400390625, 20089.0, 17712.400390625, 11958.5, 11704.099609375, 9745.3203125, 9964.5, 7754.89013671875, 8424.26953125, 7769.0400390625, 7388.43017578125, 6965.06005859375, 6552.16015625, 4309.37744140625, 4109.02099609375, 4210.6416015625, 4296.806640625, 5642.04443359375, 9008.314453125, 13796.4892578125, 13129.529296875, 12273.8212890625, 10898.76171875, 10021.744140625, 9505.0517578125, 7743.431640625, 9553.1259765625, 10457.626953125, 9167.6953125, 9440.650390625, 9996.7431640625, 10199.5654296875, 11415.8642578125, 12359.056640625, 12067.0810546875, 14028.2138671875, 19749.263671875, 29244.876953125, 41946.73828125, 58330.5703125, 61683.86328125, 64863.09765625, 59519.35546875, 41295.26953125, 42235.546875, 50482.078125, 52853.765625, 57793.0390625, 57627.87890625], \"increasing\": {\"line\": {\"color\": \"green\"}}, \"low\": [171.50999450683594, 212.01499938964844, 236.51499938964844, 214.87399291992188, 228.572998046875, 221.29600524902344, 253.5050048828125, 199.56700134277344, 225.11700439453125, 235.61599731445312, 300.99700927734375, 349.4649963378906, 354.91400146484375, 367.9570007324219, 394.0350036621094, 415.83099365234375, 437.3890075683594, 525.635986328125, 611.833984375, 531.333984375, 570.8109741210938, 609.47900390625, 678.156005859375, 746.0460205078125, 755.7559814453125, 946.6909790039062, 903.7130126953125, 1061.0899658203125, 1348.300048828125, 2212.9599609375, 1843.030029296875, 2668.590087890625, 2946.6201171875, 4164.0498046875, 5519.009765625, 9694.650390625, 9402.2900390625, 6048.259765625, 6683.93017578125, 6526.8701171875, 7090.68017578125, 5826.41015625, 6136.419921875, 5971.0498046875, 6197.52001953125, 6236.47021484375, 3585.06005859375, 3191.303466796875, 3400.81982421875, 3391.023681640625, 3733.749755859375, 4096.9013671875, 5347.64599609375, 7564.48876953125, 9163.134765625, 9421.6298828125, 7830.7587890625, 7446.98876953125, 6617.1669921875, 6540.04931640625, 6914.99609375, 8492.9326171875, 4106.98095703125, 6202.37353515625, 8374.3232421875, 8975.525390625, 8977.015625, 11012.4150390625, 9916.4931640625, 10440.3115234375, 13243.16015625, 17619.533203125, 28722.755859375, 32384.228515625, 45115.09375, 47159.484375, 30681.49609375, 28893.62109375, 29360.955078125, 37458.00390625, 39787.609375, 43320.0234375, 54477.97265625], \"open\": [320.43499755859375, 216.86700439453125, 254.2830047607422, 244.22300720214844, 235.93899536132812, 230.23300170898438, 263.3450012207031, 284.6860046386719, 230.25599670410156, 236.00399780273438, 315.0050048828125, 377.41400146484375, 430.72100830078125, 369.3500061035156, 437.9169921875, 416.760009765625, 448.4840087890625, 531.1069946289062, 672.5150146484375, 624.6019897460938, 575.5460205078125, 609.9290161132812, 701.3369750976562, 746.0460205078125, 963.6580200195312, 970.9409790039062, 1180.0400390625, 1071.7099609375, 1348.300048828125, 2288.330078125, 2492.60009765625, 2871.300048828125, 4701.759765625, 4341.0498046875, 6440.97021484375, 10198.599609375, 14112.2001953125, 10237.2998046875, 10385.0, 7003.06005859375, 9251.4697265625, 7500.7001953125, 6411.68017578125, 7769.0400390625, 7044.81005859375, 6619.85009765625, 6318.14013671875, 4024.46435546875, 3746.71337890625, 3460.547119140625, 3853.757080078125, 4105.3623046875, 5350.91455078125, 8573.83984375, 10796.9306640625, 10077.4423828125, 9630.5927734375, 8299.720703125, 9193.9921875, 7571.6162109375, 7194.89208984375, 9346.357421875, 8599.7587890625, 6437.3193359375, 8672.7822265625, 9463.60546875, 9145.9853515625, 11322.5703125, 11679.31640625, 10785.0107421875, 13780.9951171875, 19633.76953125, 28994.009765625, 33114.578125, 45159.50390625, 58926.5625, 57714.6640625, 37293.79296875, 35035.984375, 41460.84375, 47099.7734375, 43816.7421875, 57413.859375], \"type\": \"candlestick\", \"x\": [\"2015-01-01T00:00:00\", \"2015-02-01T00:00:00\", \"2015-03-01T00:00:00\", \"2015-03-31T00:00:00\", \"2015-04-30T00:00:00\", \"2015-05-31T00:00:00\", \"2015-06-30T00:00:00\", \"2015-07-31T00:00:00\", \"2015-08-31T00:00:00\", \"2015-09-30T00:00:00\", \"2015-11-01T00:00:00\", \"2015-12-01T00:00:00\", \"2016-01-01T00:00:00\", \"2016-02-01T00:00:00\", \"2016-03-01T00:00:00\", \"2016-03-31T00:00:00\", \"2016-04-30T00:00:00\", \"2016-05-31T00:00:00\", \"2016-06-30T00:00:00\", \"2016-07-31T00:00:00\", \"2016-08-31T00:00:00\", \"2016-09-30T00:00:00\", \"2016-11-01T00:00:00\", \"2016-12-01T00:00:00\", \"2017-01-01T00:00:00\", \"2017-02-01T00:00:00\", \"2017-03-01T00:00:00\", \"2017-03-31T00:00:00\", \"2017-04-30T00:00:00\", \"2017-05-31T00:00:00\", \"2017-06-30T00:00:00\", \"2017-07-31T00:00:00\", \"2017-08-31T00:00:00\", \"2017-09-30T00:00:00\", \"2017-11-01T00:00:00\", \"2017-12-01T00:00:00\", \"2018-01-01T00:00:00\", \"2018-02-01T00:00:00\", \"2018-03-01T00:00:00\", \"2018-03-31T00:00:00\", \"2018-04-30T00:00:00\", \"2018-05-31T00:00:00\", \"2018-06-30T00:00:00\", \"2018-07-31T00:00:00\", \"2018-08-31T00:00:00\", \"2018-09-30T00:00:00\", \"2018-11-01T00:00:00\", \"2018-12-01T00:00:00\", \"2019-01-01T00:00:00\", \"2019-02-01T00:00:00\", \"2019-03-01T00:00:00\", \"2019-03-31T00:00:00\", \"2019-04-30T00:00:00\", \"2019-05-31T00:00:00\", \"2019-06-30T00:00:00\", \"2019-07-31T00:00:00\", \"2019-08-31T00:00:00\", \"2019-09-30T00:00:00\", \"2019-11-01T00:00:00\", \"2019-12-01T00:00:00\", \"2020-01-01T00:00:00\", \"2020-02-01T00:00:00\", \"2020-03-01T00:00:00\", \"2020-03-31T00:00:00\", \"2020-04-30T00:00:00\", \"2020-05-31T00:00:00\", \"2020-06-30T00:00:00\", \"2020-07-31T00:00:00\", \"2020-08-31T00:00:00\", \"2020-09-30T00:00:00\", \"2020-11-01T00:00:00\", \"2020-12-01T00:00:00\", \"2021-01-01T00:00:00\", \"2021-02-01T00:00:00\", \"2021-03-01T00:00:00\", \"2021-03-31T00:00:00\", \"2021-04-30T00:00:00\", \"2021-05-31T00:00:00\", \"2021-06-30T00:00:00\", \"2021-07-31T00:00:00\", \"2021-08-31T00:00:00\", \"2021-09-30T00:00:00\", \"2021-10-12T00:00:00\"], \"xaxis\": \"x\", \"yaxis\": \"y\"}, {\"marker\": {\"color\": [\"red\", \"green\", \"red\", \"red\", \"red\", \"green\", \"green\", \"red\", \"green\", \"green\", \"green\", \"green\", \"red\", \"green\", \"red\", \"green\", \"green\", \"green\", \"red\", \"red\", \"green\", \"green\", \"green\", \"green\", \"green\", \"green\", \"red\", \"green\", \"green\", \"green\", \"green\", \"green\", \"red\", \"green\", \"green\", \"green\", \"red\", \"green\", \"red\", \"green\", \"red\", \"red\", \"green\", \"red\", \"red\", \"red\", \"red\", \"red\", \"red\", \"green\", \"green\", \"green\", \"green\", \"green\", \"red\", \"red\", \"red\", \"green\", \"red\", \"red\", \"green\", \"red\", \"red\", \"green\", \"green\", \"red\", \"green\", \"green\", \"red\", \"green\", \"green\", \"green\", \"green\", \"green\", \"green\", \"red\", \"red\", \"red\", \"green\", \"green\", \"red\", \"green\", \"red\"]}, \"type\": \"bar\", \"x\": [\"2015-01-01T00:00:00\", \"2015-02-01T00:00:00\", \"2015-03-01T00:00:00\", \"2015-03-31T00:00:00\", \"2015-04-30T00:00:00\", \"2015-05-31T00:00:00\", \"2015-06-30T00:00:00\", \"2015-07-31T00:00:00\", \"2015-08-31T00:00:00\", \"2015-09-30T00:00:00\", \"2015-11-01T00:00:00\", \"2015-12-01T00:00:00\", \"2016-01-01T00:00:00\", \"2016-02-01T00:00:00\", \"2016-03-01T00:00:00\", \"2016-03-31T00:00:00\", \"2016-04-30T00:00:00\", \"2016-05-31T00:00:00\", \"2016-06-30T00:00:00\", \"2016-07-31T00:00:00\", \"2016-08-31T00:00:00\", \"2016-09-30T00:00:00\", \"2016-11-01T00:00:00\", \"2016-12-01T00:00:00\", \"2017-01-01T00:00:00\", \"2017-02-01T00:00:00\", \"2017-03-01T00:00:00\", \"2017-03-31T00:00:00\", \"2017-04-30T00:00:00\", \"2017-05-31T00:00:00\", \"2017-06-30T00:00:00\", \"2017-07-31T00:00:00\", \"2017-08-31T00:00:00\", \"2017-09-30T00:00:00\", \"2017-11-01T00:00:00\", \"2017-12-01T00:00:00\", \"2018-01-01T00:00:00\", \"2018-02-01T00:00:00\", \"2018-03-01T00:00:00\", \"2018-03-31T00:00:00\", \"2018-04-30T00:00:00\", \"2018-05-31T00:00:00\", \"2018-06-30T00:00:00\", \"2018-07-31T00:00:00\", \"2018-08-31T00:00:00\", \"2018-09-30T00:00:00\", \"2018-11-01T00:00:00\", \"2018-12-01T00:00:00\", \"2019-01-01T00:00:00\", \"2019-02-01T00:00:00\", \"2019-03-01T00:00:00\", \"2019-03-31T00:00:00\", \"2019-04-30T00:00:00\", \"2019-05-31T00:00:00\", \"2019-06-30T00:00:00\", \"2019-07-31T00:00:00\", \"2019-08-31T00:00:00\", \"2019-09-30T00:00:00\", \"2019-11-01T00:00:00\", \"2019-12-01T00:00:00\", \"2020-01-01T00:00:00\", \"2020-02-01T00:00:00\", \"2020-03-01T00:00:00\", \"2020-03-31T00:00:00\", \"2020-04-30T00:00:00\", \"2020-05-31T00:00:00\", \"2020-06-30T00:00:00\", \"2020-07-31T00:00:00\", \"2020-08-31T00:00:00\", \"2020-09-30T00:00:00\", \"2020-11-01T00:00:00\", \"2020-12-01T00:00:00\", \"2021-01-01T00:00:00\", \"2021-02-01T00:00:00\", \"2021-03-01T00:00:00\", \"2021-03-31T00:00:00\", \"2021-04-30T00:00:00\", \"2021-05-31T00:00:00\", \"2021-06-30T00:00:00\", \"2021-07-31T00:00:00\", \"2021-08-31T00:00:00\", \"2021-09-30T00:00:00\", \"2021-10-12T00:00:00\"], \"xaxis\": \"x2\", \"y\": [1098811912, 711518700, 959098300, 672338700, 568122600, 629780200, 999892200, 905192300, 603623900, 953279500, 2177623396, 2096250000, 1990880304, 1876238692, 2332852776, 1811475204, 2234432796, 4749702740, 3454186204, 2686220180, 2004401400, 2115443796, 2635773092, 3556763800, 5143971692, 4282761200, 10872455960, 9757448112, 34261856864, 44478140928, 32619956992, 63548016640, 55700949056, 58009357952, 140735010304, 410336495104, 416247858176, 229717780480, 193751709184, 196550010624, 197611709696, 130214179584, 141441939792, 132292770000, 129745370000, 118436880000, 158359524484, 168826809069, 167335706864, 199100675597, 297952790260, 445364556718, 724157870864, 675855385074, 676416326705, 533984971734, 480544963230, 595205134748, 676919523650, 633790373416, 852872174496, 1163376492768, 1290442059648, 1123613741264, 1286368141507, 650913318680, 545813339109, 708377092130, 893852011704, 747991403008, 1093144913227, 1212259707946, 2155904438233, 2267152936675, 1681184264687, 1844481772417, 1976593438572, 1189647451707, 819103381204, 1014674184428, 1102139678824, 404659981172, 41173790720], \"yaxis\": \"y2\"}],                        {\"height\": 600, \"template\": {\"data\": {\"bar\": [{\"error_x\": {\"color\": \"#2a3f5f\"}, \"error_y\": {\"color\": \"#2a3f5f\"}, \"marker\": {\"line\": {\"color\": \"#E5ECF6\", \"width\": 0.5}}, \"type\": \"bar\"}], \"barpolar\": [{\"marker\": {\"line\": {\"color\": \"#E5ECF6\", \"width\": 0.5}}, \"type\": \"barpolar\"}], \"carpet\": [{\"aaxis\": {\"endlinecolor\": \"#2a3f5f\", \"gridcolor\": \"white\", \"linecolor\": \"white\", \"minorgridcolor\": \"white\", \"startlinecolor\": \"#2a3f5f\"}, \"baxis\": {\"endlinecolor\": \"#2a3f5f\", \"gridcolor\": \"white\", \"linecolor\": \"white\", \"minorgridcolor\": \"white\", \"startlinecolor\": \"#2a3f5f\"}, \"type\": \"carpet\"}], \"choropleth\": [{\"colorbar\": {\"outlinewidth\": 0, \"ticks\": \"\"}, \"type\": \"choropleth\"}], \"contour\": [{\"colorbar\": {\"outlinewidth\": 0, \"ticks\": \"\"}, \"colorscale\": [[0.0, \"#0d0887\"], [0.1111111111111111, \"#46039f\"], [0.2222222222222222, \"#7201a8\"], [0.3333333333333333, \"#9c179e\"], [0.4444444444444444, \"#bd3786\"], [0.5555555555555556, \"#d8576b\"], [0.6666666666666666, \"#ed7953\"], [0.7777777777777778, \"#fb9f3a\"], [0.8888888888888888, \"#fdca26\"], [1.0, \"#f0f921\"]], \"type\": \"contour\"}], \"contourcarpet\": [{\"colorbar\": {\"outlinewidth\": 0, \"ticks\": \"\"}, \"type\": \"contourcarpet\"}], \"heatmap\": [{\"colorbar\": {\"outlinewidth\": 0, \"ticks\": \"\"}, \"colorscale\": [[0.0, \"#0d0887\"], [0.1111111111111111, \"#46039f\"], [0.2222222222222222, \"#7201a8\"], [0.3333333333333333, \"#9c179e\"], [0.4444444444444444, \"#bd3786\"], [0.5555555555555556, \"#d8576b\"], [0.6666666666666666, \"#ed7953\"], [0.7777777777777778, \"#fb9f3a\"], [0.8888888888888888, \"#fdca26\"], [1.0, \"#f0f921\"]], \"type\": \"heatmap\"}], \"heatmapgl\": [{\"colorbar\": {\"outlinewidth\": 0, \"ticks\": \"\"}, \"colorscale\": [[0.0, \"#0d0887\"], [0.1111111111111111, \"#46039f\"], [0.2222222222222222, \"#7201a8\"], [0.3333333333333333, \"#9c179e\"], [0.4444444444444444, \"#bd3786\"], [0.5555555555555556, \"#d8576b\"], [0.6666666666666666, \"#ed7953\"], [0.7777777777777778, \"#fb9f3a\"], [0.8888888888888888, \"#fdca26\"], [1.0, \"#f0f921\"]], \"type\": \"heatmapgl\"}], \"histogram\": [{\"marker\": {\"colorbar\": {\"outlinewidth\": 0, \"ticks\": \"\"}}, \"type\": \"histogram\"}], \"histogram2d\": [{\"colorbar\": {\"outlinewidth\": 0, \"ticks\": \"\"}, \"colorscale\": [[0.0, \"#0d0887\"], [0.1111111111111111, \"#46039f\"], [0.2222222222222222, \"#7201a8\"], [0.3333333333333333, \"#9c179e\"], [0.4444444444444444, \"#bd3786\"], [0.5555555555555556, \"#d8576b\"], [0.6666666666666666, \"#ed7953\"], [0.7777777777777778, \"#fb9f3a\"], [0.8888888888888888, \"#fdca26\"], [1.0, \"#f0f921\"]], \"type\": \"histogram2d\"}], \"histogram2dcontour\": [{\"colorbar\": {\"outlinewidth\": 0, \"ticks\": \"\"}, \"colorscale\": [[0.0, \"#0d0887\"], [0.1111111111111111, \"#46039f\"], [0.2222222222222222, \"#7201a8\"], [0.3333333333333333, \"#9c179e\"], [0.4444444444444444, \"#bd3786\"], [0.5555555555555556, \"#d8576b\"], [0.6666666666666666, \"#ed7953\"], [0.7777777777777778, \"#fb9f3a\"], [0.8888888888888888, \"#fdca26\"], [1.0, \"#f0f921\"]], \"type\": \"histogram2dcontour\"}], \"mesh3d\": [{\"colorbar\": {\"outlinewidth\": 0, \"ticks\": \"\"}, \"type\": \"mesh3d\"}], \"parcoords\": [{\"line\": {\"colorbar\": {\"outlinewidth\": 0, \"ticks\": \"\"}}, \"type\": \"parcoords\"}], \"pie\": [{\"automargin\": true, \"type\": \"pie\"}], \"scatter\": [{\"marker\": {\"colorbar\": {\"outlinewidth\": 0, \"ticks\": \"\"}}, \"type\": \"scatter\"}], \"scatter3d\": [{\"line\": {\"colorbar\": {\"outlinewidth\": 0, \"ticks\": \"\"}}, \"marker\": {\"colorbar\": {\"outlinewidth\": 0, \"ticks\": \"\"}}, \"type\": \"scatter3d\"}], \"scattercarpet\": [{\"marker\": {\"colorbar\": {\"outlinewidth\": 0, \"ticks\": \"\"}}, \"type\": \"scattercarpet\"}], \"scattergeo\": [{\"marker\": {\"colorbar\": {\"outlinewidth\": 0, \"ticks\": \"\"}}, \"type\": \"scattergeo\"}], \"scattergl\": [{\"marker\": {\"colorbar\": {\"outlinewidth\": 0, \"ticks\": \"\"}}, \"type\": \"scattergl\"}], \"scattermapbox\": [{\"marker\": {\"colorbar\": {\"outlinewidth\": 0, \"ticks\": \"\"}}, \"type\": \"scattermapbox\"}], \"scatterpolar\": [{\"marker\": {\"colorbar\": {\"outlinewidth\": 0, \"ticks\": \"\"}}, \"type\": \"scatterpolar\"}], \"scatterpolargl\": [{\"marker\": {\"colorbar\": {\"outlinewidth\": 0, \"ticks\": \"\"}}, \"type\": \"scatterpolargl\"}], \"scatterternary\": [{\"marker\": {\"colorbar\": {\"outlinewidth\": 0, \"ticks\": \"\"}}, \"type\": \"scatterternary\"}], \"surface\": [{\"colorbar\": {\"outlinewidth\": 0, \"ticks\": \"\"}, \"colorscale\": [[0.0, \"#0d0887\"], [0.1111111111111111, \"#46039f\"], [0.2222222222222222, \"#7201a8\"], [0.3333333333333333, \"#9c179e\"], [0.4444444444444444, \"#bd3786\"], [0.5555555555555556, \"#d8576b\"], [0.6666666666666666, \"#ed7953\"], [0.7777777777777778, \"#fb9f3a\"], [0.8888888888888888, \"#fdca26\"], [1.0, \"#f0f921\"]], \"type\": \"surface\"}], \"table\": [{\"cells\": {\"fill\": {\"color\": \"#EBF0F8\"}, \"line\": {\"color\": \"white\"}}, \"header\": {\"fill\": {\"color\": \"#C8D4E3\"}, \"line\": {\"color\": \"white\"}}, \"type\": \"table\"}]}, \"layout\": {\"annotationdefaults\": {\"arrowcolor\": \"#2a3f5f\", \"arrowhead\": 0, \"arrowwidth\": 1}, \"autotypenumbers\": \"strict\", \"coloraxis\": {\"colorbar\": {\"outlinewidth\": 0, \"ticks\": \"\"}}, \"colorscale\": {\"diverging\": [[0, \"#8e0152\"], [0.1, \"#c51b7d\"], [0.2, \"#de77ae\"], [0.3, \"#f1b6da\"], [0.4, \"#fde0ef\"], [0.5, \"#f7f7f7\"], [0.6, \"#e6f5d0\"], [0.7, \"#b8e186\"], [0.8, \"#7fbc41\"], [0.9, \"#4d9221\"], [1, \"#276419\"]], \"sequential\": [[0.0, \"#0d0887\"], [0.1111111111111111, \"#46039f\"], [0.2222222222222222, \"#7201a8\"], [0.3333333333333333, \"#9c179e\"], [0.4444444444444444, \"#bd3786\"], [0.5555555555555556, \"#d8576b\"], [0.6666666666666666, \"#ed7953\"], [0.7777777777777778, \"#fb9f3a\"], [0.8888888888888888, \"#fdca26\"], [1.0, \"#f0f921\"]], \"sequentialminus\": [[0.0, \"#0d0887\"], [0.1111111111111111, \"#46039f\"], [0.2222222222222222, \"#7201a8\"], [0.3333333333333333, \"#9c179e\"], [0.4444444444444444, \"#bd3786\"], [0.5555555555555556, \"#d8576b\"], [0.6666666666666666, \"#ed7953\"], [0.7777777777777778, \"#fb9f3a\"], [0.8888888888888888, \"#fdca26\"], [1.0, \"#f0f921\"]]}, \"colorway\": [\"#636efa\", \"#EF553B\", \"#00cc96\", \"#ab63fa\", \"#FFA15A\", \"#19d3f3\", \"#FF6692\", \"#B6E880\", \"#FF97FF\", \"#FECB52\"], \"font\": {\"color\": \"#2a3f5f\"}, \"geo\": {\"bgcolor\": \"white\", \"lakecolor\": \"white\", \"landcolor\": \"#E5ECF6\", \"showlakes\": true, \"showland\": true, \"subunitcolor\": \"white\"}, \"hoverlabel\": {\"align\": \"left\"}, \"hovermode\": \"closest\", \"mapbox\": {\"style\": \"light\"}, \"paper_bgcolor\": \"white\", \"plot_bgcolor\": \"#E5ECF6\", \"polar\": {\"angularaxis\": {\"gridcolor\": \"white\", \"linecolor\": \"white\", \"ticks\": \"\"}, \"bgcolor\": \"#E5ECF6\", \"radialaxis\": {\"gridcolor\": \"white\", \"linecolor\": \"white\", \"ticks\": \"\"}}, \"scene\": {\"xaxis\": {\"backgroundcolor\": \"#E5ECF6\", \"gridcolor\": \"white\", \"gridwidth\": 2, \"linecolor\": \"white\", \"showbackground\": true, \"ticks\": \"\", \"zerolinecolor\": \"white\"}, \"yaxis\": {\"backgroundcolor\": \"#E5ECF6\", \"gridcolor\": \"white\", \"gridwidth\": 2, \"linecolor\": \"white\", \"showbackground\": true, \"ticks\": \"\", \"zerolinecolor\": \"white\"}, \"zaxis\": {\"backgroundcolor\": \"#E5ECF6\", \"gridcolor\": \"white\", \"gridwidth\": 2, \"linecolor\": \"white\", \"showbackground\": true, \"ticks\": \"\", \"zerolinecolor\": \"white\"}}, \"shapedefaults\": {\"line\": {\"color\": \"#2a3f5f\"}}, \"ternary\": {\"aaxis\": {\"gridcolor\": \"white\", \"linecolor\": \"white\", \"ticks\": \"\"}, \"baxis\": {\"gridcolor\": \"white\", \"linecolor\": \"white\", \"ticks\": \"\"}, \"bgcolor\": \"#E5ECF6\", \"caxis\": {\"gridcolor\": \"white\", \"linecolor\": \"white\", \"ticks\": \"\"}}, \"title\": {\"x\": 0.05}, \"xaxis\": {\"automargin\": true, \"gridcolor\": \"white\", \"linecolor\": \"white\", \"ticks\": \"\", \"title\": {\"standoff\": 15}, \"zerolinecolor\": \"white\", \"zerolinewidth\": 2}, \"yaxis\": {\"automargin\": true, \"gridcolor\": \"white\", \"linecolor\": \"white\", \"ticks\": \"\", \"title\": {\"standoff\": 15}, \"zerolinecolor\": \"white\", \"zerolinewidth\": 2}}}, \"title\": {\"text\": \"Interactive CandleStick & Volume Chart\"}, \"width\": 910, \"xaxis\": {\"anchor\": \"y\", \"domain\": [0.0, 1.0], \"matches\": \"x2\", \"rangeselector\": {\"buttons\": [{\"count\": 3, \"label\": \"trim\", \"step\": \"month\", \"stepmode\": \"backward\"}, {\"count\": 6, \"label\": \"semes\", \"step\": \"month\", \"stepmode\": \"backward\"}, {\"count\": 1, \"label\": \"1 year\", \"step\": \"year\", \"stepmode\": \"backward\"}, {\"count\": 5, \"label\": \"5 years\", \"step\": \"year\", \"stepmode\": \"backward\"}, {\"step\": \"all\"}]}, \"rangeslider\": {\"visible\": false}, \"showticklabels\": false}, \"xaxis2\": {\"anchor\": \"y2\", \"domain\": [0.0, 1.0], \"title\": {\"text\": \"Time\"}}, \"yaxis\": {\"anchor\": \"x\", \"domain\": [0.2, 1], \"title\": {\"text\": \"Stock Price ($)\"}}, \"yaxis2\": {\"anchor\": \"x2\", \"domain\": [0, 0.2], \"title\": {\"text\": \"Volume (M)\"}}},                        {\"responsive\": true}                    ).then(function(){\n",
       "                            \n",
       "var gd = document.getElementById('de490640-9232-46be-8949-e003051930d0');\n",
       "var x = new MutationObserver(function (mutations, observer) {{\n",
       "        var display = window.getComputedStyle(gd).display;\n",
       "        if (!display || display === 'none') {{\n",
       "            console.log([gd, 'removed!']);\n",
       "            Plotly.purge(gd);\n",
       "            observer.disconnect();\n",
       "        }}\n",
       "}});\n",
       "\n",
       "// Listen for the removal of the full notebook cells\n",
       "var notebookContainer = gd.closest('#notebook-container');\n",
       "if (notebookContainer) {{\n",
       "    x.observe(notebookContainer, {childList: true});\n",
       "}}\n",
       "\n",
       "// Listen for the clearing of the current output cell\n",
       "var outputEl = gd.closest('.output');\n",
       "if (outputEl) {{\n",
       "    x.observe(outputEl, {childList: true});\n",
       "}}\n",
       "\n",
       "                        })                };                });            </script>        </div>"
      ]
     },
     "metadata": {},
     "output_type": "display_data"
    }
   ],
   "source": [
    "ts.graficar_datos(data)"
   ]
  },
  {
   "cell_type": "markdown",
   "id": "908fa2dd",
   "metadata": {},
   "source": [
    "## Acá yo agregaría histogramas. Después podría estar bueno analizar si el activo que se eligió tiene valores faltantes y eso, y usar algunas funciones que tenía statmodels como para predecir esos valores y bla bla"
   ]
  },
  {
   "cell_type": "markdown",
   "id": "b8c78e53",
   "metadata": {},
   "source": [
    "<a id=\"2.\"></a> \n",
    "## 2. Entrenamiento de los modelos de series de tiempo\n",
    "<a href='#indice'>Volver a TOC</a>"
   ]
  },
  {
   "cell_type": "markdown",
   "id": "9de6b998",
   "metadata": {},
   "source": [
    "Ahora pasamos a seleccionar el modleo con el cual queremos predecir el activo elegido. Para eso, usamos la funcíón _evaluación_ cuyos parámetros son:\n",
    "- df: DataFrame elegido\n",
    "- pred_size: Tamaño del dataframe de test\n",
    "- lags: cantidad de muestras para la ventana temporal del ACF y PACF\n",
    "- model: Modelo a elegir, los cuales son:\n",
    "    - linear\n",
    "    - quad\n",
    "    - log\n",
    "- estacionalidad: Es un booleano (True o False) para elegir si se quiere modelar con estacionalidad o no."
   ]
  },
  {
   "cell_type": "code",
   "execution_count": 26,
   "id": "be698dbb",
   "metadata": {},
   "outputs": [
    {
     "name": "stdout",
     "output_type": "stream",
     "text": [
      "El modelo elegido linear_est posee un p= 0.016260663542859353\n",
      "El modelo elegido quad_est posee un p= 0.01630809248702762\n",
      "El modelo elegido log_est posee un p= 4.938792509953534e-08\n",
      "El modelo elegido linear posee un p= 0.010134903035771498\n",
      "El modelo elegido quad posee un p= 0.021601395295160825\n",
      "la serie no es estacionaria, hacer mas diferenciación\n"
     ]
    },
    {
     "data": {
      "image/png": "[encoded data removed]",
      "text/plain": [
       "<Figure size 864x504 with 3 Axes>"
      ]
     },
     "metadata": {
      "needs_background": "light"
     },
     "output_type": "display_data"
    },
    {
     "data": {
      "image/png": "[encoded data removed]",
      "text/plain": [
       "<Figure size 864x504 with 3 Axes>"
      ]
     },
     "metadata": {
      "needs_background": "light"
     },
     "output_type": "display_data"
    },
    {
     "data": {
      "image/png": "[encoded data removed]",
      "text/plain": [
       "<Figure size 864x504 with 3 Axes>"
      ]
     },
     "metadata": {
      "needs_background": "light"
     },
     "output_type": "display_data"
    },
    {
     "data": {
      "image/png": "[encoded data removed]",
      "text/plain": [
       "<Figure size 864x504 with 3 Axes>"
      ]
     },
     "metadata": {
      "needs_background": "light"
     },
     "output_type": "display_data"
    },
    {
     "data": {
      "image/png": "[encoded data removed]",
      "text/plain": [
       "<Figure size 864x504 with 3 Axes>"
      ]
     },
     "metadata": {
      "needs_background": "light"
     },
     "output_type": "display_data"
    }
   ],
   "source": [
    "models = ['linear','quad','log']\n",
    "est = [True, False]\n",
    "model = {}\n",
    "for j in est:\n",
    "    for i in models:\n",
    "        modelo = ts.evaluacion(data,6,20,model=i,estacionalidad=j)\n",
    "        if j:\n",
    "            model[str(i)+'_est']=modelo\n",
    "        else:\n",
    "            model[str(i)]=modelo"
   ]
  },
  {
   "cell_type": "markdown",
   "id": "1b341430",
   "metadata": {},
   "source": [
    "Luego de esto, modelamos lo faltante mediante el modelo ARIMA"
   ]
  },
  {
   "cell_type": "code",
   "execution_count": 27,
   "id": "e817a806",
   "metadata": {},
   "outputs": [],
   "source": [
    "p_list = []\n",
    "q_list = []\n",
    "for j in est:\n",
    "    if j:\n",
    "        for i in models:\n",
    "            try:\n",
    "                RMSE, p, q, model_label = ts.eval_models_hyperparameters(model[str(i)+'_est'],numbers=5,model_label=str(i)+'_est',alpha=0.05)\n",
    "                df = pd.DataFrame([RMSE, p, q]).T.rename(columns={0:'RMSE',1:'p',2:'q'})\n",
    "                df['model'] = model_label\n",
    "                df_index = df.RMSE.idxmin() \n",
    "                fila_min = df.iloc[df_index]\n",
    "                p = int(fila_min.p)\n",
    "                q = int(fila_min.q)\n",
    "                p_val,q_val = ts.arima(model[str(i)+'_est'], p=p, d=0, q=q, alpha=0.05)\n",
    "                p_list.append(p_val)\n",
    "                q_list.append(q_val)\n",
    "            except:\n",
    "                continue\n",
    "        else:\n",
    "            for i in models:\n",
    "                try:\n",
    "                    RMSE, p, q, model_label = ts.eval_models_hyperparameters(model[str(i)],numbers=5,model_label=str(i),alpha=0.05)\n",
    "                    df = pd.DataFrame([RMSE, p, q]).T.rename(columns={0:'RMSE',1:'p',2:'q'})\n",
    "                    df['model'] = model_label\n",
    "                    df_index = df.RMSE.idxmin() \n",
    "                    fila_min = df.iloc[df_index]\n",
    "                    p = int(fila_min.p)\n",
    "                    q = int(fila_min.q)\n",
    "                    p_val, q_val = ts.arima(model[str(i)],p=p,d=0,q=q,alpha=0.05)\n",
    "                    p_list.append(p_val)\n",
    "                    q_list.append(q_val)\n",
    "                except:\n",
    "                    continue\n",
    "\n",
    "#ts.arima(modelo,2,0,2,0.05)\n",
    "#model.keys()"
   ]
  },
  {
   "cell_type": "code",
   "execution_count": 28,
   "id": "98a979da",
   "metadata": {},
   "outputs": [],
   "source": [
    "#print(df.tail(6))\n",
    "#df_index = df.RMSE.idxmin() \n",
    "#df_index"
   ]
  },
  {
   "cell_type": "markdown",
   "id": "def9dc4c",
   "metadata": {},
   "source": [
    "<a id=\"3.\"></a> \n",
    "## 3. Cálculo de errores para la evaluación de los modelos\n",
    "<a href='#indice'>Volver a TOC</a>"
   ]
  },
  {
   "cell_type": "code",
   "execution_count": 29,
   "id": "b3b3b328",
   "metadata": {},
   "outputs": [],
   "source": [
    "dic = {}\n",
    "dicc = {}\n",
    "for j in est:\n",
    "    if j:\n",
    "        for i in models:\n",
    "            try:\n",
    "                df_train = model[str(i)+'_est'][1]\n",
    "                df_test = model[str(i)+'_est'][2]\n",
    "                dic['RMSE_train'] = ts.RMSE(df_train.model_ARIMA,df_train.Close)\n",
    "                dic['RMSE_test'] = ts.RMSE(df_test.model_ARIMA,df_test.Close)\n",
    "                dic['model'] = str(i) + '_est'\n",
    "                lista = list(dic.values())\n",
    "                dicc[str(i)+'_est'] = lista\n",
    "            except:\n",
    "                continue\n",
    "        else:\n",
    "            for i in models:\n",
    "                try:\n",
    "                    df_train = model[str(i)][1]\n",
    "                    df_test = model[str(i)][2]\n",
    "                    dic['RMSE_train'] = ts.RMSE(df_train.model_ARIMA,df_train.Close)\n",
    "                    dic['RMSE_test'] = ts.RMSE(df_test.model_ARIMA,df_test.Close)\n",
    "                    dic['model'] = str(i)\n",
    "                    lista = list(dic.values())\n",
    "                    dicc[str(i)] = lista\n",
    "                except:\n",
    "                    continue\n",
    "\n",
    "df_eval = pd.DataFrame(dicc).T.rename(columns={0:'RMSE_train',1:'RMSE_test',2:'model'}).reset_index(drop=True)\n",
    "df_eval['p'] = p_list\n",
    "df_eval['q'] = q_list"
   ]
  },
  {
   "cell_type": "code",
   "execution_count": 30,
   "id": "74385ef8",
   "metadata": {},
   "outputs": [
    {
     "data": {
      "text/html": [
       "<div>\n",
       "<style scoped>\n",
       "    .dataframe tbody tr th:only-of-type {\n",
       "        vertical-align: middle;\n",
       "    }\n",
       "\n",
       "    .dataframe tbody tr th {\n",
       "        vertical-align: top;\n",
       "    }\n",
       "\n",
       "    .dataframe thead th {\n",
       "        text-align: right;\n",
       "    }\n",
       "</style>\n",
       "<table border=\"1\" class=\"dataframe\">\n",
       "  <thead>\n",
       "    <tr style=\"text-align: right;\">\n",
       "      <th></th>\n",
       "      <th>RMSE_train</th>\n",
       "      <th>RMSE_test</th>\n",
       "      <th>model</th>\n",
       "      <th>p</th>\n",
       "      <th>q</th>\n",
       "    </tr>\n",
       "  </thead>\n",
       "  <tbody>\n",
       "    <tr>\n",
       "      <th>0</th>\n",
       "      <td>3784.381095</td>\n",
       "      <td>31340.18638</td>\n",
       "      <td>linear_est</td>\n",
       "      <td>4</td>\n",
       "      <td>1</td>\n",
       "    </tr>\n",
       "    <tr>\n",
       "      <th>1</th>\n",
       "      <td>3755.154346</td>\n",
       "      <td>30777.660676</td>\n",
       "      <td>quad_est</td>\n",
       "      <td>4</td>\n",
       "      <td>1</td>\n",
       "    </tr>\n",
       "    <tr>\n",
       "      <th>2</th>\n",
       "      <td>3096.318653</td>\n",
       "      <td>5746.815875</td>\n",
       "      <td>log_est</td>\n",
       "      <td>1</td>\n",
       "      <td>1</td>\n",
       "    </tr>\n",
       "    <tr>\n",
       "      <th>3</th>\n",
       "      <td>3855.090001</td>\n",
       "      <td>27206.906189</td>\n",
       "      <td>linear</td>\n",
       "      <td>4</td>\n",
       "      <td>3</td>\n",
       "    </tr>\n",
       "    <tr>\n",
       "      <th>4</th>\n",
       "      <td>3766.210029</td>\n",
       "      <td>25678.554856</td>\n",
       "      <td>quad</td>\n",
       "      <td>4</td>\n",
       "      <td>3</td>\n",
       "    </tr>\n",
       "  </tbody>\n",
       "</table>\n",
       "</div>"
      ],
      "text/plain": [
       "    RMSE_train     RMSE_test       model  p  q\n",
       "0  3784.381095   31340.18638  linear_est  4  1\n",
       "1  3755.154346  30777.660676    quad_est  4  1\n",
       "2  3096.318653   5746.815875     log_est  1  1\n",
       "3  3855.090001  27206.906189      linear  4  3\n",
       "4  3766.210029  25678.554856        quad  4  3"
      ]
     },
     "execution_count": 30,
     "metadata": {},
     "output_type": "execute_result"
    }
   ],
   "source": [
    "df_eval"
   ]
  },
  {
   "cell_type": "markdown",
   "id": "37c0a0d6",
   "metadata": {},
   "source": [
    "## DataFrame para gráficos"
   ]
  },
  {
   "cell_type": "code",
   "execution_count": 31,
   "id": "7ba471ab",
   "metadata": {},
   "outputs": [],
   "source": [
    "df_train_graf, df_test_graf = ts.dataframe_to_graph(model)"
   ]
  },
  {
   "cell_type": "code",
   "execution_count": 32,
   "id": "8a8f846f",
   "metadata": {},
   "outputs": [
    {
     "data": {
      "text/html": [
       "<div>\n",
       "<style scoped>\n",
       "    .dataframe tbody tr th:only-of-type {\n",
       "        vertical-align: middle;\n",
       "    }\n",
       "\n",
       "    .dataframe tbody tr th {\n",
       "        vertical-align: top;\n",
       "    }\n",
       "\n",
       "    .dataframe thead th {\n",
       "        text-align: right;\n",
       "    }\n",
       "</style>\n",
       "<table border=\"1\" class=\"dataframe\">\n",
       "  <thead>\n",
       "    <tr style=\"text-align: right;\">\n",
       "      <th></th>\n",
       "      <th>Close</th>\n",
       "      <th>linear_est</th>\n",
       "      <th>quad_est</th>\n",
       "      <th>log_est</th>\n",
       "      <th>linear</th>\n",
       "      <th>quad</th>\n",
       "      <th>log</th>\n",
       "    </tr>\n",
       "  </thead>\n",
       "  <tbody>\n",
       "    <tr>\n",
       "      <th>2015-01-01</th>\n",
       "      <td>217.464005</td>\n",
       "      <td>157.186249</td>\n",
       "      <td>325.081001</td>\n",
       "      <td>475.801174</td>\n",
       "      <td>2071.415481</td>\n",
       "      <td>2760.733078</td>\n",
       "      <td>NaN</td>\n",
       "    </tr>\n",
       "    <tr>\n",
       "      <th>2015-02-01</th>\n",
       "      <td>254.263000</td>\n",
       "      <td>1204.662480</td>\n",
       "      <td>1246.173432</td>\n",
       "      <td>293.034739</td>\n",
       "      <td>526.356281</td>\n",
       "      <td>558.995433</td>\n",
       "      <td>NaN</td>\n",
       "    </tr>\n",
       "    <tr>\n",
       "      <th>2015-03-01</th>\n",
       "      <td>244.223999</td>\n",
       "      <td>2812.961384</td>\n",
       "      <td>2823.642429</td>\n",
       "      <td>305.077326</td>\n",
       "      <td>602.300049</td>\n",
       "      <td>650.163762</td>\n",
       "      <td>NaN</td>\n",
       "    </tr>\n",
       "    <tr>\n",
       "      <th>2015-03-31</th>\n",
       "      <td>236.145004</td>\n",
       "      <td>1032.157957</td>\n",
       "      <td>1023.494123</td>\n",
       "      <td>307.224629</td>\n",
       "      <td>468.507052</td>\n",
       "      <td>463.122216</td>\n",
       "      <td>NaN</td>\n",
       "    </tr>\n",
       "    <tr>\n",
       "      <th>2015-04-30</th>\n",
       "      <td>230.190002</td>\n",
       "      <td>-1881.605533</td>\n",
       "      <td>-1881.070656</td>\n",
       "      <td>322.005453</td>\n",
       "      <td>478.321446</td>\n",
       "      <td>461.162280</td>\n",
       "      <td>NaN</td>\n",
       "    </tr>\n",
       "    <tr>\n",
       "      <th>...</th>\n",
       "      <td>...</td>\n",
       "      <td>...</td>\n",
       "      <td>...</td>\n",
       "      <td>...</td>\n",
       "      <td>...</td>\n",
       "      <td>...</td>\n",
       "      <td>...</td>\n",
       "    </tr>\n",
       "    <tr>\n",
       "      <th>2021-01-01</th>\n",
       "      <td>33114.359375</td>\n",
       "      <td>42639.249991</td>\n",
       "      <td>42399.824002</td>\n",
       "      <td>25830.599303</td>\n",
       "      <td>41409.825392</td>\n",
       "      <td>40989.354278</td>\n",
       "      <td>NaN</td>\n",
       "    </tr>\n",
       "    <tr>\n",
       "      <th>2021-02-01</th>\n",
       "      <td>45137.769531</td>\n",
       "      <td>34453.827941</td>\n",
       "      <td>34354.446771</td>\n",
       "      <td>38424.979997</td>\n",
       "      <td>37727.728331</td>\n",
       "      <td>37130.530035</td>\n",
       "      <td>NaN</td>\n",
       "    </tr>\n",
       "    <tr>\n",
       "      <th>2021-03-01</th>\n",
       "      <td>58918.832031</td>\n",
       "      <td>40289.789759</td>\n",
       "      <td>40428.589826</td>\n",
       "      <td>45345.139242</td>\n",
       "      <td>37938.889652</td>\n",
       "      <td>38404.152753</td>\n",
       "      <td>NaN</td>\n",
       "    </tr>\n",
       "    <tr>\n",
       "      <th>2021-03-31</th>\n",
       "      <td>57750.175781</td>\n",
       "      <td>57323.939220</td>\n",
       "      <td>57375.352603</td>\n",
       "      <td>59746.670171</td>\n",
       "      <td>54158.447399</td>\n",
       "      <td>54987.818608</td>\n",
       "      <td>NaN</td>\n",
       "    </tr>\n",
       "    <tr>\n",
       "      <th>2021-04-30</th>\n",
       "      <td>37332.855469</td>\n",
       "      <td>39646.430695</td>\n",
       "      <td>39788.165148</td>\n",
       "      <td>52109.339481</td>\n",
       "      <td>39364.318268</td>\n",
       "      <td>39849.144539</td>\n",
       "      <td>NaN</td>\n",
       "    </tr>\n",
       "  </tbody>\n",
       "</table>\n",
       "<p>77 rows × 7 columns</p>\n",
       "</div>"
      ],
      "text/plain": [
       "                   Close    linear_est      quad_est       log_est  \\\n",
       "2015-01-01    217.464005    157.186249    325.081001    475.801174   \n",
       "2015-02-01    254.263000   1204.662480   1246.173432    293.034739   \n",
       "2015-03-01    244.223999   2812.961384   2823.642429    305.077326   \n",
       "2015-03-31    236.145004   1032.157957   1023.494123    307.224629   \n",
       "2015-04-30    230.190002  -1881.605533  -1881.070656    322.005453   \n",
       "...                  ...           ...           ...           ...   \n",
       "2021-01-01  33114.359375  42639.249991  42399.824002  25830.599303   \n",
       "2021-02-01  45137.769531  34453.827941  34354.446771  38424.979997   \n",
       "2021-03-01  58918.832031  40289.789759  40428.589826  45345.139242   \n",
       "2021-03-31  57750.175781  57323.939220  57375.352603  59746.670171   \n",
       "2021-04-30  37332.855469  39646.430695  39788.165148  52109.339481   \n",
       "\n",
       "                  linear          quad  log  \n",
       "2015-01-01   2071.415481   2760.733078  NaN  \n",
       "2015-02-01    526.356281    558.995433  NaN  \n",
       "2015-03-01    602.300049    650.163762  NaN  \n",
       "2015-03-31    468.507052    463.122216  NaN  \n",
       "2015-04-30    478.321446    461.162280  NaN  \n",
       "...                  ...           ...  ...  \n",
       "2021-01-01  41409.825392  40989.354278  NaN  \n",
       "2021-02-01  37727.728331  37130.530035  NaN  \n",
       "2021-03-01  37938.889652  38404.152753  NaN  \n",
       "2021-03-31  54158.447399  54987.818608  NaN  \n",
       "2021-04-30  39364.318268  39849.144539  NaN  \n",
       "\n",
       "[77 rows x 7 columns]"
      ]
     },
     "execution_count": 32,
     "metadata": {},
     "output_type": "execute_result"
    }
   ],
   "source": [
    "df_train_graf"
   ]
  },
  {
   "cell_type": "code",
   "execution_count": 33,
   "id": "caeedb48",
   "metadata": {},
   "outputs": [
    {
     "data": {
      "text/html": [
       "<div>\n",
       "<style scoped>\n",
       "    .dataframe tbody tr th:only-of-type {\n",
       "        vertical-align: middle;\n",
       "    }\n",
       "\n",
       "    .dataframe tbody tr th {\n",
       "        vertical-align: top;\n",
       "    }\n",
       "\n",
       "    .dataframe thead th {\n",
       "        text-align: right;\n",
       "    }\n",
       "</style>\n",
       "<table border=\"1\" class=\"dataframe\">\n",
       "  <thead>\n",
       "    <tr style=\"text-align: right;\">\n",
       "      <th></th>\n",
       "      <th>Close</th>\n",
       "      <th>linear_est</th>\n",
       "      <th>quad_est</th>\n",
       "      <th>log_est</th>\n",
       "      <th>linear</th>\n",
       "      <th>quad</th>\n",
       "      <th>log</th>\n",
       "    </tr>\n",
       "  </thead>\n",
       "  <tbody>\n",
       "    <tr>\n",
       "      <th>2021-05-31</th>\n",
       "      <td>35040.835938</td>\n",
       "      <td>24469.506767</td>\n",
       "      <td>24676.554326</td>\n",
       "      <td>33456.149863</td>\n",
       "      <td>28953.742145</td>\n",
       "      <td>29492.054262</td>\n",
       "      <td>NaN</td>\n",
       "    </tr>\n",
       "    <tr>\n",
       "      <th>2021-06-30</th>\n",
       "      <td>41626.195312</td>\n",
       "      <td>26295.922495</td>\n",
       "      <td>26731.735099</td>\n",
       "      <td>41701.532385</td>\n",
       "      <td>37714.065454</td>\n",
       "      <td>38822.677853</td>\n",
       "      <td>NaN</td>\n",
       "    </tr>\n",
       "    <tr>\n",
       "      <th>2021-07-31</th>\n",
       "      <td>47166.687500</td>\n",
       "      <td>30364.283021</td>\n",
       "      <td>30847.235276</td>\n",
       "      <td>42835.336164</td>\n",
       "      <td>35907.764247</td>\n",
       "      <td>37394.428801</td>\n",
       "      <td>NaN</td>\n",
       "    </tr>\n",
       "    <tr>\n",
       "      <th>2021-08-31</th>\n",
       "      <td>43790.894531</td>\n",
       "      <td>24343.847965</td>\n",
       "      <td>24817.867614</td>\n",
       "      <td>41440.819551</td>\n",
       "      <td>16364.808035</td>\n",
       "      <td>17980.017433</td>\n",
       "      <td>NaN</td>\n",
       "    </tr>\n",
       "    <tr>\n",
       "      <th>2021-09-30</th>\n",
       "      <td>57484.789062</td>\n",
       "      <td>11246.378493</td>\n",
       "      <td>11914.650286</td>\n",
       "      <td>56556.488116</td>\n",
       "      <td>10178.687637</td>\n",
       "      <td>12162.866362</td>\n",
       "      <td>NaN</td>\n",
       "    </tr>\n",
       "    <tr>\n",
       "      <th>2021-10-12</th>\n",
       "      <td>55226.859375</td>\n",
       "      <td>2805.733857</td>\n",
       "      <td>3735.255376</td>\n",
       "      <td>68284.165802</td>\n",
       "      <td>19560.121507</td>\n",
       "      <td>22031.900501</td>\n",
       "      <td>NaN</td>\n",
       "    </tr>\n",
       "  </tbody>\n",
       "</table>\n",
       "</div>"
      ],
      "text/plain": [
       "                   Close    linear_est      quad_est       log_est  \\\n",
       "2021-05-31  35040.835938  24469.506767  24676.554326  33456.149863   \n",
       "2021-06-30  41626.195312  26295.922495  26731.735099  41701.532385   \n",
       "2021-07-31  47166.687500  30364.283021  30847.235276  42835.336164   \n",
       "2021-08-31  43790.894531  24343.847965  24817.867614  41440.819551   \n",
       "2021-09-30  57484.789062  11246.378493  11914.650286  56556.488116   \n",
       "2021-10-12  55226.859375   2805.733857   3735.255376  68284.165802   \n",
       "\n",
       "                  linear          quad  log  \n",
       "2021-05-31  28953.742145  29492.054262  NaN  \n",
       "2021-06-30  37714.065454  38822.677853  NaN  \n",
       "2021-07-31  35907.764247  37394.428801  NaN  \n",
       "2021-08-31  16364.808035  17980.017433  NaN  \n",
       "2021-09-30  10178.687637  12162.866362  NaN  \n",
       "2021-10-12  19560.121507  22031.900501  NaN  "
      ]
     },
     "execution_count": 33,
     "metadata": {},
     "output_type": "execute_result"
    }
   ],
   "source": [
    "df_test_graf"
   ]
  }
 ],
 "metadata": {
  "kernelspec": {
   "display_name": "Python [conda env:dhdsblend2021] *",
   "language": "python",
   "name": "conda-env-dhdsblend2021-py"
  },
  "language_info": {
   "codemirror_mode": {
    "name": "ipython",
    "version": 3
   },
   "file_extension": ".py",
   "mimetype": "text/x-python",
   "name": "python",
   "nbconvert_exporter": "python",
   "pygments_lexer": "ipython3",
   "version": "3.8.8"
  }
 },
 "nbformat": 4,
 "nbformat_minor": 5
}
