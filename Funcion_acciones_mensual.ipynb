{
 "cells": [
  {
   "cell_type": "code",
   "execution_count": 1,
   "id": "54ff5988",
   "metadata": {},
   "outputs": [],
   "source": [
    "import pandas as pd\n",
    "import numpy as np\n",
    "\n",
    "import matplotlib.pyplot as plt\n",
    "import matplotlib as mpl\n",
    "import seaborn as sns\n",
    "%matplotlib inline\n",
    "\n",
    "import statsmodels.api as sm\n",
    "import statsmodels.formula.api as smf\n",
    "import statsmodels.tsa.api as smt\n",
    "\n",
    "from scipy import stats\n",
    "from statistics import mode\n",
    "\n",
    "import warnings\n",
    "warnings.filterwarnings('ignore')\n",
    "\n",
    "import pandas_datareader.data as web\n",
    "import datetime\n",
    "from sklearn.model_selection import train_test_split\n",
    "\n",
    "from statsmodels.tsa.stattools import adfuller\n",
    "\n",
    "from statsmodels.tsa.stattools import acf, pacf\n",
    "from statsmodels.graphics.tsaplots import plot_acf, plot_pacf\n",
    "\n",
    "from statsmodels.tsa.arima_model import ARIMA"
   ]
  },
  {
   "cell_type": "code",
   "execution_count": null,
   "id": "e8104df9",
   "metadata": {},
   "outputs": [],
   "source": [
    "def evaluacion (activo,start,pred_size,lags):\n",
    "    tipo = 0\n",
    "    start = datetime.datetime.strptime(start,\"%Y, %m, %d\" )\n",
    "    end = datetime.datetime.now()\n",
    "    df = web.get_data_yahoo(activo, start, end, interval=\"m\")\n",
    "    df = df[[\"Close\",\"Volume\"]]\n",
    "    \n",
    "    df[\"timeIndex\"] = pd.Series(np.arange(len(df['Close'])), index=df.index)\n",
    "    df['log_value'] = np.log(df['Close'])\n",
    "    df[\"sqrt\"] = np.sqrt(df[\"Close\"])\n",
    "    df['month'] = [d.strftime('%b') for d in df.index]\n",
    "    dummies_mes = pd.get_dummies(df['month'],drop_first=True)\n",
    "    df = df.join(dummies_mes)\n",
    "    \n",
    "    df_train, df_test = train_test_split(df, test_size=pred_size, random_state=42, shuffle=False)\n",
    "    \n",
    "    model_log_est = smf.ols('log_value ~ timeIndex + Volume + Aug + Dec + Feb + Jan + Jul + Jun + Mar + May + Nov + Oct + Sep ',data = df_train).fit()\n",
    "    \n",
    "    df_train['model_log_est'] = model_log_est.predict(df_train[[\"timeIndex\", \"Volume\",\\\n",
    "                                        \"Aug\", \"Dec\", \"Feb\", \"Jan\",\"Jul\", \"Jun\", \"Mar\", \"May\",\\\n",
    "                                                \"Nov\", \"Oct\", \"Sep\"]])\n",
    "\n",
    "\n",
    "    df_test['model_log_est'] = model_log_est.predict(df_test[[\"timeIndex\", \"Volume\",\\\n",
    "                                        \"Aug\", \"Dec\", \"Feb\", \"Jan\",\"Jul\", \"Jun\", \"Mar\", \"May\",\\\n",
    "                                                \"Nov\", \"Oct\", \"Sep\"]])\n",
    "    \n",
    "    df_train['back_model_log_est'] = np.exp(df_train['model_log_est'])\n",
    "    df_test['back_model_log_est'] = np.exp(df_test['model_log_est'])\n",
    "    res_model = df_train['Close'] - df_train['back_model_log_est']\n",
    "    res_log_est = df_train['log_value'] - df_train['model_log_est']\n",
    "    result = adfuller(res_model)\n",
    "    result1 = adfuller(res_log_est)\n",
    "    if result[1]<0.05:\n",
    "        print(\"elegimos el residuo del precio de cierre - exp(log est) - p=\",result[1])\n",
    "        modelo = res_model\n",
    "        tsplot (res_model,lags=lags)\n",
    "        tipo = 1\n",
    "    elif result1[1]<0.05:\n",
    "        print(\"elegimos el residuo del log precio de cierre - log est - p=\",result1[1])\n",
    "        modelo = res_log_est\n",
    "        tsplot (res_log_est,lags=lags)\n",
    "        tipo = 2\n",
    "    else:\n",
    "        print(\"la serie no es estacionaria, hacer mas diferenciación\")\n",
    "    return (modelo,df_train,df_test,tipo)"
   ]
  },
  {
   "cell_type": "code",
   "execution_count": null,
   "id": "0fd57150",
   "metadata": {},
   "outputs": [],
   "source": [
    "def tsplot(y, lags=None, figsize=(12, 7), style='bmh'):\n",
    "    \"\"\" \n",
    "        Plotea la serie de tiempo, el ACF y PACF y el test de Dickey–Fuller\n",
    "        \n",
    "        y - serie de tiempo\n",
    "        lags - cuántos lags incluir para el cálculo de la ACF y PACF\n",
    "        \n",
    "    \"\"\"\n",
    "    if not isinstance(y, pd.Series):\n",
    "        y = pd.Series(y)\n",
    "        \n",
    "    with plt.style.context(style):    \n",
    "        fig = plt.figure(figsize=figsize)\n",
    "        layout = (2, 2)\n",
    "        \n",
    "        # definimos ejes\n",
    "        ts_ax = plt.subplot2grid(layout, (0, 0), colspan=2)\n",
    "        acf_ax = plt.subplot2grid(layout, (1, 0))\n",
    "        pacf_ax = plt.subplot2grid(layout, (1, 1))\n",
    "        \n",
    "        y.plot(ax=ts_ax)\n",
    "        \n",
    "        # obtengo el p-value con h0: raiz unitaria presente\n",
    "        p_value = sm.tsa.stattools.adfuller(y)[1]\n",
    "        \n",
    "        ts_ax.set_title('Análisis de la Serie de Tiempo\\n Dickey-Fuller: p={0:.5f}'\\\n",
    "                        .format(p_value))\n",
    "        \n",
    "        # plot de autocorrelacion\n",
    "        smt.graphics.plot_acf(y, lags=lags, ax=acf_ax)\n",
    "        # plot de autocorrelacion parcial\n",
    "        smt.graphics.plot_pacf(y, lags=lags, ax=pacf_ax)\n",
    "        plt.tight_layout()"
   ]
  },
  {
   "cell_type": "code",
   "execution_count": null,
   "id": "4bb91ed5",
   "metadata": {},
   "outputs": [],
   "source": [
    "def arima (modelo,p,d,q,alpha):\n",
    "    model_ARIMA = ARIMA(modelo[0], order=(p,d,q))\n",
    "    results_ARIMA = model_ARIMA.fit()\n",
    "    res_ARIMA =  results_ARIMA.fittedvalues - modelo[0]\n",
    "    predictions_ARIMA, se, conf = results_ARIMA.forecast(len(modelo[2]['Close']), alpha=alpha)\n",
    "    if modelo[3] == 1:\n",
    "        modelo[1]['model_ARIMA'] = modelo[1]['back_model_log_est'] + results_ARIMA.fittedvalues\n",
    "        modelo[2]['model_ARIMA'] = modelo[2]['back_model_log_est'] + predictions_ARIMA\n",
    "    else:\n",
    "        modelo[1]['model_ARIMA'] = np.exp(modelo[1]['model_log_est'] + results_ARIMA.fittedvalues)\n",
    "        modelo[2]['model_ARIMA'] = np.exp(modelo[2]['model_log_est'] + predictions_ARIMA)\n",
    "    modelo[1].plot(kind = \"line\", y = ['Close', 'model_ARIMA']);\n",
    "    modelo[2].plot(kind = \"line\", y = ['Close', 'model_ARIMA']);"
   ]
  },
  {
   "cell_type": "code",
   "execution_count": null,
   "id": "9f84490d",
   "metadata": {},
   "outputs": [],
   "source": [
    "modelo = evaluacion(\"eth-usd\",\"2015, 1, 1\",6,20)"
   ]
  },
  {
   "cell_type": "code",
   "execution_count": null,
   "id": "3b29ed82",
   "metadata": {},
   "outputs": [],
   "source": [
    "arima(modelo,2,0,2,0.05)"
   ]
  },
  {
   "cell_type": "code",
   "execution_count": null,
   "id": "d5fe0598",
   "metadata": {},
   "outputs": [],
   "source": []
  },
  {
   "cell_type": "code",
   "execution_count": null,
   "id": "b0c8f67a",
   "metadata": {},
   "outputs": [],
   "source": []
  },
  {
   "cell_type": "markdown",
   "id": "ec93340b",
   "metadata": {},
   "source": [
    "*código para graficar la función y analizar"
   ]
  },
  {
   "cell_type": "code",
   "execution_count": 2,
   "id": "70c7136f",
   "metadata": {},
   "outputs": [
    {
     "data": {
      "text/html": [
       "\n",
       "    <div class=\"bk-root\">\n",
       "        <a href=\"https://bokeh.org\" target=\"_blank\" class=\"bk-logo bk-logo-small bk-logo-notebook\"></a>\n",
       "        <span id=\"1001\">Loading BokehJS ...</span>\n",
       "    </div>"
      ]
     },
     "metadata": {},
     "output_type": "display_data"
    },
    {
     "data": {
      "application/javascript": [
       "\n",
       "(function(root) {\n",
       "  function now() {\n",
       "    return new Date();\n",
       "  }\n",
       "\n",
       "  var force = true;\n",
       "\n",
       "  if (typeof root._bokeh_onload_callbacks === \"undefined\" || force === true) {\n",
       "    root._bokeh_onload_callbacks = [];\n",
       "    root._bokeh_is_loading = undefined;\n",
       "  }\n",
       "\n",
       "  var JS_MIME_TYPE = 'application/javascript';\n",
       "  var HTML_MIME_TYPE = 'text/html';\n",
       "  var EXEC_MIME_TYPE = 'application/vnd.bokehjs_exec.v0+json';\n",
       "  var CLASS_NAME = 'output_bokeh rendered_html';\n",
       "\n",
       "  /**\n",
       "   * Render data to the DOM node\n",
       "   */\n",
       "  function render(props, node) {\n",
       "    var script = document.createElement(\"script\");\n",
       "    node.appendChild(script);\n",
       "  }\n",
       "\n",
       "  /**\n",
       "   * Handle when an output is cleared or removed\n",
       "   */\n",
       "  function handleClearOutput(event, handle) {\n",
       "    var cell = handle.cell;\n",
       "\n",
       "    var id = cell.output_area._bokeh_element_id;\n",
       "    var server_id = cell.output_area._bokeh_server_id;\n",
       "    // Clean up Bokeh references\n",
       "    if (id != null && id in Bokeh.index) {\n",
       "      Bokeh.index[id].model.document.clear();\n",
       "      delete Bokeh.index[id];\n",
       "    }\n",
       "\n",
       "    if (server_id !== undefined) {\n",
       "      // Clean up Bokeh references\n",
       "      var cmd = \"from bokeh.io.state import curstate; print(curstate().uuid_to_server['\" + server_id + \"'].get_sessions()[0].document.roots[0]._id)\";\n",
       "      cell.notebook.kernel.execute(cmd, {\n",
       "        iopub: {\n",
       "          output: function(msg) {\n",
       "            var id = msg.content.text.trim();\n",
       "            if (id in Bokeh.index) {\n",
       "              Bokeh.index[id].model.document.clear();\n",
       "              delete Bokeh.index[id];\n",
       "            }\n",
       "          }\n",
       "        }\n",
       "      });\n",
       "      // Destroy server and session\n",
       "      var cmd = \"import bokeh.io.notebook as ion; ion.destroy_server('\" + server_id + \"')\";\n",
       "      cell.notebook.kernel.execute(cmd);\n",
       "    }\n",
       "  }\n",
       "\n",
       "  /**\n",
       "   * Handle when a new output is added\n",
       "   */\n",
       "  function handleAddOutput(event, handle) {\n",
       "    var output_area = handle.output_area;\n",
       "    var output = handle.output;\n",
       "\n",
       "    // limit handleAddOutput to display_data with EXEC_MIME_TYPE content only\n",
       "    if ((output.output_type != \"display_data\") || (!output.data.hasOwnProperty(EXEC_MIME_TYPE))) {\n",
       "      return\n",
       "    }\n",
       "\n",
       "    var toinsert = output_area.element.find(\".\" + CLASS_NAME.split(' ')[0]);\n",
       "\n",
       "    if (output.metadata[EXEC_MIME_TYPE][\"id\"] !== undefined) {\n",
       "      toinsert[toinsert.length - 1].firstChild.textContent = output.data[JS_MIME_TYPE];\n",
       "      // store reference to embed id on output_area\n",
       "      output_area._bokeh_element_id = output.metadata[EXEC_MIME_TYPE][\"id\"];\n",
       "    }\n",
       "    if (output.metadata[EXEC_MIME_TYPE][\"server_id\"] !== undefined) {\n",
       "      var bk_div = document.createElement(\"div\");\n",
       "      bk_div.innerHTML = output.data[HTML_MIME_TYPE];\n",
       "      var script_attrs = bk_div.children[0].attributes;\n",
       "      for (var i = 0; i < script_attrs.length; i++) {\n",
       "        toinsert[toinsert.length - 1].firstChild.setAttribute(script_attrs[i].name, script_attrs[i].value);\n",
       "        toinsert[toinsert.length - 1].firstChild.textContent = bk_div.children[0].textContent\n",
       "      }\n",
       "      // store reference to server id on output_area\n",
       "      output_area._bokeh_server_id = output.metadata[EXEC_MIME_TYPE][\"server_id\"];\n",
       "    }\n",
       "  }\n",
       "\n",
       "  function register_renderer(events, OutputArea) {\n",
       "\n",
       "    function append_mime(data, metadata, element) {\n",
       "      // create a DOM node to render to\n",
       "      var toinsert = this.create_output_subarea(\n",
       "        metadata,\n",
       "        CLASS_NAME,\n",
       "        EXEC_MIME_TYPE\n",
       "      );\n",
       "      this.keyboard_manager.register_events(toinsert);\n",
       "      // Render to node\n",
       "      var props = {data: data, metadata: metadata[EXEC_MIME_TYPE]};\n",
       "      render(props, toinsert[toinsert.length - 1]);\n",
       "      element.append(toinsert);\n",
       "      return toinsert\n",
       "    }\n",
       "\n",
       "    /* Handle when an output is cleared or removed */\n",
       "    events.on('clear_output.CodeCell', handleClearOutput);\n",
       "    events.on('delete.Cell', handleClearOutput);\n",
       "\n",
       "    /* Handle when a new output is added */\n",
       "    events.on('output_added.OutputArea', handleAddOutput);\n",
       "\n",
       "    /**\n",
       "     * Register the mime type and append_mime function with output_area\n",
       "     */\n",
       "    OutputArea.prototype.register_mime_type(EXEC_MIME_TYPE, append_mime, {\n",
       "      /* Is output safe? */\n",
       "      safe: true,\n",
       "      /* Index of renderer in `output_area.display_order` */\n",
       "      index: 0\n",
       "    });\n",
       "  }\n",
       "\n",
       "  // register the mime type if in Jupyter Notebook environment and previously unregistered\n",
       "  if (root.Jupyter !== undefined) {\n",
       "    var events = require('base/js/events');\n",
       "    var OutputArea = require('notebook/js/outputarea').OutputArea;\n",
       "\n",
       "    if (OutputArea.prototype.mime_types().indexOf(EXEC_MIME_TYPE) == -1) {\n",
       "      register_renderer(events, OutputArea);\n",
       "    }\n",
       "  }\n",
       "\n",
       "  \n",
       "  if (typeof (root._bokeh_timeout) === \"undefined\" || force === true) {\n",
       "    root._bokeh_timeout = Date.now() + 5000;\n",
       "    root._bokeh_failed_load = false;\n",
       "  }\n",
       "\n",
       "  var NB_LOAD_WARNING = {'data': {'text/html':\n",
       "     \"<div style='background-color: #fdd'>\\n\"+\n",
       "     \"<p>\\n\"+\n",
       "     \"BokehJS does not appear to have successfully loaded. If loading BokehJS from CDN, this \\n\"+\n",
       "     \"may be due to a slow or bad network connection. Possible fixes:\\n\"+\n",
       "     \"</p>\\n\"+\n",
       "     \"<ul>\\n\"+\n",
       "     \"<li>re-rerun `output_notebook()` to attempt to load from CDN again, or</li>\\n\"+\n",
       "     \"<li>use INLINE resources instead, as so:</li>\\n\"+\n",
       "     \"</ul>\\n\"+\n",
       "     \"<code>\\n\"+\n",
       "     \"from bokeh.resources import INLINE\\n\"+\n",
       "     \"output_notebook(resources=INLINE)\\n\"+\n",
       "     \"</code>\\n\"+\n",
       "     \"</div>\"}};\n",
       "\n",
       "  function display_loaded() {\n",
       "    var el = document.getElementById(\"1001\");\n",
       "    if (el != null) {\n",
       "      el.textContent = \"BokehJS is loading...\";\n",
       "    }\n",
       "    if (root.Bokeh !== undefined) {\n",
       "      if (el != null) {\n",
       "        el.textContent = \"BokehJS \" + root.Bokeh.version + \" successfully loaded.\";\n",
       "      }\n",
       "    } else if (Date.now() < root._bokeh_timeout) {\n",
       "      setTimeout(display_loaded, 100)\n",
       "    }\n",
       "  }\n",
       "\n",
       "\n",
       "  function run_callbacks() {\n",
       "    try {\n",
       "      root._bokeh_onload_callbacks.forEach(function(callback) {\n",
       "        if (callback != null)\n",
       "          callback();\n",
       "      });\n",
       "    } finally {\n",
       "      delete root._bokeh_onload_callbacks\n",
       "    }\n",
       "    console.debug(\"Bokeh: all callbacks have finished\");\n",
       "  }\n",
       "\n",
       "  function load_libs(css_urls, js_urls, callback) {\n",
       "    if (css_urls == null) css_urls = [];\n",
       "    if (js_urls == null) js_urls = [];\n",
       "\n",
       "    root._bokeh_onload_callbacks.push(callback);\n",
       "    if (root._bokeh_is_loading > 0) {\n",
       "      console.debug(\"Bokeh: BokehJS is being loaded, scheduling callback at\", now());\n",
       "      return null;\n",
       "    }\n",
       "    if (js_urls == null || js_urls.length === 0) {\n",
       "      run_callbacks();\n",
       "      return null;\n",
       "    }\n",
       "    console.debug(\"Bokeh: BokehJS not loaded, scheduling load and callback at\", now());\n",
       "    root._bokeh_is_loading = css_urls.length + js_urls.length;\n",
       "\n",
       "    function on_load() {\n",
       "      root._bokeh_is_loading--;\n",
       "      if (root._bokeh_is_loading === 0) {\n",
       "        console.debug(\"Bokeh: all BokehJS libraries/stylesheets loaded\");\n",
       "        run_callbacks()\n",
       "      }\n",
       "    }\n",
       "\n",
       "    function on_error() {\n",
       "      console.error(\"failed to load \" + url);\n",
       "    }\n",
       "\n",
       "    for (var i = 0; i < css_urls.length; i++) {\n",
       "      var url = css_urls[i];\n",
       "      const element = document.createElement(\"link\");\n",
       "      element.onload = on_load;\n",
       "      element.onerror = on_error;\n",
       "      element.rel = \"stylesheet\";\n",
       "      element.type = \"text/css\";\n",
       "      element.href = url;\n",
       "      console.debug(\"Bokeh: injecting link tag for BokehJS stylesheet: \", url);\n",
       "      document.body.appendChild(element);\n",
       "    }\n",
       "\n",
       "    const hashes = {\"https://cdn.bokeh.org/bokeh/release/bokeh-2.2.3.min.js\": \"T2yuo9Oe71Cz/I4X9Ac5+gpEa5a8PpJCDlqKYO0CfAuEszu1JrXLl8YugMqYe3sM\", \"https://cdn.bokeh.org/bokeh/release/bokeh-widgets-2.2.3.min.js\": \"98GDGJ0kOMCUMUePhksaQ/GYgB3+NH9h996V88sh3aOiUNX3N+fLXAtry6xctSZ6\", \"https://cdn.bokeh.org/bokeh/release/bokeh-tables-2.2.3.min.js\": \"89bArO+nlbP3sgakeHjCo1JYxYR5wufVgA3IbUvDY+K7w4zyxJqssu7wVnfeKCq8\"};\n",
       "\n",
       "    for (var i = 0; i < js_urls.length; i++) {\n",
       "      var url = js_urls[i];\n",
       "      var element = document.createElement('script');\n",
       "      element.onload = on_load;\n",
       "      element.onerror = on_error;\n",
       "      element.async = false;\n",
       "      element.src = url;\n",
       "      if (url in hashes) {\n",
       "        element.crossOrigin = \"anonymous\";\n",
       "        element.integrity = \"sha384-\" + hashes[url];\n",
       "      }\n",
       "      console.debug(\"Bokeh: injecting script tag for BokehJS library: \", url);\n",
       "      document.head.appendChild(element);\n",
       "    }\n",
       "  };\n",
       "\n",
       "  function inject_raw_css(css) {\n",
       "    const element = document.createElement(\"style\");\n",
       "    element.appendChild(document.createTextNode(css));\n",
       "    document.body.appendChild(element);\n",
       "  }\n",
       "\n",
       "  \n",
       "  var js_urls = [\"https://cdn.bokeh.org/bokeh/release/bokeh-2.2.3.min.js\", \"https://cdn.bokeh.org/bokeh/release/bokeh-widgets-2.2.3.min.js\", \"https://cdn.bokeh.org/bokeh/release/bokeh-tables-2.2.3.min.js\"];\n",
       "  var css_urls = [];\n",
       "  \n",
       "\n",
       "  var inline_js = [\n",
       "    function(Bokeh) {\n",
       "      Bokeh.set_log_level(\"info\");\n",
       "    },\n",
       "    function(Bokeh) {\n",
       "    \n",
       "    \n",
       "    }\n",
       "  ];\n",
       "\n",
       "  function run_inline_js() {\n",
       "    \n",
       "    if (root.Bokeh !== undefined || force === true) {\n",
       "      \n",
       "    for (var i = 0; i < inline_js.length; i++) {\n",
       "      inline_js[i].call(root, root.Bokeh);\n",
       "    }\n",
       "    if (force === true) {\n",
       "        display_loaded();\n",
       "      }} else if (Date.now() < root._bokeh_timeout) {\n",
       "      setTimeout(run_inline_js, 100);\n",
       "    } else if (!root._bokeh_failed_load) {\n",
       "      console.log(\"Bokeh: BokehJS failed to load within specified timeout.\");\n",
       "      root._bokeh_failed_load = true;\n",
       "    } else if (force !== true) {\n",
       "      var cell = $(document.getElementById(\"1001\")).parents('.cell').data().cell;\n",
       "      cell.output_area.append_execute_result(NB_LOAD_WARNING)\n",
       "    }\n",
       "\n",
       "  }\n",
       "\n",
       "  if (root._bokeh_is_loading === 0) {\n",
       "    console.debug(\"Bokeh: BokehJS loaded, going straight to plotting\");\n",
       "    run_inline_js();\n",
       "  } else {\n",
       "    load_libs(css_urls, js_urls, function() {\n",
       "      console.debug(\"Bokeh: BokehJS plotting callback run at\", now());\n",
       "      run_inline_js();\n",
       "    });\n",
       "  }\n",
       "}(window));"
      ],
      "application/vnd.bokehjs_load.v0+json": "\n(function(root) {\n  function now() {\n    return new Date();\n  }\n\n  var force = true;\n\n  if (typeof root._bokeh_onload_callbacks === \"undefined\" || force === true) {\n    root._bokeh_onload_callbacks = [];\n    root._bokeh_is_loading = undefined;\n  }\n\n  \n\n  \n  if (typeof (root._bokeh_timeout) === \"undefined\" || force === true) {\n    root._bokeh_timeout = Date.now() + 5000;\n    root._bokeh_failed_load = false;\n  }\n\n  var NB_LOAD_WARNING = {'data': {'text/html':\n     \"<div style='background-color: #fdd'>\\n\"+\n     \"<p>\\n\"+\n     \"BokehJS does not appear to have successfully loaded. If loading BokehJS from CDN, this \\n\"+\n     \"may be due to a slow or bad network connection. Possible fixes:\\n\"+\n     \"</p>\\n\"+\n     \"<ul>\\n\"+\n     \"<li>re-rerun `output_notebook()` to attempt to load from CDN again, or</li>\\n\"+\n     \"<li>use INLINE resources instead, as so:</li>\\n\"+\n     \"</ul>\\n\"+\n     \"<code>\\n\"+\n     \"from bokeh.resources import INLINE\\n\"+\n     \"output_notebook(resources=INLINE)\\n\"+\n     \"</code>\\n\"+\n     \"</div>\"}};\n\n  function display_loaded() {\n    var el = document.getElementById(\"1001\");\n    if (el != null) {\n      el.textContent = \"BokehJS is loading...\";\n    }\n    if (root.Bokeh !== undefined) {\n      if (el != null) {\n        el.textContent = \"BokehJS \" + root.Bokeh.version + \" successfully loaded.\";\n      }\n    } else if (Date.now() < root._bokeh_timeout) {\n      setTimeout(display_loaded, 100)\n    }\n  }\n\n\n  function run_callbacks() {\n    try {\n      root._bokeh_onload_callbacks.forEach(function(callback) {\n        if (callback != null)\n          callback();\n      });\n    } finally {\n      delete root._bokeh_onload_callbacks\n    }\n    console.debug(\"Bokeh: all callbacks have finished\");\n  }\n\n  function load_libs(css_urls, js_urls, callback) {\n    if (css_urls == null) css_urls = [];\n    if (js_urls == null) js_urls = [];\n\n    root._bokeh_onload_callbacks.push(callback);\n    if (root._bokeh_is_loading > 0) {\n      console.debug(\"Bokeh: BokehJS is being loaded, scheduling callback at\", now());\n      return null;\n    }\n    if (js_urls == null || js_urls.length === 0) {\n      run_callbacks();\n      return null;\n    }\n    console.debug(\"Bokeh: BokehJS not loaded, scheduling load and callback at\", now());\n    root._bokeh_is_loading = css_urls.length + js_urls.length;\n\n    function on_load() {\n      root._bokeh_is_loading--;\n      if (root._bokeh_is_loading === 0) {\n        console.debug(\"Bokeh: all BokehJS libraries/stylesheets loaded\");\n        run_callbacks()\n      }\n    }\n\n    function on_error() {\n      console.error(\"failed to load \" + url);\n    }\n\n    for (var i = 0; i < css_urls.length; i++) {\n      var url = css_urls[i];\n      const element = document.createElement(\"link\");\n      element.onload = on_load;\n      element.onerror = on_error;\n      element.rel = \"stylesheet\";\n      element.type = \"text/css\";\n      element.href = url;\n      console.debug(\"Bokeh: injecting link tag for BokehJS stylesheet: \", url);\n      document.body.appendChild(element);\n    }\n\n    const hashes = {\"https://cdn.bokeh.org/bokeh/release/bokeh-2.2.3.min.js\": \"T2yuo9Oe71Cz/I4X9Ac5+gpEa5a8PpJCDlqKYO0CfAuEszu1JrXLl8YugMqYe3sM\", \"https://cdn.bokeh.org/bokeh/release/bokeh-widgets-2.2.3.min.js\": \"98GDGJ0kOMCUMUePhksaQ/GYgB3+NH9h996V88sh3aOiUNX3N+fLXAtry6xctSZ6\", \"https://cdn.bokeh.org/bokeh/release/bokeh-tables-2.2.3.min.js\": \"89bArO+nlbP3sgakeHjCo1JYxYR5wufVgA3IbUvDY+K7w4zyxJqssu7wVnfeKCq8\"};\n\n    for (var i = 0; i < js_urls.length; i++) {\n      var url = js_urls[i];\n      var element = document.createElement('script');\n      element.onload = on_load;\n      element.onerror = on_error;\n      element.async = false;\n      element.src = url;\n      if (url in hashes) {\n        element.crossOrigin = \"anonymous\";\n        element.integrity = \"sha384-\" + hashes[url];\n      }\n      console.debug(\"Bokeh: injecting script tag for BokehJS library: \", url);\n      document.head.appendChild(element);\n    }\n  };\n\n  function inject_raw_css(css) {\n    const element = document.createElement(\"style\");\n    element.appendChild(document.createTextNode(css));\n    document.body.appendChild(element);\n  }\n\n  \n  var js_urls = [\"https://cdn.bokeh.org/bokeh/release/bokeh-2.2.3.min.js\", \"https://cdn.bokeh.org/bokeh/release/bokeh-widgets-2.2.3.min.js\", \"https://cdn.bokeh.org/bokeh/release/bokeh-tables-2.2.3.min.js\"];\n  var css_urls = [];\n  \n\n  var inline_js = [\n    function(Bokeh) {\n      Bokeh.set_log_level(\"info\");\n    },\n    function(Bokeh) {\n    \n    \n    }\n  ];\n\n  function run_inline_js() {\n    \n    if (root.Bokeh !== undefined || force === true) {\n      \n    for (var i = 0; i < inline_js.length; i++) {\n      inline_js[i].call(root, root.Bokeh);\n    }\n    if (force === true) {\n        display_loaded();\n      }} else if (Date.now() < root._bokeh_timeout) {\n      setTimeout(run_inline_js, 100);\n    } else if (!root._bokeh_failed_load) {\n      console.log(\"Bokeh: BokehJS failed to load within specified timeout.\");\n      root._bokeh_failed_load = true;\n    } else if (force !== true) {\n      var cell = $(document.getElementById(\"1001\")).parents('.cell').data().cell;\n      cell.output_area.append_execute_result(NB_LOAD_WARNING)\n    }\n\n  }\n\n  if (root._bokeh_is_loading === 0) {\n    console.debug(\"Bokeh: BokehJS loaded, going straight to plotting\");\n    run_inline_js();\n  } else {\n    load_libs(css_urls, js_urls, function() {\n      console.debug(\"Bokeh: BokehJS plotting callback run at\", now());\n      run_inline_js();\n    });\n  }\n}(window));"
     },
     "metadata": {},
     "output_type": "display_data"
    }
   ],
   "source": [
    "import os\n",
    "from bokeh.plotting import figure, ColumnDataSource\n",
    "from bokeh.models.widgets import Dropdown\n",
    "from bokeh.io import curdoc\n",
    "from bokeh.layouts import column\n",
    "\n",
    "from bokeh.models import BooleanFilter, CDSView, Select, Range1d, HoverTool\n",
    "from bokeh.palettes import Category20\n",
    "from bokeh.models.formatters import NumeralTickFormatter\n",
    "from bokeh.io import output_notebook, show\n",
    "\n",
    "output_notebook()"
   ]
  },
  {
   "cell_type": "code",
   "execution_count": 13,
   "id": "0722df72",
   "metadata": {},
   "outputs": [],
   "source": [
    "def get_symbol_df (activo,start,period):\n",
    "    tipo = 0\n",
    "    start = datetime.datetime.strptime(start,\"%Y, %m, %d\" )\n",
    "    end = datetime.datetime.now()\n",
    "    df = web.get_data_yahoo(activo, start, end, interval=period)\n",
    "    df.reset_index(inplace=True)\n",
    "    df[\"Date\"] = pd.to_datetime(df[\"Date\"])\n",
    "    return df"
   ]
  },
  {
   "cell_type": "code",
   "execution_count": 54,
   "id": "4eabf59c",
   "metadata": {},
   "outputs": [
    {
     "data": {
      "text/html": [
       "<div>\n",
       "<style scoped>\n",
       "    .dataframe tbody tr th:only-of-type {\n",
       "        vertical-align: middle;\n",
       "    }\n",
       "\n",
       "    .dataframe tbody tr th {\n",
       "        vertical-align: top;\n",
       "    }\n",
       "\n",
       "    .dataframe thead th {\n",
       "        text-align: right;\n",
       "    }\n",
       "</style>\n",
       "<table border=\"1\" class=\"dataframe\">\n",
       "  <thead>\n",
       "    <tr style=\"text-align: right;\">\n",
       "      <th></th>\n",
       "      <th>Date</th>\n",
       "      <th>High</th>\n",
       "      <th>Low</th>\n",
       "      <th>Open</th>\n",
       "      <th>Close</th>\n",
       "      <th>Volume</th>\n",
       "      <th>Adj Close</th>\n",
       "    </tr>\n",
       "  </thead>\n",
       "  <tbody>\n",
       "    <tr>\n",
       "      <th>0</th>\n",
       "      <td>2015-01-01</td>\n",
       "      <td>359.500000</td>\n",
       "      <td>285.250000</td>\n",
       "      <td>312.579987</td>\n",
       "      <td>354.529999</td>\n",
       "      <td>103057100</td>\n",
       "      <td>354.529999</td>\n",
       "    </tr>\n",
       "    <tr>\n",
       "      <th>1</th>\n",
       "      <td>2015-02-01</td>\n",
       "      <td>389.369995</td>\n",
       "      <td>350.010010</td>\n",
       "      <td>350.049988</td>\n",
       "      <td>380.160004</td>\n",
       "      <td>70846200</td>\n",
       "      <td>380.160004</td>\n",
       "    </tr>\n",
       "    <tr>\n",
       "      <th>2</th>\n",
       "      <td>2015-03-01</td>\n",
       "      <td>388.420013</td>\n",
       "      <td>365.649994</td>\n",
       "      <td>380.850006</td>\n",
       "      <td>372.100006</td>\n",
       "      <td>55502800</td>\n",
       "      <td>372.100006</td>\n",
       "    </tr>\n",
       "    <tr>\n",
       "      <th>3</th>\n",
       "      <td>2015-04-01</td>\n",
       "      <td>452.649994</td>\n",
       "      <td>368.339996</td>\n",
       "      <td>372.100006</td>\n",
       "      <td>421.779999</td>\n",
       "      <td>84404800</td>\n",
       "      <td>421.779999</td>\n",
       "    </tr>\n",
       "    <tr>\n",
       "      <th>4</th>\n",
       "      <td>2015-05-01</td>\n",
       "      <td>439.000000</td>\n",
       "      <td>414.549988</td>\n",
       "      <td>423.820007</td>\n",
       "      <td>429.230011</td>\n",
       "      <td>51983000</td>\n",
       "      <td>429.230011</td>\n",
       "    </tr>\n",
       "    <tr>\n",
       "      <th>...</th>\n",
       "      <td>...</td>\n",
       "      <td>...</td>\n",
       "      <td>...</td>\n",
       "      <td>...</td>\n",
       "      <td>...</td>\n",
       "      <td>...</td>\n",
       "      <td>...</td>\n",
       "    </tr>\n",
       "    <tr>\n",
       "      <th>78</th>\n",
       "      <td>2021-07-01</td>\n",
       "      <td>3773.080078</td>\n",
       "      <td>3306.979980</td>\n",
       "      <td>3434.610107</td>\n",
       "      <td>3327.590088</td>\n",
       "      <td>83720800</td>\n",
       "      <td>3327.590088</td>\n",
       "    </tr>\n",
       "    <tr>\n",
       "      <th>79</th>\n",
       "      <td>2021-08-01</td>\n",
       "      <td>3472.580078</td>\n",
       "      <td>3175.760010</td>\n",
       "      <td>3353.100098</td>\n",
       "      <td>3470.790039</td>\n",
       "      <td>62813700</td>\n",
       "      <td>3470.790039</td>\n",
       "    </tr>\n",
       "    <tr>\n",
       "      <th>80</th>\n",
       "      <td>2021-09-01</td>\n",
       "      <td>3549.989990</td>\n",
       "      <td>3273.989990</td>\n",
       "      <td>3496.399902</td>\n",
       "      <td>3285.040039</td>\n",
       "      <td>62523700</td>\n",
       "      <td>3285.040039</td>\n",
       "    </tr>\n",
       "    <tr>\n",
       "      <th>81</th>\n",
       "      <td>2021-10-01</td>\n",
       "      <td>3325.750000</td>\n",
       "      <td>3176.250000</td>\n",
       "      <td>3289.010010</td>\n",
       "      <td>3288.620117</td>\n",
       "      <td>17565500</td>\n",
       "      <td>3288.620117</td>\n",
       "    </tr>\n",
       "    <tr>\n",
       "      <th>82</th>\n",
       "      <td>2021-10-08</td>\n",
       "      <td>3321.429932</td>\n",
       "      <td>3288.199951</td>\n",
       "      <td>3317.000000</td>\n",
       "      <td>3288.620117</td>\n",
       "      <td>1998217</td>\n",
       "      <td>3288.620117</td>\n",
       "    </tr>\n",
       "  </tbody>\n",
       "</table>\n",
       "<p>83 rows × 7 columns</p>\n",
       "</div>"
      ],
      "text/plain": [
       "         Date         High          Low         Open        Close     Volume  \\\n",
       "0  2015-01-01   359.500000   285.250000   312.579987   354.529999  103057100   \n",
       "1  2015-02-01   389.369995   350.010010   350.049988   380.160004   70846200   \n",
       "2  2015-03-01   388.420013   365.649994   380.850006   372.100006   55502800   \n",
       "3  2015-04-01   452.649994   368.339996   372.100006   421.779999   84404800   \n",
       "4  2015-05-01   439.000000   414.549988   423.820007   429.230011   51983000   \n",
       "..        ...          ...          ...          ...          ...        ...   \n",
       "78 2021-07-01  3773.080078  3306.979980  3434.610107  3327.590088   83720800   \n",
       "79 2021-08-01  3472.580078  3175.760010  3353.100098  3470.790039   62813700   \n",
       "80 2021-09-01  3549.989990  3273.989990  3496.399902  3285.040039   62523700   \n",
       "81 2021-10-01  3325.750000  3176.250000  3289.010010  3288.620117   17565500   \n",
       "82 2021-10-08  3321.429932  3288.199951  3317.000000  3288.620117    1998217   \n",
       "\n",
       "      Adj Close  \n",
       "0    354.529999  \n",
       "1    380.160004  \n",
       "2    372.100006  \n",
       "3    421.779999  \n",
       "4    429.230011  \n",
       "..          ...  \n",
       "78  3327.590088  \n",
       "79  3470.790039  \n",
       "80  3285.040039  \n",
       "81  3288.620117  \n",
       "82  3288.620117  \n",
       "\n",
       "[83 rows x 7 columns]"
      ]
     },
     "execution_count": 54,
     "metadata": {},
     "output_type": "execute_result"
    }
   ],
   "source": [
    "df = get_symbol_df(\"amzn\",\"2015, 1, 1\",\"m\")\n",
    "df"
   ]
  },
  {
   "cell_type": "code",
   "execution_count": 52,
   "id": "38f23fd3",
   "metadata": {},
   "outputs": [],
   "source": [
    "# plot basic stock prices\n",
    "def plot_stock_price(stock):\n",
    "    p = figure(plot_width=W_PLOT, plot_height=H_PLOT, tools=TOOLS,\n",
    "               title=\"Stock price\", toolbar_location='above')\n",
    "\n",
    "    inc = stock.data['Close'] > stock.data['Open']\n",
    "    dec = stock.data['Open'] > stock.data['Close']\n",
    "    view_inc = CDSView(source=stock, filters=[BooleanFilter(inc)])\n",
    "    view_dec = CDSView(source=stock, filters=[BooleanFilter(dec)])\n",
    "\n",
    "    p.segment(x0='index', x1='index', y0='Low', y1='High', color=RED, source=stock, view=view_inc)\n",
    "    p.segment(x0='index', x1='index', y0='Low', y1='High', color=GREEN, source=stock, view=view_dec)\n",
    "\n",
    "    p.vbar(x='index', width=VBAR_WIDTH, top='Open', bottom='Close', fill_color=BLUE, line_color=BLUE,\n",
    "           source=stock,view=view_inc, name=\"price\")\n",
    "    p.vbar(x='index', width=VBAR_WIDTH, top='Open', bottom='Close', fill_color=RED, line_color=RED,\n",
    "           source=stock,view=view_dec, name=\"price\")\n",
    "\n",
    "    p.legend.location = \"top_left\"\n",
    "    p.legend.border_line_alpha = 0\n",
    "    p.legend.background_fill_alpha = 0\n",
    "    p.legend.click_policy = \"mute\"\n",
    "    \n",
    "    # map dataframe indices to date strings and use as label overrides\n",
    "    p.xaxis.major_label_overrides = {i+int(stock.data['index'][0]): date.strftime('%b %d') for i, date in enumerate(pd.to_datetime(stock.data[\"Date\"]))}\n",
    "    p.xaxis.bounds = (stock.data['index'][0], stock.data['index'][-1])\n",
    "\n",
    "    # Add more ticks in the plot\n",
    "    p.x_range.range_padding = 0.05\n",
    "    p.xaxis.ticker.desired_num_ticks = 40\n",
    "    p.xaxis.major_label_orientation = 3.14/4\n",
    "    \n",
    "    # personalización de moneda\n",
    "    p.yaxis.formatter = NumeralTickFormatter(format='$ 0,0[.]000')\n",
    "    \n",
    "    # Select specific tool for the plot\n",
    "    price_hover = p.select(dict(type=HoverTool))\n",
    "\n",
    "    # Choose, which glyphs are active by glyph name\n",
    "    price_hover.names = [\"price\"]\n",
    "    # Creating tooltips\n",
    "    price_hover.tooltips = [(\"Datetime\", \"@Date{%Y-%m-%d}\"),\n",
    "                            (\"Open\", \"@Open{$0,0.00}\"),\n",
    "                            (\"Close\", \"@Close{$0,0.00}\"),\n",
    "                           (\"Volume\", \"@Volume{($ 0.00 a)}\")]\n",
    "    price_hover.formatters={\"Date\": 'datetime'}\n",
    "\n",
    "    return p\n",
    "\n",
    "\n",
    "\n",
    "# Define constants\n",
    "W_PLOT = 800\n",
    "H_PLOT = 300\n",
    "TOOLS = 'pan,wheel_zoom,reset,hover'\n",
    "\n",
    "\n",
    "\n",
    "VBAR_WIDTH = 0.2\n",
    "RED = Category20[7][6]\n",
    "GREEN = Category20[5][4]\n",
    "\n",
    "BLUE = Category20[3][0]\n",
    "BLUE_LIGHT = Category20[3][1]\n",
    "\n",
    "ORANGE = Category20[3][2]\n",
    "PURPLE = Category20[9][8]\n",
    "BROWN = Category20[11][10]\n",
    "\n",
    "stock = ColumnDataSource(\n",
    "    data=dict(Date=[], Open=[], Close=[], High=[], Low=[],index=[]))\n",
    "#symbol = 'msft'\n",
    "#df = get_symbol_df(\"amzn\",\"2015, 1, 1\",\"m\")\n",
    "stock.data = stock.from_df(df)\n",
    "elements = list()\n",
    "\n",
    "# Remeber to add hover in the TOOLS constants \n",
    "TOOLS = 'pan,wheel_zoom,hover,reset'\n",
    "\n",
    "\n",
    "\n",
    "\n",
    "\n",
    "# update_plot()\n",
    "p_stock = plot_stock_price(stock)\n",
    "\n",
    "elements.append(p_stock)\n",
    "\n",
    "curdoc().add_root(column(elements))\n",
    "curdoc().title = 'Bokeh stocks historical prices'"
   ]
  },
  {
   "cell_type": "code",
   "execution_count": 55,
   "id": "b194596c",
   "metadata": {},
   "outputs": [
    {
     "data": {
      "text/html": [
       "\n",
       "\n",
       "\n",
       "\n",
       "\n",
       "\n",
       "  <div class=\"bk-root\" id=\"d4799341-ae7b-4bda-9812-8349898c62d1\" data-root-id=\"4864\"></div>\n"
      ]
     },
     "metadata": {},
     "output_type": "display_data"
    },
    {
     "data": {
      "application/javascript": [
       "(function(root) {\n",
       "  function embed_document(root) {\n",
       "    \n",
       "  var docs_json = {\"030d0ff7-f1cf-40e5-862c-a91df3ec1669\":{\"roots\":{\"references\":[{\"attributes\":{\"below\":[{\"id\":\"4875\"}],\"center\":[{\"id\":\"4878\"},{\"id\":\"4882\"}],\"left\":[{\"id\":\"4879\"}],\"plot_height\":300,\"plot_width\":800,\"renderers\":[{\"id\":\"4899\"},{\"id\":\"4903\"},{\"id\":\"4907\"},{\"id\":\"4911\"}],\"title\":{\"id\":\"4865\"},\"toolbar\":{\"id\":\"4887\"},\"toolbar_location\":\"above\",\"x_range\":{\"id\":\"4867\"},\"x_scale\":{\"id\":\"4871\"},\"y_range\":{\"id\":\"4869\"},\"y_scale\":{\"id\":\"4873\"}},\"id\":\"4864\",\"subtype\":\"Figure\",\"type\":\"Plot\"},{\"attributes\":{\"booleans\":[false,true,false,true,true,true,true,false,true,false,false,false,true,false,false,false,true,true,true,true,true,true,false,true,false,true,true,true,true,false,false,true,false,false,false,false,false,false,false,true,false,true,true,true,true,true,false,false,true,true,false,false,true,true,false,true,true,false,true,true,false,true,true,true,true,true,true,true,false,false,true,true,false,true,true]},\"id\":\"4892\",\"type\":\"BooleanFilter\"},{\"attributes\":{\"axis\":{\"id\":\"4879\"},\"dimension\":1,\"ticker\":null},\"id\":\"4882\",\"type\":\"Grid\"},{\"attributes\":{\"filters\":[{\"id\":\"4894\"}],\"source\":{\"id\":\"4637\"}},\"id\":\"4895\",\"type\":\"CDSView\"},{\"attributes\":{\"line_alpha\":{\"value\":0.1},\"line_color\":{\"value\":\"#d62728\"},\"x0\":{\"field\":\"index\"},\"x1\":{\"field\":\"index\"},\"y0\":{\"field\":\"Low\"},\"y1\":{\"field\":\"High\"}},\"id\":\"4898\",\"type\":\"Segment\"},{\"attributes\":{\"bottom\":{\"field\":\"Close\"},\"fill_alpha\":{\"value\":0.1},\"fill_color\":{\"value\":\"#d62728\"},\"line_alpha\":{\"value\":0.1},\"line_color\":{\"value\":\"#d62728\"},\"top\":{\"field\":\"Open\"},\"width\":{\"value\":0.2},\"x\":{\"field\":\"index\"}},\"id\":\"4910\",\"type\":\"VBar\"},{\"attributes\":{\"bounds\":[0,74],\"formatter\":{\"id\":\"4917\"},\"major_label_orientation\":0.785,\"major_label_overrides\":{\"0\":\"Aug 31\",\"1\":\"Sep 30\",\"10\":\"Jun 30\",\"11\":\"Jul 31\",\"12\":\"Aug 31\",\"13\":\"Sep 30\",\"14\":\"Nov 01\",\"15\":\"Dec 01\",\"16\":\"Jan 01\",\"17\":\"Feb 01\",\"18\":\"Mar 01\",\"19\":\"Mar 31\",\"2\":\"Nov 01\",\"20\":\"Apr 30\",\"21\":\"May 31\",\"22\":\"Jun 30\",\"23\":\"Jul 31\",\"24\":\"Aug 31\",\"25\":\"Sep 30\",\"26\":\"Nov 01\",\"27\":\"Dec 01\",\"28\":\"Jan 01\",\"29\":\"Feb 01\",\"3\":\"Dec 01\",\"30\":\"Mar 01\",\"31\":\"Mar 31\",\"32\":\"Apr 30\",\"33\":\"May 31\",\"34\":\"Jun 30\",\"35\":\"Jul 31\",\"36\":\"Aug 31\",\"37\":\"Sep 30\",\"38\":\"Nov 01\",\"39\":\"Dec 01\",\"4\":\"Jan 01\",\"40\":\"Jan 01\",\"41\":\"Feb 01\",\"42\":\"Mar 01\",\"43\":\"Mar 31\",\"44\":\"Apr 30\",\"45\":\"May 31\",\"46\":\"Jun 30\",\"47\":\"Jul 31\",\"48\":\"Aug 31\",\"49\":\"Sep 30\",\"5\":\"Feb 01\",\"50\":\"Nov 01\",\"51\":\"Dec 01\",\"52\":\"Jan 01\",\"53\":\"Feb 01\",\"54\":\"Mar 01\",\"55\":\"Mar 31\",\"56\":\"Apr 30\",\"57\":\"May 31\",\"58\":\"Jun 30\",\"59\":\"Jul 31\",\"6\":\"Mar 01\",\"60\":\"Aug 31\",\"61\":\"Sep 30\",\"62\":\"Nov 01\",\"63\":\"Dec 01\",\"64\":\"Jan 01\",\"65\":\"Feb 01\",\"66\":\"Mar 01\",\"67\":\"Mar 31\",\"68\":\"Apr 30\",\"69\":\"May 31\",\"7\":\"Mar 31\",\"70\":\"Jun 30\",\"71\":\"Jul 31\",\"72\":\"Aug 31\",\"73\":\"Sep 30\",\"74\":\"Oct 09\",\"8\":\"Apr 30\",\"9\":\"May 31\"},\"ticker\":{\"id\":\"4876\"}},\"id\":\"4875\",\"type\":\"LinearAxis\"},{\"attributes\":{\"booleans\":[true,false,true,false,false,false,false,true,false,true,true,true,false,true,true,true,false,false,false,false,false,false,true,false,true,false,false,false,false,true,true,false,true,true,true,true,true,true,true,false,true,false,false,false,false,false,true,true,false,false,true,true,false,false,true,false,false,true,false,false,true,false,false,false,false,false,false,false,true,true,false,false,true,false,false]},\"id\":\"4894\",\"type\":\"BooleanFilter\"},{\"attributes\":{\"formatter\":{\"id\":\"4913\"},\"ticker\":{\"id\":\"4880\"}},\"id\":\"4879\",\"type\":\"LinearAxis\"},{\"attributes\":{\"line_color\":{\"value\":\"#d62728\"},\"x0\":{\"field\":\"index\"},\"x1\":{\"field\":\"index\"},\"y0\":{\"field\":\"Low\"},\"y1\":{\"field\":\"High\"}},\"id\":\"4897\",\"type\":\"Segment\"},{\"attributes\":{},\"id\":\"4883\",\"type\":\"PanTool\"},{\"attributes\":{\"active_drag\":\"auto\",\"active_inspect\":\"auto\",\"active_multi\":null,\"active_scroll\":\"auto\",\"active_tap\":\"auto\",\"tools\":[{\"id\":\"4883\"},{\"id\":\"4884\"},{\"id\":\"4885\"},{\"id\":\"4886\"}]},\"id\":\"4887\",\"type\":\"Toolbar\"},{\"attributes\":{\"data_source\":{\"id\":\"4637\"},\"glyph\":{\"id\":\"4909\"},\"hover_glyph\":null,\"muted_glyph\":null,\"name\":\"price\",\"nonselection_glyph\":{\"id\":\"4910\"},\"selection_glyph\":null,\"view\":{\"id\":\"4895\"}},\"id\":\"4911\",\"type\":\"GlyphRenderer\"},{\"attributes\":{},\"id\":\"4917\",\"type\":\"BasicTickFormatter\"},{\"attributes\":{},\"id\":\"4884\",\"type\":\"WheelZoomTool\"},{\"attributes\":{\"bottom\":{\"field\":\"Close\"},\"fill_color\":{\"value\":\"#1f77b4\"},\"line_color\":{\"value\":\"#1f77b4\"},\"top\":{\"field\":\"Open\"},\"width\":{\"value\":0.2},\"x\":{\"field\":\"index\"}},\"id\":\"4905\",\"type\":\"VBar\"},{\"attributes\":{\"filters\":[{\"id\":\"4892\"}],\"source\":{\"id\":\"4637\"}},\"id\":\"4893\",\"type\":\"CDSView\"},{\"attributes\":{},\"id\":\"4869\",\"type\":\"DataRange1d\"},{\"attributes\":{\"data\":{\"Adj Close\":{\"__ndarray__\":\"AAAAwPii5z8AAAAgAlXtPwAAAECX8Os/AAAAgJPf7T8AAAAgxXICQAAAAOATWRlAAAAAgJfOJkAAAAAAwqAhQAAAAOCTJyxAAAAAwEnsKEAAAAAAdsAnQAAAAOBEWCdAAAAAABlzKkAAAAAgFP8lQAAAAADSLCFAAAAAwFvgH0AAAADgenQlQAAAAABooi9AAAAAQMYESUAAAABgW8FTQAAAAIBo1WxAAAAA4KduckAAAABA33tpQAAAAACs8HdAAAAAoHDXckAAAABgEB5zQAAAAADT8XtAAAAAIN2lh0AAAACAPXmRQAAAAICXuYpAAAAA4E/HeEAAAABgZO+EQAAAAAApDYJAAAAAQOFyfEAAAABA3x17QAAAAGAQsHFAAAAA4CIbbUAAAAAgMaxoQAAAAID4SlxAAAAAwMirYEAAAACg58NaQAAAAEDhF2FAAAAAgHOwYUAAAAAgUEVkQAAAACDRwXBAAAAAwCIrckAAAADA7lRrQAAAAIAIj2VAAAAAIOl7ZkAAAAAA8f5mQAAAACBFEWNAAAAAIIwzYEAAAAAgIIVmQAAAAAAne2tAAAAAgP6yYEAAAAAARPNpQAAAAAA532xAAAAAgBRKbEAAAADg35h1QAAAAKBGMXtAAAAAoFuAdkAAAAAAcil4QAAAAIC9NoNAAAAAYG0Oh0AAAADg8YuUQAAAACAyIJZAAAAAwHL5nUAAAAAAaqqlQAAAAADkNaVAAAAAYBjFoUAAAACAa9CjQAAAACB306pAAAAAoFtzp0AAAADAhNerQAAAAADPKqxA\",\"dtype\":\"float64\",\"order\":\"little\",\"shape\":[75]},\"Close\":{\"__ndarray__\":\"AAAAwPii5z8AAAAgAlXtPwAAAECX8Os/AAAAgJPf7T8AAAAgxXICQAAAAOATWRlAAAAAgJfOJkAAAAAAwqAhQAAAAOCTJyxAAAAAwEnsKEAAAAAAdsAnQAAAAOBEWCdAAAAAABlzKkAAAAAgFP8lQAAAAADSLCFAAAAAwFvgH0AAAADgenQlQAAAAABooi9AAAAAQMYESUAAAABgW8FTQAAAAIBo1WxAAAAA4KduckAAAABA33tpQAAAAACs8HdAAAAAoHDXckAAAABgEB5zQAAAAADT8XtAAAAAIN2lh0AAAACAPXmRQAAAAICXuYpAAAAA4E/HeEAAAABgZO+EQAAAAAApDYJAAAAAQOFyfEAAAABA3x17QAAAAGAQsHFAAAAA4CIbbUAAAAAgMaxoQAAAAID4SlxAAAAAwMirYEAAAACg58NaQAAAAEDhF2FAAAAAgHOwYUAAAAAgUEVkQAAAACDRwXBAAAAAwCIrckAAAADA7lRrQAAAAIAIj2VAAAAAIOl7ZkAAAAAA8f5mQAAAACBFEWNAAAAAIIwzYEAAAAAgIIVmQAAAAAAne2tAAAAAgP6yYEAAAAAARPNpQAAAAAA532xAAAAAgBRKbEAAAADg35h1QAAAAKBGMXtAAAAAoFuAdkAAAAAAcil4QAAAAIC9NoNAAAAAYG0Oh0AAAADg8YuUQAAAACAyIJZAAAAAwHL5nUAAAAAAaqqlQAAAAADkNaVAAAAAYBjFoUAAAACAa9CjQAAAACB306pAAAAAoFtzp0AAAADAhNerQAAAAADPKqxA\",\"dtype\":\"float64\",\"order\":\"little\",\"shape\":[75]},\"Date\":{\"__ndarray__\":\"AACA2hD4dEIAAADHuAF1QgAAAH8FDHVCAACAa60VdUIAAMC9px91QgAAABCiKXVCAADAlvcydUIAAECDnzx1QgAAwG9HRnVCAAAAwkFQdUIAAICu6Vl1QgAAwADkY3VCAAAAU95tdUIAAIA/hnd1QgAAgPfSgXVCAAAA5HqLdUIAAEA2dZV1QgAAgIhvn3VCAACAqXKodUIAAACWGrJ1QgAAgILCu3VCAADA1LzFdUIAAEDBZM91QgAAgBNf2XVCAADAZVnjdUIAAEBSAe11QgAAQApO93VCAADA9vUAdkIAAABJ8Ap2QgAAQJvqFHZCAABAvO0ddkIAAMColSd2QgAAQJU9MXZCAACA5zc7dkIAAADU30R2QgAAQCbaTnZCAACAeNRYdkIAAABlfGJ2QgAAAB3JbHZCAACACXF2dkIAAMBba4B2QgAAAK5linZCAAAAz2iTdkIAAIC7EJ12QgAAAKi4pnZCAABA+rKwdkIAAMDmWrp2QgAAADlVxHZCAABAi0/OdkIAAMB399d2QgAAwC9E4nZCAABAHOzrdkIAAIBu5vV2QgAAwMDg/3ZCAACARzYJd0IAAAA03hJ3QgAAgCCGHHdCAADAcoAmd0IAAEBfKDB3QgAAgLEiOndCAADAAx1Ed0IAAEDwxE13QgAAQKgRWHdCAADAlLlhd0IAAADns2t3QgAAQDmudXdCAABAWrF+d0IAAMBGWYh3QgAAQDMBkndCAACAhfubd0IAAAByo6V3QgAAQMSdr3dCAACAFpi5d0IAAAADQMN3QgAAwJYlxndC\",\"dtype\":\"float64\",\"order\":\"little\",\"shape\":[75]},\"High\":{\"__ndarray__\":\"AAAAwKlI9j8AAAAgU4X1PwAAAIDls/E/AAAA4NW58D8AAADgJ7IGQAAAAKDylhpAAAAAoKKDLkAAAACgZ7MnQAAAAKCtGC5AAAAAoM+FNUAAAACgPMwtQAAAAMBk6ihAAAAAYELeLEAAAABA3w8rQAAAACClfSZAAAAAQAC5IUAAAAAAJMgnQAAAAOA0DzBAAAAAgK6OS0AAAABgW8FTQAAAAEDhnm1AAAAAoBjseUAAAADgJHhyQAAAAMD3S3hAAAAAQLRgeEAAAAAghdV1QAAAAMB0UoBAAAAAQI2Pi0AAAAAghWOWQAAAAGBmJZJAAAAAgGqCi0AAAAAAACeGQAAAAMB0GIpAAAAAoBqEg0AAAADAdguAQAAAAOBPN3tAAAAA4E3SckAAAADgo0RtQAAAACDdtGtAAAAAAGa1Y0AAAACAZRpkQAAAAICWsWRAAAAAoJ+zYkAAAABgFwxnQAAAAOA583FAAAAAAGGWdkAAAADgkeNzQAAAAIC1421AAAAA4OTba0AAAAAAKX5oQAAAACCDMWhAAAAAAPkkY0AAAADgVUhnQAAAAKD68XFAAAAAwE8/b0AAAABA83BsQAAAAMBygW5AAAAAoBqHb0AAAAAgyMl1QAAAAIA+yXtAAAAA4GNzfkAAAABAREJ6QAAAACBjaYNAAAAAAG2Sh0AAAADAI++WQAAAAGAl0Z9AAAAA4FlvnkAAAADg8dulQAAAAMBZCrFAAAAAgIKWpkAAAACAUu6jQAAAAAD8FatAAAAAQPBsr0AAAABA6qesQAAAAGB+U6xA\",\"dtype\":\"float64\",\"order\":\"little\",\"shape\":[75]},\"Low\":{\"__ndarray__\":\"AAAAoHPT4T8AAAAA+u/aPwAAAMClOOc/AAAAgNan6D8AAABgNcHtPwAAAOAz7gBAAAAAIEM8GUAAAABAZTwcQAAAAEBe3SBAAAAAQGLtI0AAAACACycjQAAAAODmZiBAAAAAoDqBJkAAAADgZCAjQAAAAGC/gB9AAAAA4FzqF0AAAACg4u0fQAAAAKCSGiVAAAAAICgeL0AAAABAV3NEQAAAAOCKRVJAAAAAIFzPakAAAADgIrdgQAAAACAElmlAAAAAwB5haEAAAABAM1lxQAAAAIDAknFAAAAAgJPmeUAAAABACDCHQAAAACBa84FAAAAAwCAKd0AAAABA4bx2QAAAAIBqBIBAAAAA4CZ/eUAAAADA9Wx6QAAAAMDM1G9AAAAAYDlIZUAAAADAn5ZnQAAAAKBHcVlAAAAA4By1VEAAAACgiNVZQAAAAODPu1lAAAAA4MVZX0AAAAAgmpdhQAAAAIAg9WNAAAAA4DyobEAAAACAsT9oQAAAAABJ4mRAAAAAoCukY0AAAABg1K5jQAAAAMCsuWBAAAAAgOzxXUAAAACAXJ9fQAAAAIDYd2ZAAAAAoMvLV0AAAADgYzdgQAAAAKD8lmZAAAAAICBva0AAAACAbBFsQAAAACBmeXVAAAAAwGPMc0AAAACgifh0QAAAAAABNXdAAAAAwPyngEAAAABA4HCGQAAAAGBu6ZNAAAAAIKohlkAAAADAtuCdQAAAAADgJZtAAAAAAGeumkAAAAAANOiaQAAAAAC1IqNAAAAAoNDopEAAAAAAT0WnQAAAAEDWtKtA\",\"dtype\":\"float64\",\"order\":\"little\",\"shape\":[75]},\"Open\":{\"__ndarray__\":\"AAAAoNqn9T8AAABgcX/nPwAAACCUd+0/AAAAICob7D8AAAAA+ODtPwAAAKC5jgJAAAAAQPlGGUAAAACAG80mQAAAAEDXjCFAAAAAwDc4LEAAAACgTuAoQAAAAEAjyidAAAAAwEtXJ0AAAADgCWgqQAAAAMBk6iVAAAAAgAc0IUAAAACg4u0fQAAAAKCLeyVAAAAAQMSxL0AAAABAUARJQAAAACCV1FNAAAAAIFrcbEAAAADgpVVyQAAAACAElmlAAAAA4Hj3d0AAAACAwNhyQAAAACAxHHNAAAAAIFjTe0AAAABgDp6HQAAAAOB6fZFAAAAAoBjAikAAAABgENR4QAAAAEC084RAAAAAQGAVgkAAAABA33N8QAAAAGDnHXtAAAAAoO+3cUAAAABACidtQAAAACAvsWhAAAAA4HRZXEAAAACAYa1gQAAAAKBzyVpAAAAAgMIaYUAAAABA5a5hQAAAAED4RWRAAAAAAO/GcEAAAADASyRyQAAAAEC/UWtAAAAAQKuOZUAAAAAgsYZmQAAAAOC3+WZAAAAA4L0PY0AAAABgLjRgQAAAAACkg2ZAAAAAABZ4a0AAAAAgmLNgQAAAAADb/GlAAAAAQIfbbEAAAACATkRsQAAAACDHnHVAAAAAwP0te0AAAAAAE4B2QAAAAAByKXhAAAAAAJA4g0AAAADAqg2HQAAAAMBri5RAAAAAwJoklkAAAAAAofydQAAAAECtqaVAAAAAAB8npUAAAACAy8ShQAAAAADtxKNAAAAAYIbNqkAAAABAQnKnQAAAAGC/u6tA\",\"dtype\":\"float64\",\"order\":\"little\",\"shape\":[75]},\"Volume\":[19920655,19815600,25989045,14436832,99427369,350388940,911491280,503439580,866285490,1179208426,851472184,507070296,347623070,311770270,263548890,388060700,521748480,467166760,4324810304,3154319672,14679954720,34410801184,31034420096,33197513792,24310299968,13427328896,31904819744,79862276544,163610220288,83393441152,53716179584,60669918656,81752720256,55077550208,52395320112,49073240000,55203910000,44459810000,59375107547,72329895639,85054975141,101430995445,138882123600,204556824026,314349041886,270589672710,249663340219,203391541658,223404691299,251679512754,252844958892,247117483830,327976431869,578092481246,498921414458,515444186301,505593287696,252220724156,251431946993,374122796720,503460977506,360623040866,487476388045,470673397126,1186797483413,1007718046121,730832219123,995334204881,1510329786014,813523116983,591738936958,703006251884,653984909752,148574188916,13415179264],\"index\":[0,1,2,3,4,5,6,7,8,9,10,11,12,13,14,15,16,17,18,19,20,21,22,23,24,25,26,27,28,29,30,31,32,33,34,35,36,37,38,39,40,41,42,43,44,45,46,47,48,49,50,51,52,53,54,55,56,57,58,59,60,61,62,63,64,65,66,67,68,69,70,71,72,73,74]},\"selected\":{\"id\":\"4693\"},\"selection_policy\":{\"id\":\"4694\"}},\"id\":\"4637\",\"type\":\"ColumnDataSource\"},{\"attributes\":{\"callback\":null,\"formatters\":{\"Date\":\"datetime\"},\"names\":[\"price\"],\"tooltips\":[[\"Datetime\",\"@Date{%Y-%m-%d}\"],[\"Open\",\"@Open{$0,0.00}\"],[\"Close\",\"@Close{$0,0.00}\"],[\"Volume\",\"@Volume{($ 0.00 a)}\"]]},\"id\":\"4885\",\"type\":\"HoverTool\"},{\"attributes\":{},\"id\":\"4693\",\"type\":\"Selection\"},{\"attributes\":{\"bottom\":{\"field\":\"Close\"},\"fill_color\":{\"value\":\"#d62728\"},\"line_color\":{\"value\":\"#d62728\"},\"top\":{\"field\":\"Open\"},\"width\":{\"value\":0.2},\"x\":{\"field\":\"index\"}},\"id\":\"4909\",\"type\":\"VBar\"},{\"attributes\":{},\"id\":\"4873\",\"type\":\"LinearScale\"},{\"attributes\":{},\"id\":\"4886\",\"type\":\"ResetTool\"},{\"attributes\":{},\"id\":\"4880\",\"type\":\"BasicTicker\"},{\"attributes\":{\"bottom\":{\"field\":\"Close\"},\"fill_alpha\":{\"value\":0.1},\"fill_color\":{\"value\":\"#1f77b4\"},\"line_alpha\":{\"value\":0.1},\"line_color\":{\"value\":\"#1f77b4\"},\"top\":{\"field\":\"Open\"},\"width\":{\"value\":0.2},\"x\":{\"field\":\"index\"}},\"id\":\"4906\",\"type\":\"VBar\"},{\"attributes\":{\"desired_num_ticks\":40},\"id\":\"4876\",\"type\":\"BasicTicker\"},{\"attributes\":{},\"id\":\"4694\",\"type\":\"UnionRenderers\"},{\"attributes\":{\"data_source\":{\"id\":\"4637\"},\"glyph\":{\"id\":\"4905\"},\"hover_glyph\":null,\"muted_glyph\":null,\"name\":\"price\",\"nonselection_glyph\":{\"id\":\"4906\"},\"selection_glyph\":null,\"view\":{\"id\":\"4893\"}},\"id\":\"4907\",\"type\":\"GlyphRenderer\"},{\"attributes\":{\"text\":\"Stock price\"},\"id\":\"4865\",\"type\":\"Title\"},{\"attributes\":{},\"id\":\"4871\",\"type\":\"LinearScale\"},{\"attributes\":{\"line_color\":{\"value\":\"#2ca02c\"},\"x0\":{\"field\":\"index\"},\"x1\":{\"field\":\"index\"},\"y0\":{\"field\":\"Low\"},\"y1\":{\"field\":\"High\"}},\"id\":\"4901\",\"type\":\"Segment\"},{\"attributes\":{\"data_source\":{\"id\":\"4637\"},\"glyph\":{\"id\":\"4901\"},\"hover_glyph\":null,\"muted_glyph\":null,\"nonselection_glyph\":{\"id\":\"4902\"},\"selection_glyph\":null,\"view\":{\"id\":\"4895\"}},\"id\":\"4903\",\"type\":\"GlyphRenderer\"},{\"attributes\":{\"data_source\":{\"id\":\"4637\"},\"glyph\":{\"id\":\"4897\"},\"hover_glyph\":null,\"muted_glyph\":null,\"nonselection_glyph\":{\"id\":\"4898\"},\"selection_glyph\":null,\"view\":{\"id\":\"4893\"}},\"id\":\"4899\",\"type\":\"GlyphRenderer\"},{\"attributes\":{\"format\":\"$ 0,0[.]000\"},\"id\":\"4913\",\"type\":\"NumeralTickFormatter\"},{\"attributes\":{\"line_alpha\":{\"value\":0.1},\"line_color\":{\"value\":\"#2ca02c\"},\"x0\":{\"field\":\"index\"},\"x1\":{\"field\":\"index\"},\"y0\":{\"field\":\"Low\"},\"y1\":{\"field\":\"High\"}},\"id\":\"4902\",\"type\":\"Segment\"},{\"attributes\":{\"axis\":{\"id\":\"4875\"},\"ticker\":null},\"id\":\"4878\",\"type\":\"Grid\"},{\"attributes\":{\"range_padding\":0.05},\"id\":\"4867\",\"type\":\"DataRange1d\"}],\"root_ids\":[\"4864\"]},\"title\":\"Bokeh Application\",\"version\":\"2.2.3\"}};\n",
       "  var render_items = [{\"docid\":\"030d0ff7-f1cf-40e5-862c-a91df3ec1669\",\"root_ids\":[\"4864\"],\"roots\":{\"4864\":\"d4799341-ae7b-4bda-9812-8349898c62d1\"}}];\n",
       "  root.Bokeh.embed.embed_items_notebook(docs_json, render_items);\n",
       "\n",
       "  }\n",
       "  if (root.Bokeh !== undefined) {\n",
       "    embed_document(root);\n",
       "  } else {\n",
       "    var attempts = 0;\n",
       "    var timer = setInterval(function(root) {\n",
       "      if (root.Bokeh !== undefined) {\n",
       "        clearInterval(timer);\n",
       "        embed_document(root);\n",
       "      } else {\n",
       "        attempts++;\n",
       "        if (attempts > 100) {\n",
       "          clearInterval(timer);\n",
       "          console.log(\"Bokeh: ERROR: Unable to run BokehJS code because BokehJS library is missing\");\n",
       "        }\n",
       "      }\n",
       "    }, 10, root)\n",
       "  }\n",
       "})(window);"
      ],
      "application/vnd.bokehjs_exec.v0+json": ""
     },
     "metadata": {
      "application/vnd.bokehjs_exec.v0+json": {
       "id": "4864"
      }
     },
     "output_type": "display_data"
    }
   ],
   "source": [
    "show(plot_stock_price(stock))"
   ]
  },
  {
   "cell_type": "markdown",
   "id": "5c6946a7",
   "metadata": {},
   "source": [
    "Esto es con MPLFINANCE"
   ]
  },
  {
   "cell_type": "code",
   "execution_count": 40,
   "id": "8cbb14d8",
   "metadata": {},
   "outputs": [
    {
     "name": "stdout",
     "output_type": "stream",
     "text": [
      "Collecting mplfinance\n",
      "  Downloading mplfinance-0.12.7a17-py3-none-any.whl (62 kB)\n",
      "Requirement already satisfied: matplotlib in c:\\users\\nbuccolo\\anaconda3\\envs\\dhdsblend2021\\lib\\site-packages (from mplfinance) (3.3.2)\n",
      "Requirement already satisfied: pandas in c:\\users\\nbuccolo\\anaconda3\\envs\\dhdsblend2021\\lib\\site-packages (from mplfinance) (1.3.2)\n",
      "Requirement already satisfied: numpy>=1.15 in c:\\users\\nbuccolo\\anaconda3\\envs\\dhdsblend2021\\lib\\site-packages (from matplotlib->mplfinance) (1.19.2)\n",
      "Requirement already satisfied: cycler>=0.10 in c:\\users\\nbuccolo\\anaconda3\\envs\\dhdsblend2021\\lib\\site-packages (from matplotlib->mplfinance) (0.10.0)\n",
      "Requirement already satisfied: certifi>=2020.06.20 in c:\\users\\nbuccolo\\anaconda3\\envs\\dhdsblend2021\\lib\\site-packages (from matplotlib->mplfinance) (2021.5.30)\n",
      "Requirement already satisfied: pillow>=6.2.0 in c:\\users\\nbuccolo\\anaconda3\\envs\\dhdsblend2021\\lib\\site-packages (from matplotlib->mplfinance) (8.3.1)\n",
      "Requirement already satisfied: kiwisolver>=1.0.1 in c:\\users\\nbuccolo\\anaconda3\\envs\\dhdsblend2021\\lib\\site-packages (from matplotlib->mplfinance) (1.3.1)\n",
      "Requirement already satisfied: pyparsing!=2.0.4,!=2.1.2,!=2.1.6,>=2.0.3 in c:\\users\\nbuccolo\\anaconda3\\envs\\dhdsblend2021\\lib\\site-packages (from matplotlib->mplfinance) (2.4.7)\n",
      "Requirement already satisfied: python-dateutil>=2.1 in c:\\users\\nbuccolo\\anaconda3\\envs\\dhdsblend2021\\lib\\site-packages (from matplotlib->mplfinance) (2.8.2)\n",
      "Requirement already satisfied: six in c:\\users\\nbuccolo\\anaconda3\\envs\\dhdsblend2021\\lib\\site-packages (from cycler>=0.10->matplotlib->mplfinance) (1.16.0)\n",
      "Requirement already satisfied: pytz>=2017.3 in c:\\users\\nbuccolo\\anaconda3\\envs\\dhdsblend2021\\lib\\site-packages (from pandas->mplfinance) (2021.1)\n",
      "Installing collected packages: mplfinance\n",
      "Successfully installed mplfinance-0.12.7a17\n",
      "Note: you may need to restart the kernel to use updated packages.\n"
     ]
    }
   ],
   "source": [
    "pip install --upgrade mplfinance"
   ]
  },
  {
   "cell_type": "code",
   "execution_count": 41,
   "id": "48cea1c3",
   "metadata": {},
   "outputs": [],
   "source": [
    "import mplfinance as mpf"
   ]
  },
  {
   "cell_type": "code",
   "execution_count": 43,
   "id": "fe6a1847",
   "metadata": {},
   "outputs": [],
   "source": [
    "def prueba (activo,start,period):\n",
    "    tipo = 0\n",
    "    start = datetime.datetime.strptime(start,\"%Y, %m, %d\" )\n",
    "    end = datetime.datetime.now()\n",
    "    df = web.get_data_yahoo(activo, start, end, interval=period)\n",
    "    return df"
   ]
  },
  {
   "cell_type": "code",
   "execution_count": 56,
   "id": "aab4c742",
   "metadata": {},
   "outputs": [
    {
     "data": {
      "image/png": "[encoded data removed]",
      "text/plain": [
       "<Figure size 800x575 with 4 Axes>"
      ]
     },
     "metadata": {},
     "output_type": "display_data"
    }
   ],
   "source": [
    "mpf.plot(prueba(\"amzn\",\"2015, 1, 1\",\"m\"),type='candle',mav=(3,6,9),volume=True)"
   ]
  },
  {
   "cell_type": "code",
   "execution_count": null,
   "id": "458162b3",
   "metadata": {},
   "outputs": [],
   "source": [
    "import yaml\n",
    "\n",
    "from bokeh.layouts import column\n",
    "from bokeh.models import ColumnDataSource, Slider\n",
    "from bokeh.plotting import figure\n",
    "from bokeh.themes import Theme\n",
    "from bokeh.io import show, output_notebook\n",
    "\n",
    "from bokeh.sampledata.sea_surface_temperature import sea_surface_temperature\n",
    "\n",
    "output_notebook()"
   ]
  },
  {
   "cell_type": "code",
   "execution_count": null,
   "id": "5baf34cc",
   "metadata": {},
   "outputs": [],
   "source": []
  },
  {
   "cell_type": "markdown",
   "id": "88d4b8cf",
   "metadata": {},
   "source": [
    "#para abajo es codigo repetido o que no utilicé arriba!"
   ]
  },
  {
   "cell_type": "code",
   "execution_count": null,
   "id": "31fe23aa",
   "metadata": {},
   "outputs": [],
   "source": [
    "start = datetime.datetime(2010, 1, 1)\n",
    "end = datetime.datetime.now()\n",
    "df = web.get_data_yahoo(\"ko\", start, end, interval=\"m\")\n",
    "df = df[[\"Close\",\"Volume\"]]"
   ]
  },
  {
   "cell_type": "code",
   "execution_count": null,
   "id": "d7e16245",
   "metadata": {},
   "outputs": [],
   "source": [
    "df[\"timeIndex\"] = pd.Series(np.arange(len(df['Close'])), index=df.index)\n",
    "df['log_value'] = np.log(df['Close'])\n",
    "df[\"sqrt\"] = np.sqrt(df[\"Close\"])\n",
    "\n",
    "df['month'] = [d.strftime('%b') for d in df.index]\n",
    "#df[\"day\"] = [d.strftime('%d') for d in df.index]\n",
    "dummies_mes = pd.get_dummies(df['month'],drop_first=True)\n",
    "#dummies_dia = pd.get_dummies(df['day'],drop_first=True,prefix=\"day\")\n",
    "df = df.join(dummies_mes)\n",
    "#df = df.join(dummies_dia)\n"
   ]
  },
  {
   "cell_type": "code",
   "execution_count": null,
   "id": "cc4f7d5c",
   "metadata": {},
   "outputs": [],
   "source": [
    "df.tail()"
   ]
  },
  {
   "cell_type": "code",
   "execution_count": null,
   "id": "f8c794b9",
   "metadata": {},
   "outputs": [],
   "source": [
    "df.info()"
   ]
  },
  {
   "cell_type": "code",
   "execution_count": null,
   "id": "fa2242c6",
   "metadata": {},
   "outputs": [],
   "source": [
    "# Dividimos en train y test\n",
    "from sklearn.model_selection import train_test_split\n",
    "df_train, df_test = train_test_split(df, test_size=6, random_state=42, shuffle=False)"
   ]
  },
  {
   "cell_type": "code",
   "execution_count": null,
   "id": "d38afc17",
   "metadata": {},
   "outputs": [],
   "source": []
  },
  {
   "cell_type": "code",
   "execution_count": null,
   "id": "2d412054",
   "metadata": {},
   "outputs": [],
   "source": [
    "model_log_est = smf.ols('log_value ~ timeIndex + Volume + Aug + Dec + Feb + Jan + Jul + Jun + Mar + May + Nov + Oct + Sep ',data = df_train).fit()"
   ]
  },
  {
   "cell_type": "code",
   "execution_count": null,
   "id": "a7f8b4ae",
   "metadata": {},
   "outputs": [],
   "source": [
    "df_train['model_log_est'] = model_log_est.predict(df_train[[\"timeIndex\", \"Volume\",\\\n",
    "                                        \"Aug\", \"Dec\", \"Feb\", \"Jan\",\"Jul\", \"Jun\", \"Mar\", \"May\",\\\n",
    "                                                \"Nov\", \"Oct\", \"Sep\"]])\n",
    "\n",
    "\n",
    "df_test['model_log_est'] = model_log_est.predict(df_test[[\"timeIndex\", \"Volume\",\\\n",
    "                                        \"Aug\", \"Dec\", \"Feb\", \"Jan\",\"Jul\", \"Jun\", \"Mar\", \"May\",\\\n",
    "                                                \"Nov\", \"Oct\", \"Sep\"]])"
   ]
  },
  {
   "cell_type": "code",
   "execution_count": null,
   "id": "8a26f7a2",
   "metadata": {},
   "outputs": [],
   "source": [
    "# Recuperamos el valor predicho aplicando la función exponencial sobre las predicciones.\n",
    "df_train['back_model_log_est'] = np.exp(df_train['model_log_est'])\n",
    "df_test['back_model_log_est'] = np.exp(df_test['model_log_est'])"
   ]
  },
  {
   "cell_type": "code",
   "execution_count": null,
   "id": "3032bb37",
   "metadata": {},
   "outputs": [],
   "source": []
  },
  {
   "cell_type": "raw",
   "id": "19923d08",
   "metadata": {},
   "source": [
    "model_sqrt_est = smf.ols('sqrt ~ timeIndex + day_02 + day_03 + day_04 + day_05 + day_06 + day_07 + day_08 + day_09 + day_10 + day_11 + day_12 + day_13 + day_14 + day_15 + day_16 + day_17 + day_18 + day_19 + day_20 + day_21 + day_22 + day_23 + day_24 + day_25 + day_26 + day_27 + day_28 + day_29 + day_30 + day_31 + Aug + Dec + Feb + Jan + Jul + Jun + Mar + May + Nov + Oct + Sep ',data = df_train).fit()"
   ]
  },
  {
   "cell_type": "raw",
   "id": "e23ba2aa",
   "metadata": {},
   "source": [
    "df_train['model_sqrt_est'] = model_sqrt_est.predict(df_train[[\"timeIndex\", \\\n",
    "                                        \"day_02\", \"day_03\", \"day_04\",\"day_05\",\\\n",
    "                                        \"day_06\",\"day_07\",\"day_08\",\"day_09\",\"day_10\",\\\n",
    "                                        \"day_11\",\"day_12\",\"day_13\",\"day_14\",\"day_15\",\\\n",
    "                                        \"day_16\",\"day_17\",\"day_18\",\"day_19\",\"day_20\",\\\n",
    "                                        \"day_21\",\"day_22\",\"day_23\",\"day_24\",\"day_25\",\\\n",
    "                                        \"day_26\",\"day_27\",\"day_28\",\"day_29\",\"day_30\",\"day_31\",\\\n",
    "                                        \"Aug\", \"Dec\", \"Feb\", \"Jan\",\"Jul\", \"Jun\", \"Mar\", \"May\",\\\n",
    "                                                \"Nov\", \"Oct\", \"Sep\"]])\n",
    "\n",
    "\n",
    "df_test['model_sqrt_est'] = model_sqrt_est.predict(df_test[[\"timeIndex\", \\\n",
    "                                        \"day_02\", \"day_03\", \"day_04\",\"day_05\",\\\n",
    "                                        \"day_06\",\"day_07\",\"day_08\",\"day_09\",\"day_10\",\\\n",
    "                                        \"day_11\",\"day_12\",\"day_13\",\"day_14\",\"day_15\",\\\n",
    "                                        \"day_16\",\"day_17\",\"day_18\",\"day_19\",\"day_20\",\\\n",
    "                                        \"day_21\",\"day_22\",\"day_23\",\"day_24\",\"day_25\",\\\n",
    "                                        \"day_26\",\"day_27\",\"day_28\",\"day_29\",\"day_30\",\"day_31\",\\\n",
    "                                        \"Aug\", \"Dec\", \"Feb\", \"Jan\",\"Jul\", \"Jun\", \"Mar\", \"May\",\\\n",
    "                                                \"Nov\", \"Oct\", \"Sep\"]])"
   ]
  },
  {
   "cell_type": "markdown",
   "id": "35e5d4e3",
   "metadata": {},
   "source": [
    "Resiudos del modelo"
   ]
  },
  {
   "cell_type": "code",
   "execution_count": null,
   "id": "e9e0380b",
   "metadata": {},
   "outputs": [],
   "source": [
    "res_model = df_train['Close'] - df_train['back_model_log_est']\n",
    "\n",
    "plt.plot(df_train.timeIndex, res_model, '-');"
   ]
  },
  {
   "cell_type": "code",
   "execution_count": null,
   "id": "e538a923",
   "metadata": {},
   "outputs": [],
   "source": [
    "# Testeamos la estacionariedad de los residuos:\n",
    "\n",
    "from statsmodels.tsa.stattools import adfuller\n",
    "\n",
    "result = adfuller(res_model)\n",
    "print('ADF Statistic: %f' % result[0])\n",
    "print('p-value: %f' % result[1])\n",
    "for key, value in  result[4].items():\n",
    "    print('Valor crítico %s: %.2f' % (key,value))"
   ]
  },
  {
   "cell_type": "markdown",
   "id": "1c4c04eb",
   "metadata": {},
   "source": [
    "Residuos del logaritmo"
   ]
  },
  {
   "cell_type": "code",
   "execution_count": null,
   "id": "ec611c10",
   "metadata": {},
   "outputs": [],
   "source": [
    "res_log_est = df_train['log_value'] - df_train['model_log_est']\n",
    "\n",
    "plt.plot(df_train.timeIndex, res_log_est, '-');"
   ]
  },
  {
   "cell_type": "code",
   "execution_count": null,
   "id": "e4eb75fb",
   "metadata": {},
   "outputs": [],
   "source": [
    "# Testeamos la estacionariedad de los residuos:\n",
    "\n",
    "from statsmodels.tsa.stattools import adfuller\n",
    "\n",
    "result = adfuller(res_log_est)\n",
    "print('ADF Statistic: %f' % result[0])\n",
    "print('p-value: %f' % result[1])\n",
    "for key, value in  result[4].items():\n",
    "    print('Valor crítico %s: %.2f' % (key,value))"
   ]
  },
  {
   "cell_type": "markdown",
   "id": "61f4ce19",
   "metadata": {},
   "source": [
    "Residuos de la raiz cuadrada"
   ]
  },
  {
   "cell_type": "raw",
   "id": "e8b01e4b",
   "metadata": {},
   "source": [
    "df_train['back_model_sqrt_est'] = (df_train['model_sqrt_est'])**2\n",
    "df_test['back_model_sqrt_est'] = (df_test['model_sqrt_est'])**2"
   ]
  },
  {
   "cell_type": "raw",
   "id": "4a8562ca",
   "metadata": {},
   "source": [
    "res_sqrt_est = df_train['Close'] - df_train['back_model_sqrt_est']\n",
    "\n",
    "plt.plot(df_train.timeIndex, res_sqrt_est, '-');"
   ]
  },
  {
   "cell_type": "raw",
   "id": "a039c5e3",
   "metadata": {},
   "source": [
    "# Testeamos la estacionariedad de los residuos:\n",
    "\n",
    "from statsmodels.tsa.stattools import adfuller\n",
    "\n",
    "result = adfuller(res_sqrt_est)\n",
    "print('ADF Statistic: %f' % result[0])\n",
    "print('p-value: %f' % result[1])\n",
    "for key, value in  result[4].items():\n",
    "    print('Valor crítico %s: %.2f' % (key,value))"
   ]
  },
  {
   "cell_type": "code",
   "execution_count": null,
   "id": "e99e2f4e",
   "metadata": {},
   "outputs": [],
   "source": []
  },
  {
   "cell_type": "code",
   "execution_count": null,
   "id": "857e89de",
   "metadata": {},
   "outputs": [],
   "source": [
    "from statsmodels.tsa.stattools import acf, pacf\n",
    "from statsmodels.graphics.tsaplots import plot_acf, plot_pacf"
   ]
  },
  {
   "cell_type": "code",
   "execution_count": null,
   "id": "92f1eab5",
   "metadata": {},
   "outputs": [],
   "source": [
    "lag_acf = acf(res_model, nlags = 20)\n",
    "lag_acf"
   ]
  },
  {
   "cell_type": "code",
   "execution_count": null,
   "id": "5964f738",
   "metadata": {},
   "outputs": [],
   "source": [
    "ACF = pd.Series(lag_acf)\n",
    "ACF.plot(kind = \"bar\");"
   ]
  },
  {
   "cell_type": "code",
   "execution_count": null,
   "id": "f951e809",
   "metadata": {},
   "outputs": [],
   "source": [
    "lag_pacf = pacf(res_model, nlags=20, method='ols');"
   ]
  },
  {
   "cell_type": "code",
   "execution_count": null,
   "id": "d2072fd8",
   "metadata": {},
   "outputs": [],
   "source": [
    "PACF = pd.Series(lag_pacf)\n",
    "PACF.plot(kind = \"bar\");"
   ]
  },
  {
   "cell_type": "code",
   "execution_count": null,
   "id": "67b33603",
   "metadata": {},
   "outputs": [],
   "source": [
    "def tsplot(y, lags=None, figsize=(12, 7), style='bmh'):\n",
    "    \"\"\" \n",
    "        Plotea la serie de tiempo, el ACF y PACF y el test de Dickey–Fuller\n",
    "        \n",
    "        y - serie de tiempo\n",
    "        lags - cuántos lags incluir para el cálculo de la ACF y PACF\n",
    "        \n",
    "    \"\"\"\n",
    "    if not isinstance(y, pd.Series):\n",
    "        y = pd.Series(y)\n",
    "        \n",
    "    with plt.style.context(style):    \n",
    "        fig = plt.figure(figsize=figsize)\n",
    "        layout = (2, 2)\n",
    "        \n",
    "        # definimos ejes\n",
    "        ts_ax = plt.subplot2grid(layout, (0, 0), colspan=2)\n",
    "        acf_ax = plt.subplot2grid(layout, (1, 0))\n",
    "        pacf_ax = plt.subplot2grid(layout, (1, 1))\n",
    "        \n",
    "        y.plot(ax=ts_ax)\n",
    "        \n",
    "        # obtengo el p-value con h0: raiz unitaria presente\n",
    "        p_value = sm.tsa.stattools.adfuller(y)[1]\n",
    "        \n",
    "        ts_ax.set_title('Análisis de la Serie de Tiempo\\n Dickey-Fuller: p={0:.5f}'\\\n",
    "                        .format(p_value))\n",
    "        \n",
    "        # plot de autocorrelacion\n",
    "        smt.graphics.plot_acf(y, lags=lags, ax=acf_ax)\n",
    "        # plot de autocorrelacion parcial\n",
    "        smt.graphics.plot_pacf(y, lags=lags, ax=pacf_ax)\n",
    "        plt.tight_layout()"
   ]
  },
  {
   "cell_type": "code",
   "execution_count": null,
   "id": "66883949",
   "metadata": {},
   "outputs": [],
   "source": [
    "tsplot(res_model, lags=40)"
   ]
  },
  {
   "cell_type": "code",
   "execution_count": null,
   "id": "3d0df038",
   "metadata": {},
   "outputs": [],
   "source": [
    "from statsmodels.tsa.arima_model import ARIMA"
   ]
  },
  {
   "cell_type": "code",
   "execution_count": null,
   "id": "3bb96b8a",
   "metadata": {},
   "outputs": [],
   "source": []
  },
  {
   "cell_type": "code",
   "execution_count": null,
   "id": "84df0281",
   "metadata": {},
   "outputs": [],
   "source": [
    "model_ARIMA = ARIMA(res_model, order=(2,0,4))\n",
    "\n",
    "# Estimo el modelo:\n",
    "results_ARIMA = model_ARIMA.fit()\n",
    "results_ARIMA.fittedvalues.head()"
   ]
  },
  {
   "cell_type": "code",
   "execution_count": null,
   "id": "8b0370f1",
   "metadata": {},
   "outputs": [],
   "source": []
  },
  {
   "cell_type": "code",
   "execution_count": null,
   "id": "e4471a4f",
   "metadata": {},
   "outputs": [],
   "source": [
    "print(results_ARIMA.summary())"
   ]
  },
  {
   "cell_type": "code",
   "execution_count": null,
   "id": "0587d3fe",
   "metadata": {},
   "outputs": [],
   "source": [
    "plt.figure(figsize=(7,3.5))\n",
    "res_model.plot()\n",
    "results_ARIMA.fittedvalues.plot();"
   ]
  },
  {
   "cell_type": "code",
   "execution_count": null,
   "id": "65e0c7f1",
   "metadata": {},
   "outputs": [],
   "source": [
    "results_ARIMA.plot_predict(end=len(df['Close']));"
   ]
  },
  {
   "cell_type": "code",
   "execution_count": null,
   "id": "0cb1d54f",
   "metadata": {},
   "outputs": [],
   "source": [
    "res_ARIMA =  results_ARIMA.fittedvalues - res_model"
   ]
  },
  {
   "cell_type": "code",
   "execution_count": null,
   "id": "7aba95be",
   "metadata": {},
   "outputs": [],
   "source": [
    "tsplot(res_ARIMA, lags=20)"
   ]
  },
  {
   "cell_type": "code",
   "execution_count": null,
   "id": "2c7f777f",
   "metadata": {},
   "outputs": [],
   "source": [
    "predictions_ARIMA, se, conf = results_ARIMA.forecast(len(df_test['Close']), alpha=0.05)"
   ]
  },
  {
   "cell_type": "code",
   "execution_count": null,
   "id": "fc2a5366",
   "metadata": {},
   "outputs": [],
   "source": [
    "df_train['model_ARIMA'] = df_train['back_model_log_est'] + results_ARIMA.fittedvalues\n",
    "\n",
    "correccion = + df_train.Close.tail(1)[0] - df_train.model_ARIMA.tail(1)[0]\n",
    "\n",
    "df_test['model_ARIMA'] = df_test['back_model_log_est'] + predictions_ARIMA\n"
   ]
  },
  {
   "cell_type": "code",
   "execution_count": null,
   "id": "4b983d5c",
   "metadata": {},
   "outputs": [],
   "source": [
    "df_train.plot(kind = \"line\", y = ['Close', 'model_ARIMA']);"
   ]
  },
  {
   "cell_type": "code",
   "execution_count": null,
   "id": "4315b0f1",
   "metadata": {},
   "outputs": [],
   "source": [
    "def RMSE(predicted, actual):\n",
    "    mse = (predicted - actual) ** 2\n",
    "    rmse = np.sqrt(mse.sum() / mse.count())\n",
    "    return rmse"
   ]
  },
  {
   "cell_type": "code",
   "execution_count": null,
   "id": "0c34336c",
   "metadata": {},
   "outputs": [],
   "source": [
    "df_Results = pd.DataFrame(columns = [\"Model\", \"RMSE\"])\n",
    "df_Results.loc[0, \"Model\"] = \"Model + est + ARIMA\"\n",
    "df_Results.loc[0, \"RMSE\"] = RMSE(df_test['model_ARIMA'], df_test['Close'])\n",
    "df_Results"
   ]
  },
  {
   "cell_type": "code",
   "execution_count": null,
   "id": "cda36891",
   "metadata": {},
   "outputs": [],
   "source": [
    "df_test.plot(kind = \"line\", y = ['Close', 'model_ARIMA']);"
   ]
  },
  {
   "cell_type": "code",
   "execution_count": null,
   "id": "7de3a46f",
   "metadata": {},
   "outputs": [],
   "source": [
    "df_test"
   ]
  },
  {
   "cell_type": "code",
   "execution_count": null,
   "id": "9af82e7b",
   "metadata": {},
   "outputs": [],
   "source": [
    "df_train.Close.tail(1)[0] - df_train.model_ARIMA.tail(1)[0]"
   ]
  }
 ],
 "metadata": {
  "kernelspec": {
   "display_name": "Python [conda env:dhdsblend2021] *",
   "language": "python",
   "name": "conda-env-dhdsblend2021-py"
  },
  "language_info": {
   "codemirror_mode": {
    "name": "ipython",
    "version": 3
   },
   "file_extension": ".py",
   "mimetype": "text/x-python",
   "name": "python",
   "nbconvert_exporter": "python",
   "pygments_lexer": "ipython3",
   "version": "3.8.11"
  }
 },
 "nbformat": 4,
 "nbformat_minor": 5
}
